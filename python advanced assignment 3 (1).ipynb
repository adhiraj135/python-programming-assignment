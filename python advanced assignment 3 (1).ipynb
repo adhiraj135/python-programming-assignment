{
 "cells": [
  {
   "cell_type": "markdown",
   "id": "0ebb463b",
   "metadata": {},
   "source": [
    "1. What is the concept of an abstract superclass?"
   ]
  },
  {
   "cell_type": "markdown",
   "id": "600df268",
   "metadata": {},
   "source": [
    "ans: An abstract class can be considered as a blueprint for other classes. It allows you to create a set of methods that must be created within any child classes built from the abstract class. A class which contains one or more abstract methods is called an abstract class. An abstract method is a method that has a declaration but does not have an implementation. "
   ]
  },
  {
   "cell_type": "code",
   "execution_count": 3,
   "id": "5308694c",
   "metadata": {},
   "outputs": [],
   "source": [
    "from abc import ABC,abstractmethod\n",
    "class polygon(ABC):\n",
    "    @abstractmethod\n",
    "    def area(self):\n",
    "        pass\n",
    "    \n",
    "class square(polygon):\n",
    "    def __init__(self,length):\n",
    "        self.length=length\n",
    "    def area(self):\n",
    "        return self.length**2"
   ]
  },
  {
   "cell_type": "code",
   "execution_count": 5,
   "id": "6dc6f883",
   "metadata": {},
   "outputs": [
    {
     "data": {
      "text/plain": [
       "100"
      ]
     },
     "execution_count": 5,
     "metadata": {},
     "output_type": "execute_result"
    }
   ],
   "source": [
    "fig=square(10)\n",
    "fig.area()"
   ]
  },
  {
   "cell_type": "markdown",
   "id": "83da513c",
   "metadata": {},
   "source": [
    "2. What happens when a class statement's top level contains a basic assignment statement?"
   ]
  },
  {
   "cell_type": "markdown",
   "id": "80405590",
   "metadata": {},
   "source": [
    "ans:  class statement's top level  is considered as class attribute which can be called using the class."
   ]
  },
  {
   "cell_type": "code",
   "execution_count": 6,
   "id": "041e73de",
   "metadata": {},
   "outputs": [],
   "source": [
    "class polygon():\n",
    "    type=\"rectangle\"\n",
    "    def __init__(self,l,b):\n",
    "        self.l=l\n",
    "        self.b=b"
   ]
  },
  {
   "cell_type": "code",
   "execution_count": 10,
   "id": "94395d1a",
   "metadata": {},
   "outputs": [
    {
     "data": {
      "text/plain": [
       "'rectangle'"
      ]
     },
     "execution_count": 10,
     "metadata": {},
     "output_type": "execute_result"
    }
   ],
   "source": [
    "fig=polygon(10,5)\n",
    "fig.type"
   ]
  },
  {
   "cell_type": "code",
   "execution_count": 11,
   "id": "c83ae518",
   "metadata": {},
   "outputs": [
    {
     "data": {
      "text/plain": [
       "10"
      ]
     },
     "execution_count": 11,
     "metadata": {},
     "output_type": "execute_result"
    }
   ],
   "source": [
    "fig.l"
   ]
  },
  {
   "cell_type": "code",
   "execution_count": 12,
   "id": "1769630c",
   "metadata": {},
   "outputs": [
    {
     "data": {
      "text/plain": [
       "5"
      ]
     },
     "execution_count": 12,
     "metadata": {},
     "output_type": "execute_result"
    }
   ],
   "source": [
    "fig.b"
   ]
  },
  {
   "cell_type": "markdown",
   "id": "3771f9b5",
   "metadata": {},
   "source": [
    "3. Why does a class need to manually call a superclass's __init__ method?"
   ]
  },
  {
   "cell_type": "markdown",
   "id": "452be895",
   "metadata": {},
   "source": [
    "Ans: if a child class has __init__ method, then it will not inherit the __init__ method of the parent class. in other words the __init__ method of the child class overrides the __init__ method of the parent class. so we have to manually call a parent superclass's __init__ using super() method."
   ]
  },
  {
   "cell_type": "code",
   "execution_count": 15,
   "id": "f42056ce",
   "metadata": {},
   "outputs": [],
   "source": [
    "class polygon():\n",
    "    def __init__(self,type):\n",
    "        self.type=type\n",
    "class type(polygon):\n",
    "    def __init__(self,type,length,breadth):\n",
    "        super().__init__(type)\n",
    "        self.length=length\n",
    "        self.breadth=breadth\n",
    "\n",
    "    \n",
    "    "
   ]
  },
  {
   "cell_type": "code",
   "execution_count": 17,
   "id": "bcd6c054",
   "metadata": {},
   "outputs": [
    {
     "data": {
      "text/plain": [
       "'rectangle'"
      ]
     },
     "execution_count": 17,
     "metadata": {},
     "output_type": "execute_result"
    }
   ],
   "source": [
    "fig=type(\"rectangle\",10,5)\n",
    "fig.type"
   ]
  },
  {
   "cell_type": "code",
   "execution_count": 18,
   "id": "c2f149be",
   "metadata": {},
   "outputs": [
    {
     "data": {
      "text/plain": [
       "10"
      ]
     },
     "execution_count": 18,
     "metadata": {},
     "output_type": "execute_result"
    }
   ],
   "source": [
    "fig.length\n"
   ]
  },
  {
   "cell_type": "code",
   "execution_count": 19,
   "id": "fdb38a9c",
   "metadata": {},
   "outputs": [
    {
     "data": {
      "text/plain": [
       "5"
      ]
     },
     "execution_count": 19,
     "metadata": {},
     "output_type": "execute_result"
    }
   ],
   "source": [
    "fig.breadth"
   ]
  },
  {
   "cell_type": "markdown",
   "id": "77ae28bb",
   "metadata": {},
   "source": [
    "4. How can you augment, instead of completely replacing, an inherited method?"
   ]
  },
  {
   "cell_type": "code",
   "execution_count": null,
   "id": "e0c84f89",
   "metadata": {},
   "outputs": [],
   "source": []
  },
  {
   "cell_type": "markdown",
   "id": "f83a5daf",
   "metadata": {},
   "source": [
    "5. How is the local scope of a class different from that of a function?"
   ]
  },
  {
   "cell_type": "markdown",
   "id": "6fb67b75",
   "metadata": {},
   "source": [
    "ans:\n",
    "\n",
    "local scope in a function is preseted inside the dunction and cane be be called using the fucntion name.\n",
    "\n",
    "local scope inside a class is defined inside a class and can be called using a the class and is called the class attribute\n"
   ]
  },
  {
   "cell_type": "code",
   "execution_count": 20,
   "id": "09c0282a",
   "metadata": {},
   "outputs": [],
   "source": [
    "def add(n):\n",
    "    n1=4\n",
    "    return n+n1"
   ]
  },
  {
   "cell_type": "code",
   "execution_count": 21,
   "id": "7c86d1b4",
   "metadata": {},
   "outputs": [
    {
     "data": {
      "text/plain": [
       "10"
      ]
     },
     "execution_count": 21,
     "metadata": {},
     "output_type": "execute_result"
    }
   ],
   "source": [
    "add(6)"
   ]
  },
  {
   "cell_type": "code",
   "execution_count": 22,
   "id": "bdea72a1",
   "metadata": {},
   "outputs": [],
   "source": [
    "class polygon():\n",
    "    type=\"rectangle\"\n",
    "    def area(self):\n",
    "        pass"
   ]
  },
  {
   "cell_type": "code",
   "execution_count": 23,
   "id": "1f2d0b8f",
   "metadata": {},
   "outputs": [
    {
     "data": {
      "text/plain": [
       "'rectangle'"
      ]
     },
     "execution_count": 23,
     "metadata": {},
     "output_type": "execute_result"
    }
   ],
   "source": [
    "polygon.type"
   ]
  },
  {
   "cell_type": "code",
   "execution_count": null,
   "id": "f240669a",
   "metadata": {},
   "outputs": [],
   "source": []
  }
 ],
 "metadata": {
  "kernelspec": {
   "display_name": "Python 3 (ipykernel)",
   "language": "python",
   "name": "python3"
  },
  "language_info": {
   "codemirror_mode": {
    "name": "ipython",
    "version": 3
   },
   "file_extension": ".py",
   "mimetype": "text/x-python",
   "name": "python",
   "nbconvert_exporter": "python",
   "pygments_lexer": "ipython3",
   "version": "3.9.12"
  }
 },
 "nbformat": 4,
 "nbformat_minor": 5
}
