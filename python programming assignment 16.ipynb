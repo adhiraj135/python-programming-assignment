{
 "cells": [
  {
   "cell_type": "markdown",
   "id": "16c211a5",
   "metadata": {},
   "source": [
    "Question1. \n",
    "\n",
    "Write a function that stutters a word as if someone is struggling to read it. The\n",
    "first two letters are repeated twice with an ellipsis ... and space after each, and then the\n",
    "word is pronounced with a question mark ?.\n",
    "\n",
    "Examples\n",
    "\n",
    "stutter(\"incredible\") ➞ \"in... in... incredible?\"\n",
    "\n",
    "stutter(\"enthusiastic\") ➞ \"en... en... enthusiastic?\"\n",
    "\n",
    "stutter(\"outstanding\") ➞ \"ou... ou... outstanding?\"\n",
    "\n",
    "Hint :- Assume all input is in lower case and at least two characters long."
   ]
  },
  {
   "cell_type": "code",
   "execution_count": 32,
   "id": "47bd22cc",
   "metadata": {},
   "outputs": [],
   "source": [
    "def stutter(word):\n",
    "    word.lower()\n",
    "    return word[0:2]+\"... \"+word[0:2]+\"... \"+word+\"?\"\n",
    "    \n",
    "    "
   ]
  },
  {
   "cell_type": "code",
   "execution_count": 33,
   "id": "82dc2537",
   "metadata": {},
   "outputs": [
    {
     "name": "stdout",
     "output_type": "stream",
     "text": [
      "stutter(\"incredible\")➞ in... in... incredible?\n",
      "stutter(\"enthusiastic\")➞ en... en... enthusiastic?\n",
      "stutter(\"outstanding\")➞ ou... ou... outstanding?\n"
     ]
    }
   ],
   "source": [
    "print(f'stutter(\"incredible\")➞ {stutter(\"incredible\")}')\n",
    "print(f'stutter(\"enthusiastic\")➞ {stutter(\"enthusiastic\")}')\n",
    "print(f'stutter(\"outstanding\")➞ {stutter(\"outstanding\")}')\n"
   ]
  },
  {
   "cell_type": "markdown",
   "id": "229102c3",
   "metadata": {},
   "source": [
    "Question 2.Create a function that takes an angle in radians and returns the corresponding\n",
    "angle in degrees rounded to one decimal place."
   ]
  },
  {
   "cell_type": "code",
   "execution_count": 45,
   "id": "6e9a2d6a",
   "metadata": {},
   "outputs": [],
   "source": [
    "import math\n",
    "def radians_to_degrees(angle):\n",
    "    radian=(angle*180)/math.pi\n",
    "    return radian"
   ]
  },
  {
   "cell_type": "code",
   "execution_count": 48,
   "id": "4cdd45df",
   "metadata": {},
   "outputs": [
    {
     "name": "stdout",
     "output_type": "stream",
     "text": [
      "radians_to_degrees(1) ➞ 57.29577951308232\n",
      "radians_to_degrees(20) ➞ 1145.9155902616465\n",
      "radians_to_degrees(50) ➞ 2864.7889756541163\n"
     ]
    }
   ],
   "source": [
    "print(f'radians_to_degrees(1) ➞ {radians_to_degrees(1)}')\n",
    "print(f'radians_to_degrees(20) ➞ {radians_to_degrees(20)}')\n",
    "print(f'radians_to_degrees(50) ➞ {radians_to_degrees(50)}')"
   ]
  },
  {
   "cell_type": "raw",
   "id": "a00f73e7",
   "metadata": {},
   "source": [
    "Question 3. \n",
    "In this challenge, establish if a given integer num is a Curzon number. If 1 plus\n",
    "2 elevated to num is exactly divisible by 1 plus 2 multiplied by num, then num is a Curzon\n",
    "number.\n",
    "\n",
    "Given a non-negative integer num, implement a function that returns True if num is a Curzon\n",
    "number, or False otherwise.\n",
    "\n",
    "Examples\n",
    "\n",
    "is_curzon(5) ➞ True\n",
    "\n",
    "# 2 ** 5 + 1 = 33\n",
    "\n",
    "# 2 * 5 + 1 = 11\n",
    "\n",
    "# 33 is a multiple of 11\n",
    "\n",
    "is_curzon(10) ➞ False\n",
    "\n",
    "# 2 ** 10 + 1 = 1025\n",
    "\n",
    "# 2 * 10 + 1 = 21\n",
    "\n",
    "# 1025 is not a multiple of 21\n",
    "\n",
    "is_curzon(14) ➞ True\n",
    "\n",
    "# 2 ** 14 + 1 = 16385\n",
    "\n",
    "# 2 * 14 + 1 = 29\n",
    "\n",
    "# 16385 is a multiple of 29"
   ]
  },
  {
   "cell_type": "code",
   "execution_count": 49,
   "id": "383e8359",
   "metadata": {},
   "outputs": [],
   "source": [
    "def is_curzon(n):\n",
    "    if (2**n+1)%(2*n+1)==0:\n",
    "        return True\n",
    "    else:\n",
    "        return False\n",
    "        "
   ]
  },
  {
   "cell_type": "code",
   "execution_count": 52,
   "id": "e6476a3c",
   "metadata": {},
   "outputs": [
    {
     "name": "stdout",
     "output_type": "stream",
     "text": [
      "is_curzon(14) ➞True\n",
      "is_curzon(5) ➞True\n",
      "is_curzon(10) ➞False\n"
     ]
    }
   ],
   "source": [
    "print(f'is_curzon(14) ➞{is_curzon(14)}')\n",
    "print(f'is_curzon(5) ➞{is_curzon(5)}')\n",
    "print(f'is_curzon(10) ➞{is_curzon(10)}')\n"
   ]
  },
  {
   "cell_type": "markdown",
   "id": "53d566d7",
   "metadata": {},
   "source": [
    "Question 4.Given the side length x find the area of a hexagon.\n",
    "\n",
    "Examples\n",
    "\n",
    "area_of_hexagon(1) ➞ 2.6\n",
    "\n",
    "area_of_hexagon(2) ➞ 10.4\n",
    "\n",
    "area_of_hexagon(3) ➞ 23.4"
   ]
  },
  {
   "cell_type": "code",
   "execution_count": 55,
   "id": "ac885159",
   "metadata": {},
   "outputs": [],
   "source": [
    "import math\n",
    "def area_of_hexagon(s):\n",
    "    area=(3*math.sqrt(3)*s**2)/2\n",
    "    return area"
   ]
  },
  {
   "cell_type": "code",
   "execution_count": 57,
   "id": "fc302d8f",
   "metadata": {},
   "outputs": [
    {
     "name": "stdout",
     "output_type": "stream",
     "text": [
      "area_of_hexagon(1) ➞ 2.598076211353316\n",
      "area_of_hexagon(2) ➞ 10.392304845413264\n",
      "area_of_hexagon(3) ➞ 23.382685902179844\n"
     ]
    }
   ],
   "source": [
    "print(f'area_of_hexagon(1) ➞ {area_of_hexagon(1)}')\n",
    "print(f'area_of_hexagon(2) ➞ {area_of_hexagon(2)}')\n",
    "print(f'area_of_hexagon(3) ➞ {area_of_hexagon(3)}')"
   ]
  },
  {
   "cell_type": "raw",
   "id": "32221fd8",
   "metadata": {},
   "source": [
    "Question 5. Create a function that returns a base-2 (binary) representation of a base-10\n",
    "(decimal) string number. To convert is simple: ((2) means base-2 and (10) means base-10)\n",
    "010101001(2) = 1 + 8 + 32 + 128.\n",
    "Going from right to left, the value of the most right bit is 1, now from that every bit to the left\n",
    "will be x2 the value, value of an 8 bit binary numbers are (256, 128, 64, 32, 16, 8, 4, 2, 1).\n",
    "Examples\n",
    "binary(1) ➞ \"1\"\n",
    "# 1*1 = 1\n",
    "binary(5) ➞ \"101\"\n",
    "# 1*1 + 1*4 = 5\n",
    "binary(10) ➞ \"1010\"\n",
    "# 1*2 + 1*8 = 10"
   ]
  },
  {
   "cell_type": "code",
   "execution_count": 66,
   "id": "f9963c89",
   "metadata": {},
   "outputs": [],
   "source": [
    "def binary(n):\n",
    "    return bin(n).replace('0b',\"\")"
   ]
  },
  {
   "cell_type": "code",
   "execution_count": 67,
   "id": "5ac10751",
   "metadata": {},
   "outputs": [
    {
     "name": "stdout",
     "output_type": "stream",
     "text": [
      "binary(5)➞101\n",
      "binary(1)➞1\n",
      "binary(10)➞1010\n"
     ]
    }
   ],
   "source": [
    "print(f'binary(5)➞{binary(5)}')\n",
    "print(f'binary(1)➞{binary(1)}')\n",
    "print(f'binary(10)➞{binary(10)}')"
   ]
  },
  {
   "cell_type": "code",
   "execution_count": null,
   "id": "b7e73d0f",
   "metadata": {},
   "outputs": [],
   "source": []
  }
 ],
 "metadata": {
  "kernelspec": {
   "display_name": "Python 3 (ipykernel)",
   "language": "python",
   "name": "python3"
  },
  "language_info": {
   "codemirror_mode": {
    "name": "ipython",
    "version": 3
   },
   "file_extension": ".py",
   "mimetype": "text/x-python",
   "name": "python",
   "nbconvert_exporter": "python",
   "pygments_lexer": "ipython3",
   "version": "3.9.12"
  }
 },
 "nbformat": 4,
 "nbformat_minor": 5
}
