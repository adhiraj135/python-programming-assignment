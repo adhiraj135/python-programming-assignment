{
 "cells": [
  {
   "cell_type": "markdown",
   "id": "6a53022d",
   "metadata": {},
   "source": [
    "Q1. Which two operator overloading methods can you use in your classes to support iteration?"
   ]
  },
  {
   "cell_type": "markdown",
   "id": "dc49b240",
   "metadata": {},
   "source": [
    "\n",
    "Ans: __iter__ and __next__ are the operator overloading methods in python that support iteration and are collectively called iterator protocol.\n",
    "\n",
    "__iter__ returns the iterator object and is called at the start of loop in our respective class.\n",
    "\n",
    "__next__ is called at each loop increment, it returns the incremented value. Also Stopiteration is raised when there is no value to return."
   ]
  },
  {
   "cell_type": "markdown",
   "id": "cb71133f",
   "metadata": {},
   "source": [
    "Q2. In what contexts do the two operator overloading methods manage printing?"
   ]
  },
  {
   "cell_type": "markdown",
   "id": "f2751eea",
   "metadata": {},
   "source": [
    "ans: __str__ and __repr__ are the two operator overloading methods"
   ]
  },
  {
   "cell_type": "code",
   "execution_count": 2,
   "id": "6ac1ce52",
   "metadata": {},
   "outputs": [],
   "source": [
    "class polygon():\n",
    "    def __str__(self):\n",
    "        return \"this is the class of polygon figures\""
   ]
  },
  {
   "cell_type": "code",
   "execution_count": 6,
   "id": "8f931278",
   "metadata": {},
   "outputs": [
    {
     "name": "stdout",
     "output_type": "stream",
     "text": [
      "this is the class of polygon figures\n"
     ]
    }
   ],
   "source": [
    "fig=polygon()\n",
    "print(fig)"
   ]
  },
  {
   "cell_type": "code",
   "execution_count": 9,
   "id": "67ad3ff2",
   "metadata": {},
   "outputs": [
    {
     "name": "stdout",
     "output_type": "stream",
     "text": [
      "this is the class of polygon figures\n"
     ]
    }
   ],
   "source": [
    "print(polygon())"
   ]
  },
  {
   "cell_type": "code",
   "execution_count": 14,
   "id": "5730de0b",
   "metadata": {},
   "outputs": [],
   "source": [
    "class square():\n",
    "    def __repr__(self):\n",
    "        return \"this is the class of square figures\""
   ]
  },
  {
   "cell_type": "code",
   "execution_count": 15,
   "id": "e29b40e6",
   "metadata": {},
   "outputs": [
    {
     "name": "stdout",
     "output_type": "stream",
     "text": [
      "this is the class of square figures\n"
     ]
    }
   ],
   "source": [
    "print(square())"
   ]
  },
  {
   "cell_type": "markdown",
   "id": "3717ff90",
   "metadata": {},
   "source": [
    "Q3. In a class, how do you intercept slice operations?"
   ]
  },
  {
   "cell_type": "code",
   "execution_count": 16,
   "id": "7408a9c0",
   "metadata": {},
   "outputs": [],
   "source": [
    "class student():\n",
    "    def __getitem__(self,rollno):\n",
    "        return rollno"
   ]
  },
  {
   "cell_type": "code",
   "execution_count": 28,
   "id": "17e28685",
   "metadata": {},
   "outputs": [
    {
     "data": {
      "text/plain": [
       "slice(5, 10, 2)"
      ]
     },
     "execution_count": 28,
     "metadata": {},
     "output_type": "execute_result"
    }
   ],
   "source": [
    "st1=student()\n",
    "st1[5:10:2]\n"
   ]
  },
  {
   "cell_type": "markdown",
   "id": "61a399b3",
   "metadata": {},
   "source": [
    "Q4. In a class, how do you capture in-place addition?"
   ]
  },
  {
   "cell_type": "code",
   "execution_count": 36,
   "id": "e2008e1c",
   "metadata": {},
   "outputs": [
    {
     "name": "stdout",
     "output_type": "stream",
     "text": [
      "8\n"
     ]
    }
   ],
   "source": [
    "class polygon:\n",
    "    def __init__(self,side):\n",
    "        self.side=side\n",
    "        \n",
    "    def __iadd__(self,other):\n",
    "        self.side += other.side\n",
    "        return self.side\n",
    "\n",
    "square=polygon(4)\n",
    "rectangle=polygon(4)\n",
    "square+=rectangle\n",
    "print(square)"
   ]
  },
  {
   "cell_type": "markdown",
   "id": "9fe46583",
   "metadata": {},
   "source": [
    "Q5. When is it appropriate to use operator overloading?"
   ]
  },
  {
   "cell_type": "code",
   "execution_count": 44,
   "id": "7ab34022",
   "metadata": {},
   "outputs": [
    {
     "name": "stdout",
     "output_type": "stream",
     "text": [
      "8\n"
     ]
    }
   ],
   "source": [
    "class polygon:\n",
    "    def __init__(self,side):\n",
    "        self.side=side\n",
    "        \n",
    "    def __add__(self,other):\n",
    "        return self.side +other.side\n",
    "       \n",
    "\n",
    "square=polygon(4)\n",
    "rectangle=polygon(4)\n",
    "print(square+rectangle)\n",
    "\n"
   ]
  },
  {
   "cell_type": "code",
   "execution_count": null,
   "id": "50a1d401",
   "metadata": {},
   "outputs": [],
   "source": []
  },
  {
   "cell_type": "code",
   "execution_count": null,
   "id": "8b19dd15",
   "metadata": {},
   "outputs": [],
   "source": []
  },
  {
   "cell_type": "code",
   "execution_count": null,
   "id": "a7f94da0",
   "metadata": {},
   "outputs": [],
   "source": []
  }
 ],
 "metadata": {
  "kernelspec": {
   "display_name": "Python 3 (ipykernel)",
   "language": "python",
   "name": "python3"
  },
  "language_info": {
   "codemirror_mode": {
    "name": "ipython",
    "version": 3
   },
   "file_extension": ".py",
   "mimetype": "text/x-python",
   "name": "python",
   "nbconvert_exporter": "python",
   "pygments_lexer": "ipython3",
   "version": "3.9.12"
  }
 },
 "nbformat": 4,
 "nbformat_minor": 5
}
