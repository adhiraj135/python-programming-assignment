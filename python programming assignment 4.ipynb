{
 "cells": [
  {
   "cell_type": "markdown",
   "id": "01c63cb5",
   "metadata": {},
   "source": [
    "1. Write a Python Program to Find the Factorial of a Number?"
   ]
  },
  {
   "cell_type": "code",
   "execution_count": 1,
   "id": "aa2e5391",
   "metadata": {},
   "outputs": [],
   "source": [
    "def fact(n):\n",
    "    mul=1\n",
    "    for i in range(1,n+1):\n",
    "        mul=mul*i\n",
    "    return mul"
   ]
  },
  {
   "cell_type": "code",
   "execution_count": 4,
   "id": "a4dc8f6f",
   "metadata": {},
   "outputs": [
    {
     "name": "stdout",
     "output_type": "stream",
     "text": [
      "fact(5) = 120\n"
     ]
    }
   ],
   "source": [
    "print(f'fact(5) = {fact(5)}')"
   ]
  },
  {
   "cell_type": "markdown",
   "id": "9198a20a",
   "metadata": {},
   "source": [
    "2. Write a Python Program to Display the multiplication Table?"
   ]
  },
  {
   "cell_type": "code",
   "execution_count": 9,
   "id": "f7562e4b",
   "metadata": {},
   "outputs": [],
   "source": [
    "def mul_table(n):\n",
    "    for i in range(1,11):\n",
    "        print(n,'X',i,\"=\",n*i )"
   ]
  },
  {
   "cell_type": "code",
   "execution_count": 10,
   "id": "cff579e7",
   "metadata": {},
   "outputs": [
    {
     "name": "stdout",
     "output_type": "stream",
     "text": [
      "8 X 1 = 8\n",
      "8 X 2 = 16\n",
      "8 X 3 = 24\n",
      "8 X 4 = 32\n",
      "8 X 5 = 40\n",
      "8 X 6 = 48\n",
      "8 X 7 = 56\n",
      "8 X 8 = 64\n",
      "8 X 9 = 72\n",
      "8 X 10 = 80\n"
     ]
    }
   ],
   "source": [
    "mul_table(8)"
   ]
  },
  {
   "cell_type": "markdown",
   "id": "671af2af",
   "metadata": {},
   "source": [
    "3. Write a Python Program to Print the Fibonacci sequence?"
   ]
  },
  {
   "cell_type": "code",
   "execution_count": 19,
   "id": "8b041a5a",
   "metadata": {},
   "outputs": [],
   "source": [
    "def fibonacci(n):\n",
    "    a=0\n",
    "    b=1\n",
    "    count=0\n",
    "    while count<n:\n",
    "        print(a)\n",
    "        a,b=b,a+b\n",
    "        count=count+1\n",
    "    "
   ]
  },
  {
   "cell_type": "code",
   "execution_count": 20,
   "id": "e7e12d55",
   "metadata": {},
   "outputs": [
    {
     "name": "stdout",
     "output_type": "stream",
     "text": [
      "0\n",
      "1\n",
      "1\n",
      "2\n",
      "3\n",
      "5\n",
      "8\n"
     ]
    }
   ],
   "source": [
    "fibonacci(7)"
   ]
  },
  {
   "cell_type": "markdown",
   "id": "f1d4feca",
   "metadata": {},
   "source": [
    "4. Write a Python Program to Check Armstrong Number?"
   ]
  },
  {
   "cell_type": "code",
   "execution_count": 47,
   "id": "e3523ee4",
   "metadata": {},
   "outputs": [],
   "source": [
    "def Armstrong(n):\n",
    "    s=0\n",
    "    for i in range(len(str(n))):\n",
    "        s=s+(int(str(n)[i]))**3\n",
    "    if n==s:\n",
    "        return \"it is an Armstrong Number\"\n",
    "    else:\n",
    "        return \"it is not an Armstrong Number\"\n",
    "   \n",
    "        \n",
    "            \n",
    "    \n",
    "        \n",
    "        \n",
    "        \n",
    "        \n",
    "    \n"
   ]
  },
  {
   "cell_type": "code",
   "execution_count": 48,
   "id": "fd6ba26d",
   "metadata": {},
   "outputs": [
    {
     "data": {
      "text/plain": [
       "'it is an Armstrong Number'"
      ]
     },
     "execution_count": 48,
     "metadata": {},
     "output_type": "execute_result"
    }
   ],
   "source": [
    "Armstrong(371)"
   ]
  },
  {
   "cell_type": "markdown",
   "id": "5a519f4f",
   "metadata": {},
   "source": [
    "5. Write a Python Program to Find Armstrong Number in an Interval?"
   ]
  },
  {
   "cell_type": "code",
   "execution_count": 22,
   "id": "1baaa9e4",
   "metadata": {},
   "outputs": [],
   "source": [
    "def armstrongn(l,h):\n",
    "    l1=[]\n",
    "    sum=0\n",
    "    for i in range(l,h+1):\n",
    "        for j in range(len(str(i))):\n",
    "            sum=sum+(int(str(i)[j]))**3\n",
    "        if i==sum:\n",
    "            l1.append(i)\n",
    "    return l1\n",
    "        "
   ]
  },
  {
   "cell_type": "code",
   "execution_count": 23,
   "id": "fdcccc02",
   "metadata": {},
   "outputs": [
    {
     "data": {
      "text/plain": [
       "[1]"
      ]
     },
     "execution_count": 23,
     "metadata": {},
     "output_type": "execute_result"
    }
   ],
   "source": [
    "armstrongn(1,500)"
   ]
  },
  {
   "cell_type": "markdown",
   "id": "33ff3aa5",
   "metadata": {},
   "source": [
    "6. Write a Python Program to Find the Sum of Natural Numbers?"
   ]
  },
  {
   "cell_type": "code",
   "execution_count": 25,
   "id": "bd87f829",
   "metadata": {},
   "outputs": [],
   "source": [
    "def natural(n):\n",
    "    sum=0\n",
    "    for i in range(n+1):\n",
    "        sum=sum+i\n",
    "    return sum"
   ]
  },
  {
   "cell_type": "code",
   "execution_count": 26,
   "id": "5e67a2c0",
   "metadata": {},
   "outputs": [
    {
     "data": {
      "text/plain": [
       "55"
      ]
     },
     "execution_count": 26,
     "metadata": {},
     "output_type": "execute_result"
    }
   ],
   "source": [
    "natural(10)"
   ]
  },
  {
   "cell_type": "code",
   "execution_count": null,
   "id": "b6146351",
   "metadata": {},
   "outputs": [],
   "source": []
  }
 ],
 "metadata": {
  "kernelspec": {
   "display_name": "Python 3 (ipykernel)",
   "language": "python",
   "name": "python3"
  },
  "language_info": {
   "codemirror_mode": {
    "name": "ipython",
    "version": 3
   },
   "file_extension": ".py",
   "mimetype": "text/x-python",
   "name": "python",
   "nbconvert_exporter": "python",
   "pygments_lexer": "ipython3",
   "version": "3.9.12"
  }
 },
 "nbformat": 4,
 "nbformat_minor": 5
}
