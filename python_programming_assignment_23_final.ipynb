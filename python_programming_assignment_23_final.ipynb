{
  "nbformat": 4,
  "nbformat_minor": 0,
  "metadata": {
    "colab": {
      "name": "python programming assignment 23 final",
      "provenance": []
    },
    "kernelspec": {
      "name": "python3",
      "display_name": "Python 3"
    },
    "language_info": {
      "name": "python"
    }
  },
  "cells": [
    {
      "cell_type": "markdown",
      "source": [
        "Question 1\n",
        "\n",
        "Create a function that takes a number as an argument and returns True or False depending\n",
        "on whether the number is symmetrical or not. A number is symmetrical when it is the same as\n",
        "its reverse."
      ],
      "metadata": {
        "id": "JWZoiT7_uG5t"
      }
    },
    {
      "cell_type": "code",
      "source": [
        "def is_symmetrical(s):\n",
        "  s1=list(str(s))\n",
        "  s1.reverse()\n",
        "  if str(s)==''.join(s1):\n",
        "    return True\n",
        "  else:\n",
        "    return False\n",
        "\n",
        "   \n",
        "  \n",
        "  \n",
        "\n",
        "\n"
      ],
      "metadata": {
        "id": "BJIM6owIuHzC"
      },
      "execution_count": null,
      "outputs": []
    },
    {
      "cell_type": "code",
      "source": [
        "print(f'is_symmetrical(7227) ➞ {is_symmetrical(7227)}')\n",
        "print(f'is_symmetrical(12467) ➞ {is_symmetrical(12567)}')\n",
        "print(f'is_symmetrical(9939) ➞ {is_symmetrical(9939)}')\n",
        "print(f'is_symmetrical(2221222) ➞ {is_symmetrical(2221222)}')"
      ],
      "metadata": {
        "colab": {
          "base_uri": "https://localhost:8080/"
        },
        "id": "UMh7erExuOuK",
        "outputId": "f969a59f-0d24-4294-de58-6df753e1c7f2"
      },
      "execution_count": null,
      "outputs": [
        {
          "output_type": "stream",
          "name": "stdout",
          "text": [
            "is_symmetrical(7227) ➞ True\n",
            "is_symmetrical(12467) ➞ False\n",
            "is_symmetrical(9939) ➞ False\n",
            "is_symmetrical(2221222) ➞ True\n"
          ]
        }
      ]
    },
    {
      "cell_type": "markdown",
      "source": [
        "Question 2\n",
        "\n",
        "Given a string of numbers separated by a comma and space, return the product of the\n",
        "numbers."
      ],
      "metadata": {
        "id": "KuuF1zAOxQ4R"
      }
    },
    {
      "cell_type": "code",
      "source": [
        "def multiply_nums(s):\n",
        "  s.replace(\", \",'')\n",
        "  mul=1\n",
        "  for i in s.replace(\", \",''):\n",
        "     mul=mul*int(i)\n",
        "  return mul"
      ],
      "metadata": {
        "id": "6PsOYoMgxTvc"
      },
      "execution_count": null,
      "outputs": []
    },
    {
      "cell_type": "code",
      "source": [
        "print(f'multiply_nums(\"2, 3\") ➞ {multiply_nums(\"2, 3\")}')\n",
        "print(f'multiply_nums(\"1, 2, 3, 4\")➞ {multiply_nums(\"1, 2, 3, 4\")}')\n",
        "print(f'multiply_nums(\"54, 75, 453, 0\") ➞ {multiply_nums(\"54, 75, 453, 0\")}')\n",
        "\n",
        "\n",
        "\n"
      ],
      "metadata": {
        "colab": {
          "base_uri": "https://localhost:8080/"
        },
        "id": "3urKUHSDxdfL",
        "outputId": "c663458b-99b2-48b1-e157-4a5c549340b5"
      },
      "execution_count": null,
      "outputs": [
        {
          "output_type": "stream",
          "name": "stdout",
          "text": [
            "multiply_nums(\"2, 3\") ➞ 6\n",
            "multiply_nums(\"1, 2, 3, 4\")➞ 24\n",
            "multiply_nums(\"54, 75, 453, 0\") ➞ 0\n"
          ]
        }
      ]
    },
    {
      "cell_type": "markdown",
      "source": [
        "Question 3\n",
        "\n",
        "Create a function that squares every digit of a number."
      ],
      "metadata": {
        "id": "SVnqzcJe0Aoq"
      }
    },
    {
      "cell_type": "code",
      "source": [
        "def square_digits(n):\n",
        "  sum=''\n",
        "  for i in str(n):\n",
        "    sum=sum+str(int(i)**2)\n",
        "  return int(sum)"
      ],
      "metadata": {
        "id": "YcI9hQWA0Gnu"
      },
      "execution_count": null,
      "outputs": []
    },
    {
      "cell_type": "code",
      "source": [
        "print(f'square_digits(9119) ➞ {square_digits(9119)}')\n",
        "print(f'square_digits(2483) ➞ {square_digits(2483)}')\n",
        "print(f'square_digits(3212) ➞ {square_digits(3212)}')\n"
      ],
      "metadata": {
        "colab": {
          "base_uri": "https://localhost:8080/"
        },
        "id": "e8tqhWNU0cu7",
        "outputId": "79075d76-930c-4074-da0f-cb64c74fbdea"
      },
      "execution_count": null,
      "outputs": [
        {
          "output_type": "stream",
          "name": "stdout",
          "text": [
            "square_digits(9119) ➞ 811181\n",
            "square_digits(2483) ➞ 416649\n",
            "square_digits(3212) ➞ 9414\n"
          ]
        }
      ]
    },
    {
      "cell_type": "code",
      "source": [
        "import pandas as pd\n",
        "def setify(l):\n",
        "  df=pd.DataFrame(l,columns=[\"data\"])\n",
        "  return sorted(list(df[\"data\"].unique()))\n",
        "  \n",
        "\n",
        "  \n",
        "\n",
        "\n"
      ],
      "metadata": {
        "id": "9tJOwTpW0h4H"
      },
      "execution_count": null,
      "outputs": []
    },
    {
      "cell_type": "code",
      "source": [
        "print(f'setify([1, 3, 3, 5, 5]) ➞ {setify([1, 3, 3, 5, 5])} ')\n",
        "print(f'setify([4,4,4,4]) ➞ {setify([4,4,4,4])} ')\n",
        "print(f'setify([5,7,8,9,10,15]) ➞ {setify([5,7,8,9,10,15])} ')\n",
        "print(f'setify([3,3,3,2,1]) ➞ {setify([3,3,3,2,1])} ')"
      ],
      "metadata": {
        "colab": {
          "base_uri": "https://localhost:8080/"
        },
        "id": "gkF-Z6Fb1vxt",
        "outputId": "b65d5194-3107-468d-ae3e-aa5e67b6012b"
      },
      "execution_count": null,
      "outputs": [
        {
          "output_type": "stream",
          "name": "stdout",
          "text": [
            "setify([1, 3, 3, 5, 5]) ➞ [1, 3, 5] \n",
            "setify([4,4,4,4]) ➞ [4] \n",
            "setify([5,7,8,9,10,15]) ➞ [5, 7, 8, 9, 10, 15] \n",
            "setify([3,3,3,2,1]) ➞ [1, 2, 3] \n"
          ]
        }
      ]
    },
    {
      "cell_type": "markdown",
      "source": [
        "Question 5\n",
        "\n",
        "Create a function that returns the mean of all digits."
      ],
      "metadata": {
        "id": "KO5nVylb3fNj"
      }
    },
    {
      "cell_type": "code",
      "source": [
        "def mean(n):\n",
        "  sum=0\n",
        "  for i in str(n):\n",
        "    sum=sum+int(i)\n",
        "  return sum/len(str(n))\n"
      ],
      "metadata": {
        "id": "HS0quvP03guF"
      },
      "execution_count": null,
      "outputs": []
    },
    {
      "cell_type": "code",
      "source": [
        "print(f'mean(42) ➞ {mean(42)}')\n",
        "print(f'mean(12345) ➞ {mean(12345)}')\n",
        "print(f'mean(666) ➞ {mean(666)}')\n",
        "\n"
      ],
      "metadata": {
        "colab": {
          "base_uri": "https://localhost:8080/"
        },
        "id": "ZxtIo16r3p9x",
        "outputId": "38f8a930-0995-48d7-8011-b7b7f5c0f47b"
      },
      "execution_count": null,
      "outputs": [
        {
          "output_type": "stream",
          "name": "stdout",
          "text": [
            "mean(42) ➞ 3.0\n",
            "mean(12345) ➞ 3.0\n",
            "mean(666) ➞ 6.0\n"
          ]
        }
      ]
    }
  ]
}