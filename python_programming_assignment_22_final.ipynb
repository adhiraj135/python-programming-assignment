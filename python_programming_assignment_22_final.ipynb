{
  "nbformat": 4,
  "nbformat_minor": 0,
  "metadata": {
    "colab": {
      "name": "python programming assignment 22 final",
      "provenance": []
    },
    "kernelspec": {
      "name": "python3",
      "display_name": "Python 3"
    },
    "language_info": {
      "name": "python"
    }
  },
  "cells": [
    {
      "cell_type": "markdown",
      "source": [
        "Question1\n",
        "\n",
        "Create a function that takes three parameters where:\n",
        "\n",
        " x is the start of the range (inclusive).\n",
        "\n",
        " y is the end of the range (inclusive).\n",
        "\n",
        " n is the divisor to be checked against.\n",
        "\n",
        "Return an ordered list with numbers in the range that are divisible by the third parameter n.\n",
        "Return an empty list if there are no numbers that are divisible by n."
      ],
      "metadata": {
        "id": "W74wFUBpgO26"
      }
    },
    {
      "cell_type": "code",
      "source": [
        "def list_operation(x,y,n):\n",
        "  l=[]\n",
        "  for i in range(x,y):\n",
        "    if i%n==0:\n",
        "      l.append(i)\n",
        "  return l\n",
        "\n",
        "print(f'list_operation(1, 10, 3) ➞ {list_operation(1, 10, 3)}')\n",
        "print(f'list_operation(7,9,2) ➞ {list_operation(7,9,2)}')\n",
        "print(f'list_operation(15, 20, 7) ➞ {list_operation(15, 20, 7)}')"
      ],
      "metadata": {
        "colab": {
          "base_uri": "https://localhost:8080/"
        },
        "id": "fOUzwEH6gRNi",
        "outputId": "15dd6f76-6b31-4e8a-ca99-932867941686"
      },
      "execution_count": null,
      "outputs": [
        {
          "output_type": "stream",
          "name": "stdout",
          "text": [
            "list_operation(1, 10, 3) ➞ [3, 6, 9]\n",
            "list_operation(7,9,2) ➞ [8]\n",
            "list_operation(15, 20, 7) ➞ []\n"
          ]
        }
      ]
    },
    {
      "cell_type": "markdown",
      "source": [
        "Question2\n",
        "\n",
        "Create a function that takes in two lists and returns True if the second list follows the first list by one element, and False otherwise. In other words, determine if the second list is the first list shifted to the right by 1."
      ],
      "metadata": {
        "id": "ZpT1EbVehoY8"
      }
    },
    {
      "cell_type": "code",
      "source": [
        "def simon_says(x,y):\n",
        "  if x[0]==y[1]:\n",
        "    return True\n",
        "  else:\n",
        "    return False\n",
        "\n"
      ],
      "metadata": {
        "id": "wbR_T1puhrMo"
      },
      "execution_count": null,
      "outputs": []
    },
    {
      "cell_type": "code",
      "source": [
        "print(f'simon_says([1, 2], [5, 1]) = {simon_says([1, 2], [5, 1])}')\n",
        "print(f'simon_says([1, 2], [5, 5]) = {simon_says([1, 2], [5, 5])}')\n",
        "print(f'simon_says([1, 2, 3, 4, 5], [0, 1, 2, 3, 4]) = {simon_says([1, 2, 3, 4, 5], [0, 1, 2, 3, 4])}')\n",
        "print(f'simon_says([1, 2, 3, 4, 5], [5, 5, 1, 2, 3]) = {simon_says([1, 2, 3, 4, 5], [5, 5, 1, 2, 3])}')\n"
      ],
      "metadata": {
        "colab": {
          "base_uri": "https://localhost:8080/"
        },
        "id": "1HrMSeYSiOJs",
        "outputId": "0486eef7-c523-4f63-b7d3-b4c8f3bba931"
      },
      "execution_count": null,
      "outputs": [
        {
          "output_type": "stream",
          "name": "stdout",
          "text": [
            "simon_says([1, 2], [5, 1]) = True\n",
            "simon_says([1, 2], [5, 5]) = False\n",
            "simon_says([1, 2, 3, 4, 5], [0, 1, 2, 3, 4]) = True\n",
            "simon_says([1, 2, 3, 4, 5], [5, 5, 1, 2, 3]) = False\n"
          ]
        }
      ]
    },
    {
      "cell_type": "markdown",
      "source": [
        "Question3\n",
        "\n",
        "A group of friends have decided to start a secret society. The name will be the first letter of\n",
        "each of their names, sorted in alphabetical order.\n",
        "\n",
        "\n",
        "Create a function that takes in a list of names and returns the name of the secret society."
      ],
      "metadata": {
        "id": "O3wYWmAVjU2n"
      }
    },
    {
      "cell_type": "code",
      "source": [
        "def society_name(l):\n",
        "  sum=''\n",
        "  for i in l:\n",
        "    sum=sum+i[0]\n",
        "  return sum"
      ],
      "metadata": {
        "id": "Kxi8UTWojgu-"
      },
      "execution_count": null,
      "outputs": []
    },
    {
      "cell_type": "code",
      "source": [
        "print(f'society_name([\"Adam\", \"Sarah\", \"Malcolm\"]) = {society_name([\"Adam\", \"Sarah\", \"Malcolm\"])}')\n",
        "print(f'society_name([\"Joey\", \"Chandler\", \"Ross\",\"Rachel\",\"Phoeby\",\"Monika\"]) = {society_name([\"Joey\", \"Chandler\", \"Ross\",\"Rachel\",\"Phoeby\",\"Monika\"])}')"
      ],
      "metadata": {
        "colab": {
          "base_uri": "https://localhost:8080/"
        },
        "id": "DxYTfL60j3v1",
        "outputId": "898af846-bee2-40e7-faaf-c2d1cde19d45"
      },
      "execution_count": null,
      "outputs": [
        {
          "output_type": "stream",
          "name": "stdout",
          "text": [
            "society_name([\"Adam\", \"Sarah\", \"Malcolm\"]) = ASM\n",
            "society_name([\"Joey\", \"Chandler\", \"Ross\",\"Rachel\",\"Phoeby\",\"Monika\"]) = JCRRPM\n"
          ]
        }
      ]
    },
    {
      "cell_type": "code",
      "source": [
        "Question4\n",
        "An isogram is a word that has no duplicate letters. Create a function that takes a string and\n",
        "returns either True or False depending on whether or not it&#39;s an &quot;isogram&quot;."
      ],
      "metadata": {
        "id": "ubN3_9zCj8dJ"
      },
      "execution_count": null,
      "outputs": []
    },
    {
      "cell_type": "markdown",
      "source": [
        "Question4\n",
        "\n",
        "An isogram is a word that has no duplicate letters. Create a function that takes a string and\n",
        "returns either True or False depending on whether or not it's an 'isogram'."
      ],
      "metadata": {
        "id": "BRbHTcc4mJwj"
      }
    },
    {
      "cell_type": "code",
      "source": [
        "def is_isogram(in_string):\n",
        "    lower_in_string = in_string.lower()\n",
        "    if len(lower_in_string) == len(set(lower_in_string)):\n",
        "        print(f'{in_string} ➞ {True}')\n",
        "    else:\n",
        "        print(f'{in_string} ➞ {False}')\n",
        "    \n",
        "is_isogram(\"Algorism\")\n",
        "is_isogram(\"PasSword\")\n",
        "is_isogram(\"Consecutive\")\n",
        "\n",
        "       \n",
        "\n",
        "  \n",
        "   "
      ],
      "metadata": {
        "colab": {
          "base_uri": "https://localhost:8080/"
        },
        "id": "vbAyz1LamOPl",
        "outputId": "76e157cc-074b-4305-f846-5fcc5b42a9a9"
      },
      "execution_count": null,
      "outputs": [
        {
          "output_type": "stream",
          "name": "stdout",
          "text": [
            "Algorism ➞ True\n",
            "PasSword ➞ False\n",
            "Consecutive ➞ False\n"
          ]
        }
      ]
    },
    {
      "cell_type": "markdown",
      "source": [
        "Question5\n",
        "\n",
        "Create a function that takes a string and returns True or False, depending on whether the\n",
        "characters are in order or not."
      ],
      "metadata": {
        "id": "nKvWOaRBrML4"
      }
    },
    {
      "cell_type": "code",
      "source": [
        "def is_in_order(s):\n",
        "  s1=''.join(sorted(s))\n",
        "  if s==s1:\n",
        "    return True\n",
        "  else:\n",
        "    return False\n",
        " \n",
        "    "
      ],
      "metadata": {
        "id": "oo04HytPrO0d"
      },
      "execution_count": null,
      "outputs": []
    },
    {
      "cell_type": "code",
      "source": [
        "print(f'is_in_order(\"abc\") ➞ {is_in_order(\"abc\")}')\n",
        "print(f'is_in_order(\"edabit\") ➞ {is_in_order(\"edabit\")}')\n",
        "print(f'is_in_order(\"123\") ➞ {is_in_order(\"123\")}')"
      ],
      "metadata": {
        "colab": {
          "base_uri": "https://localhost:8080/"
        },
        "id": "C1wVkArrrbBC",
        "outputId": "ac4c073b-3585-4235-b2fa-a42b872d55f4"
      },
      "execution_count": null,
      "outputs": [
        {
          "output_type": "stream",
          "name": "stdout",
          "text": [
            "is_in_order(\"abc\") ➞ True\n",
            "is_in_order(\"edabit\") ➞ False\n",
            "is_in_order(\"123\") ➞ True\n"
          ]
        }
      ]
    },
    {
      "cell_type": "code",
      "source": [
        ""
      ],
      "metadata": {
        "id": "_94cXwuNtYXY"
      },
      "execution_count": null,
      "outputs": []
    }
  ]
}