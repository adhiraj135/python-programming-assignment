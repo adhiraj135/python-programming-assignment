{
 "cells": [
  {
   "cell_type": "markdown",
   "id": "b7b008b3",
   "metadata": {},
   "source": [
    "1. Write a Python Program to Check if a Number is Positive, Negative or Zero?"
   ]
  },
  {
   "cell_type": "code",
   "execution_count": 4,
   "id": "54114029",
   "metadata": {},
   "outputs": [],
   "source": [
    "def check():\n",
    "    n=int(input(\"enter the integer : \"))\n",
    "    if n<0:\n",
    "        return 'Negative'\n",
    "    elif n==0:\n",
    "        return 'Zero'\n",
    "    elif n>0:\n",
    "        return 'Positive'\n",
    "    "
   ]
  },
  {
   "cell_type": "code",
   "execution_count": 5,
   "id": "59f2490f",
   "metadata": {},
   "outputs": [
    {
     "name": "stdout",
     "output_type": "stream",
     "text": [
      "enter the integer : -4\n"
     ]
    },
    {
     "data": {
      "text/plain": [
       "'Negative'"
      ]
     },
     "execution_count": 5,
     "metadata": {},
     "output_type": "execute_result"
    }
   ],
   "source": [
    "check()"
   ]
  },
  {
   "cell_type": "code",
   "execution_count": 6,
   "id": "b099384a",
   "metadata": {},
   "outputs": [
    {
     "name": "stdout",
     "output_type": "stream",
     "text": [
      "enter the integer : 0\n"
     ]
    },
    {
     "data": {
      "text/plain": [
       "'Zero'"
      ]
     },
     "execution_count": 6,
     "metadata": {},
     "output_type": "execute_result"
    }
   ],
   "source": [
    "check()"
   ]
  },
  {
   "cell_type": "code",
   "execution_count": 8,
   "id": "7a6c05e4",
   "metadata": {},
   "outputs": [
    {
     "name": "stdout",
     "output_type": "stream",
     "text": [
      "enter the integer : 7\n"
     ]
    },
    {
     "data": {
      "text/plain": [
       "'Positive'"
      ]
     },
     "execution_count": 8,
     "metadata": {},
     "output_type": "execute_result"
    }
   ],
   "source": [
    "check()"
   ]
  },
  {
   "cell_type": "markdown",
   "id": "f3f5e1a4",
   "metadata": {},
   "source": [
    "2. Write a Python Program to Check if a Number is Odd or Even?"
   ]
  },
  {
   "cell_type": "code",
   "execution_count": 14,
   "id": "fadd53a7",
   "metadata": {},
   "outputs": [],
   "source": [
    "def num():\n",
    "    n=int(input(\"enter the integer : \"))\n",
    "    if n<=0:\n",
    "        return \"plese enter a positive integer\"\n",
    "    else:\n",
    "        if n%2==0:\n",
    "            return 'Even'\n",
    "        else:\n",
    "            return 'Odd'"
   ]
  },
  {
   "cell_type": "code",
   "execution_count": 20,
   "id": "cdf3b63e",
   "metadata": {},
   "outputs": [
    {
     "name": "stdout",
     "output_type": "stream",
     "text": [
      "enter the integer : 0\n"
     ]
    },
    {
     "data": {
      "text/plain": [
       "'plese enter a positive integer'"
      ]
     },
     "execution_count": 20,
     "metadata": {},
     "output_type": "execute_result"
    }
   ],
   "source": [
    "num()"
   ]
  },
  {
   "cell_type": "code",
   "execution_count": 16,
   "id": "70830924",
   "metadata": {},
   "outputs": [
    {
     "name": "stdout",
     "output_type": "stream",
     "text": [
      "enter the integer : -5\n"
     ]
    },
    {
     "data": {
      "text/plain": [
       "'plese enter a positive integer'"
      ]
     },
     "execution_count": 16,
     "metadata": {},
     "output_type": "execute_result"
    }
   ],
   "source": [
    "num()"
   ]
  },
  {
   "cell_type": "code",
   "execution_count": 17,
   "id": "f1aa45c8",
   "metadata": {},
   "outputs": [
    {
     "name": "stdout",
     "output_type": "stream",
     "text": [
      "enter the integer : 7\n"
     ]
    },
    {
     "data": {
      "text/plain": [
       "'Odd'"
      ]
     },
     "execution_count": 17,
     "metadata": {},
     "output_type": "execute_result"
    }
   ],
   "source": [
    "num()"
   ]
  },
  {
   "cell_type": "code",
   "execution_count": 19,
   "id": "58f6d0af",
   "metadata": {},
   "outputs": [
    {
     "name": "stdout",
     "output_type": "stream",
     "text": [
      "enter the integer : 10\n"
     ]
    },
    {
     "data": {
      "text/plain": [
       "'Even'"
      ]
     },
     "execution_count": 19,
     "metadata": {},
     "output_type": "execute_result"
    }
   ],
   "source": [
    "num()"
   ]
  },
  {
   "cell_type": "markdown",
   "id": "403f7c38",
   "metadata": {},
   "source": [
    "3. Write a Python Program to Check Leap Year?"
   ]
  },
  {
   "cell_type": "code",
   "execution_count": 21,
   "id": "e5ce1416",
   "metadata": {},
   "outputs": [],
   "source": [
    "def leap():\n",
    "    y=int(input(\"enter the year : \"))\n",
    "    if y%4==0:\n",
    "        return \"leap year\"\n",
    "    else:\n",
    "        return \"non leap year\"\n",
    "    "
   ]
  },
  {
   "cell_type": "code",
   "execution_count": 23,
   "id": "e391dd5d",
   "metadata": {},
   "outputs": [
    {
     "name": "stdout",
     "output_type": "stream",
     "text": [
      "enter the year : 2004\n"
     ]
    },
    {
     "data": {
      "text/plain": [
       "'leap year'"
      ]
     },
     "execution_count": 23,
     "metadata": {},
     "output_type": "execute_result"
    }
   ],
   "source": [
    "leap()"
   ]
  },
  {
   "cell_type": "code",
   "execution_count": 24,
   "id": "c080ae38",
   "metadata": {},
   "outputs": [
    {
     "name": "stdout",
     "output_type": "stream",
     "text": [
      "enter the year : 1998\n"
     ]
    },
    {
     "data": {
      "text/plain": [
       "'non leap year'"
      ]
     },
     "execution_count": 24,
     "metadata": {},
     "output_type": "execute_result"
    }
   ],
   "source": [
    "leap()"
   ]
  },
  {
   "cell_type": "markdown",
   "id": "71a49abe",
   "metadata": {},
   "source": [
    "4. Write a Python Program to Check Prime Number?"
   ]
  },
  {
   "cell_type": "code",
   "execution_count": 69,
   "id": "fbad8e7e",
   "metadata": {},
   "outputs": [],
   "source": [
    "def prime(n):\n",
    "    if n>1:\n",
    "        for i in range(2,n):\n",
    "            if n%i==0:\n",
    "                print(\"non prime no.\")\n",
    "                break\n",
    "        else:\n",
    "            print(\"prime no.\")\n",
    "    else:\n",
    "        print(\"non prime no.\")\n",
    "        \n",
    "        \n",
    "        \n",
    "                \n",
    "        \n",
    "            \n",
    "                \n",
    "        \n",
    "            \n",
    "       \n",
    "            \n",
    "        \n"
   ]
  },
  {
   "cell_type": "code",
   "execution_count": 70,
   "id": "2b541018",
   "metadata": {},
   "outputs": [
    {
     "name": "stdout",
     "output_type": "stream",
     "text": [
      "non prime no.\n"
     ]
    }
   ],
   "source": [
    "prime(25)\n"
   ]
  },
  {
   "cell_type": "code",
   "execution_count": 71,
   "id": "34d8576a",
   "metadata": {},
   "outputs": [
    {
     "name": "stdout",
     "output_type": "stream",
     "text": [
      "prime no.\n"
     ]
    }
   ],
   "source": [
    "prime(17)"
   ]
  },
  {
   "cell_type": "markdown",
   "id": "cde10cf0",
   "metadata": {},
   "source": [
    "5. Write a Python Program to Print all Prime Numbers in an Interval of 1-10000?"
   ]
  },
  {
   "cell_type": "code",
   "execution_count": 81,
   "id": "07a11f27",
   "metadata": {},
   "outputs": [],
   "source": [
    "def primen(l,h):\n",
    "    for i in range(l,h+1):\n",
    "        if i>1:\n",
    "            for j in range(2,i):\n",
    "                if i%j==0:\n",
    "                    break\n",
    "            else:\n",
    "                 print(i,end=\" \")\n",
    "                \n",
    "    "
   ]
  },
  {
   "cell_type": "code",
   "execution_count": 82,
   "id": "a3590fb4",
   "metadata": {},
   "outputs": [
    {
     "name": "stdout",
     "output_type": "stream",
     "text": [
      "2 3 5 7 11 13 17 19 23 29 31 37 41 43 47 53 59 61 67 71 73 79 83 89 97 101 103 107 109 113 127 131 137 139 149 151 157 163 167 173 179 181 191 193 197 199 211 223 227 229 233 239 241 251 257 263 269 271 277 281 283 293 307 311 313 317 331 337 347 349 353 359 367 373 379 383 389 397 401 409 419 421 431 433 439 443 449 457 461 463 467 479 487 491 499 503 509 521 523 541 547 557 563 569 571 577 587 593 599 601 607 613 617 619 631 641 643 647 653 659 661 673 677 683 691 701 709 719 727 733 739 743 751 757 761 769 773 787 797 809 811 821 823 827 829 839 853 857 859 863 877 881 883 887 907 911 919 929 937 941 947 953 967 971 977 983 991 997 "
     ]
    }
   ],
   "source": [
    "primen(1,1000)\n"
   ]
  },
  {
   "cell_type": "code",
   "execution_count": null,
   "id": "8a893c42",
   "metadata": {},
   "outputs": [],
   "source": []
  },
  {
   "cell_type": "code",
   "execution_count": null,
   "id": "e37cba45",
   "metadata": {},
   "outputs": [],
   "source": []
  }
 ],
 "metadata": {
  "kernelspec": {
   "display_name": "Python 3 (ipykernel)",
   "language": "python",
   "name": "python3"
  },
  "language_info": {
   "codemirror_mode": {
    "name": "ipython",
    "version": 3
   },
   "file_extension": ".py",
   "mimetype": "text/x-python",
   "name": "python",
   "nbconvert_exporter": "python",
   "pygments_lexer": "ipython3",
   "version": "3.9.12"
  }
 },
 "nbformat": 4,
 "nbformat_minor": 5
}
