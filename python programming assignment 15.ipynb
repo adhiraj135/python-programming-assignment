{
 "cells": [
  {
   "cell_type": "markdown",
   "id": "f59de31d",
   "metadata": {},
   "source": [
    "Question 1:\n",
    "\n",
    "Please write a program using generator to print the numbers which can be divisible by 5 and\n",
    "7 between 0 and n in comma separated form while n is input by console.\n",
    "\n",
    "Example:\n",
    "If the following n is given as input to the program:\n",
    "100\n",
    "\n",
    "Then, the output of the program should be:\n",
    "0,35,70"
   ]
  },
  {
   "cell_type": "code",
   "execution_count": 15,
   "id": "ee6ab9be",
   "metadata": {},
   "outputs": [],
   "source": [
    "def div(n):\n",
    "    l=[]\n",
    "    for i in range(n):\n",
    "        if i%7==0 and i%5==0:\n",
    "            l.append(str(i))\n",
    "    print(','.join(l))"
   ]
  },
  {
   "cell_type": "code",
   "execution_count": 16,
   "id": "e66b4eb4",
   "metadata": {},
   "outputs": [
    {
     "name": "stdout",
     "output_type": "stream",
     "text": [
      "0,35,70\n"
     ]
    }
   ],
   "source": [
    "div(100)"
   ]
  },
  {
   "cell_type": "markdown",
   "id": "64699098",
   "metadata": {},
   "source": [
    "Question 2:\n",
    "\n",
    "Please write a program using generator to print the even numbers between 0 and n in comma\n",
    "separated form while n is input by console.\n",
    "\n",
    "Example:\n",
    "\n",
    "If the following n is given as input to the program:\n",
    "10\n",
    "\n",
    "Then, the output of the program should be:\n",
    "0,2,4,6,8,10"
   ]
  },
  {
   "cell_type": "code",
   "execution_count": 18,
   "id": "f1cf35b3",
   "metadata": {},
   "outputs": [],
   "source": [
    "def even(n):\n",
    "    for i in range(n+1):\n",
    "        if i%2==0:\n",
    "            yield i"
   ]
  },
  {
   "cell_type": "code",
   "execution_count": 27,
   "id": "f8ea9d77",
   "metadata": {},
   "outputs": [
    {
     "name": "stdout",
     "output_type": "stream",
     "text": [
      "0,2,4,6,8,10\n"
     ]
    }
   ],
   "source": [
    "l=[]\n",
    "for i in even(10):\n",
    "    l.append(str(i))\n",
    "print(','.join(l))\n",
    "    "
   ]
  },
  {
   "cell_type": "markdown",
   "id": "2415b41f",
   "metadata": {},
   "source": [
    "Question 3:\n",
    "\n",
    "The Fibonacci Sequence is computed based on the following formula:\n",
    "\n",
    "f(n)=0 if n=0\n",
    "\n",
    "f(n)=1 if n=1\n",
    "\n",
    "f(n)=f(n-1)+f(n-2) if n&gt;1\n",
    "\n",
    "Please write a program using list comprehension to print the Fibonacci Sequence in comma\n",
    "separated form with a given n input by console."
   ]
  },
  {
   "cell_type": "code",
   "execution_count": 32,
   "id": "b2e7d10a",
   "metadata": {},
   "outputs": [],
   "source": [
    "def fibonacci(n):\n",
    "    a=0\n",
    "    b=1\n",
    "    count=0\n",
    "    while count<n:\n",
    "        print(a, end=\" \")\n",
    "        a,b=b,a+b\n",
    "        count+=1"
   ]
  },
  {
   "cell_type": "code",
   "execution_count": 33,
   "id": "a9fe19d9",
   "metadata": {},
   "outputs": [
    {
     "name": "stdout",
     "output_type": "stream",
     "text": [
      "0 1 1 2 3 5 8 "
     ]
    }
   ],
   "source": [
    "fibonacci(7)"
   ]
  },
  {
   "cell_type": "markdown",
   "id": "db0a8360",
   "metadata": {},
   "source": [
    "Question 4:\n",
    "\n",
    "Assuming that we have some email addresses in the 'username@companyname.com' format,\n",
    "please write program to print the user name of a given email address. Both user names and\n",
    "company names are composed of letters only.\n",
    "Example:\n",
    "If the following email address is given as input to the program:\n",
    "john@google.com\n",
    "Then, the output of the program should be:\n",
    "john"
   ]
  },
  {
   "cell_type": "code",
   "execution_count": 38,
   "id": "0b87d8a3",
   "metadata": {},
   "outputs": [],
   "source": [
    "def email_add():\n",
    "     email=input(\"enter the email address : \")\n",
    "     email.split(\"@\")\n",
    "     print(email.split(\"@\")[0])\n",
    "    "
   ]
  },
  {
   "cell_type": "code",
   "execution_count": 39,
   "id": "85c27476",
   "metadata": {},
   "outputs": [
    {
     "name": "stdout",
     "output_type": "stream",
     "text": [
      "enter the email address : john@google.com\n",
      "john\n"
     ]
    }
   ],
   "source": [
    "email_add()"
   ]
  },
  {
   "cell_type": "markdown",
   "id": "536821a9",
   "metadata": {},
   "source": [
    "Question 5:\n",
    "\n",
    "Define a class named Shape and its subclass Square. The Square class has an init function\n",
    "which takes a length as argument. Both classes have a area function which can print the area\n",
    "of the shape where Shape's area is 0 by default."
   ]
  },
  {
   "cell_type": "code",
   "execution_count": 40,
   "id": "c01b70a1",
   "metadata": {},
   "outputs": [],
   "source": [
    "class Shape():\n",
    "    def area(self):\n",
    "        pass\n",
    "class Square(Shape):\n",
    "    def __init__(self,length):\n",
    "        self.length=length\n",
    "    def area(self):\n",
    "        return self.length**2"
   ]
  },
  {
   "cell_type": "code",
   "execution_count": 42,
   "id": "f2bf90e5",
   "metadata": {},
   "outputs": [
    {
     "data": {
      "text/plain": [
       "100"
      ]
     },
     "execution_count": 42,
     "metadata": {},
     "output_type": "execute_result"
    }
   ],
   "source": [
    "fig=Square(10)\n",
    "fig.area()"
   ]
  },
  {
   "cell_type": "code",
   "execution_count": null,
   "id": "ce442477",
   "metadata": {},
   "outputs": [],
   "source": []
  }
 ],
 "metadata": {
  "kernelspec": {
   "display_name": "Python 3 (ipykernel)",
   "language": "python",
   "name": "python3"
  },
  "language_info": {
   "codemirror_mode": {
    "name": "ipython",
    "version": 3
   },
   "file_extension": ".py",
   "mimetype": "text/x-python",
   "name": "python",
   "nbconvert_exporter": "python",
   "pygments_lexer": "ipython3",
   "version": "3.9.12"
  }
 },
 "nbformat": 4,
 "nbformat_minor": 5
}
