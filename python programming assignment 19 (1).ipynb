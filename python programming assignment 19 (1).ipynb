{
 "cells": [
  {
   "cell_type": "markdown",
   "id": "61626140",
   "metadata": {},
   "source": [
    "Question1\n",
    "\n",
    "Create a function that takes a string and returns a string in which each character is repeated\n",
    "once.\n",
    "\n",
    "Examples\n",
    "\n",
    "double_char(\"String\") ➞ \"SSttrriinngg\"\n",
    "\n",
    "double_char(\"Hello World!\") ➞ \"HHeelllloo WWoorrlldd!!\"\n",
    "\n",
    "double_char(\"1234!_ \") ➞ \"11223344!!__ \""
   ]
  },
  {
   "cell_type": "code",
   "execution_count": 15,
   "id": "ada9a6f3",
   "metadata": {},
   "outputs": [],
   "source": [
    "def double_char(s):\n",
    "    sum=''\n",
    "    for i in s:\n",
    "        sum=sum+i*2\n",
    "    return sum\n",
    "    "
   ]
  },
  {
   "cell_type": "code",
   "execution_count": 17,
   "id": "88a17e64",
   "metadata": {},
   "outputs": [
    {
     "name": "stdout",
     "output_type": "stream",
     "text": [
      "double_char(\"String\") ➞ SSttrriinngg\n",
      "double_char(\"Hello World!\") ➞ HHeelllloo  WWoorrlldd!!\n",
      "double_char(\"1234!_ \") ➞ 11223344!!__  \n"
     ]
    }
   ],
   "source": [
    "print(f'double_char(\"String\") ➞ {double_char(\"String\")}')\n",
    "print(f'double_char(\"Hello World!\") ➞ {double_char(\"Hello World!\")}')\n",
    "print(f'double_char(\"1234!_ \") ➞ {double_char(\"1234!_ \")}')"
   ]
  },
  {
   "cell_type": "markdown",
   "id": "13c16c29",
   "metadata": {},
   "source": [
    "Question2\n",
    "\n",
    "Create a function that reverses a boolean value and returns the string \"boolean expected\"\n",
    "if another variable type is given.\n",
    "\n",
    "Examples\n",
    "\n",
    "reverse(True) ➞ False\n",
    "\n",
    "reverse(False) ➞ True\n",
    "\n",
    "reverse(0) ➞ 'boolean expected'\n",
    "\n",
    "reverse(None) ➞ 'boolean expected'"
   ]
  },
  {
   "cell_type": "code",
   "execution_count": 19,
   "id": "49cd2dee",
   "metadata": {},
   "outputs": [],
   "source": [
    "def reverse(n):\n",
    "    if n:\n",
    "        return not n\n",
    "    else:\n",
    "        return 'boolean expected'"
   ]
  },
  {
   "cell_type": "markdown",
   "id": "52ad5750",
   "metadata": {},
   "source": [
    "print(f'reverse(True) ➞ {reverse(True)}')\n",
    "print(f'reverse(False) ➞ {reverse(False)}')\n",
    "print(f'reverse(0) ➞ {reverse(0)}')\n",
    "print(f'reverse(None) ➞ {reverse(None)}')"
   ]
  },
  {
   "cell_type": "raw",
   "id": "926a9f6d",
   "metadata": {},
   "source": [
    "Question3\n",
    "\n",
    "Create a function that returns the thickness (in meters) of a piece of paper after folding it n\n",
    "number of times. The paper starts off with a thickness of 0.5mm.\n",
    "\n",
    "Examples\n",
    "\n",
    "num_layers(1) ➞ \"0.001m\"\n",
    "# Paper folded once is 1mm (equal to 0.001m)\n",
    "\n",
    "num_layers(4) ➞ \"0.008m\"\n",
    "# Paper folded 4 times is 8mm (equal to 0.008m)\n",
    "\n",
    "num_layers(21) ➞ \"1048.576m\"\n",
    "# Paper folded 21 times is 1048576mm (equal to 1048.576m)"
   ]
  },
  {
   "cell_type": "code",
   "execution_count": 23,
   "id": "5e0918be",
   "metadata": {
    "scrolled": true
   },
   "outputs": [
    {
     "name": "stdout",
     "output_type": "stream",
     "text": [
      "Output ➞ 0.001m\n",
      "Output ➞ 0.008m\n",
      "Output ➞ 1048.576m\n"
     ]
    }
   ],
   "source": [
    "def num_layers(in_num):\n",
    "    out_num = 0.5\n",
    "    for ele in range(in_num):\n",
    "        out_num *= 2\n",
    "    print(f'Output ➞ {out_num/1000}m')\n",
    "    \n",
    "num_layers(1)\n",
    "num_layers(4)\n",
    "num_layers(21)"
   ]
  },
  {
   "cell_type": "markdown",
   "id": "aa9a5d5c",
   "metadata": {},
   "source": [
    "4.\n",
    "\n",
    "Create a function that takes a single string as argument and returns an ordered list containing\n",
    "the indices of all capital letters in the string.\n",
    "\n",
    "Examples\n",
    "\n",
    "index_of_caps(\"eDaBiT\") ➞ [1, 3, 5]\n",
    "\n",
    "index_of_caps(\"eQuINoX\") ➞ [1, 3, 4, 6]\n",
    "\n",
    "index_of_caps(\"determine\") ➞ []\n",
    "\n",
    "index_of_caps(\"STRIKE\") ➞ [0, 1, 2, 3, 4, 5]\n",
    "\n",
    "index_of_caps(\"sUn\") ➞ [1]"
   ]
  },
  {
   "cell_type": "code",
   "execution_count": 34,
   "id": "e056158b",
   "metadata": {},
   "outputs": [],
   "source": [
    "def index_of_caps(s):\n",
    "    l=[]\n",
    "    for i in s:\n",
    "        if i.isupper():\n",
    "            l.append(s.index(i))\n",
    "    return l"
   ]
  },
  {
   "cell_type": "code",
   "execution_count": 39,
   "id": "ff8aaecc",
   "metadata": {},
   "outputs": [
    {
     "name": "stdout",
     "output_type": "stream",
     "text": [
      "index_of_caps(\"eDaBiT\") ➞ [1, 3, 5]\n",
      "index_of_caps(\"eQuINoX\") ➞ [1, 3, 4, 6]\n",
      "index_of_caps(\"determine\") ➞ []\n",
      "index_of_caps(\"STRIKE\") ➞ [0, 1, 2, 3, 4, 5]\n",
      "index_of_caps(\"sUn\") ➞ [1]\n"
     ]
    }
   ],
   "source": [
    "print(f'index_of_caps(\"eDaBiT\") ➞ {index_of_caps(\"eDaBiT\")}')\n",
    "print(f'index_of_caps(\"eQuINoX\") ➞ {index_of_caps(\"eQuINoX\")}')\n",
    "print(f'index_of_caps(\"determine\") ➞ {index_of_caps(\"determine\")}')\n",
    "print(f'index_of_caps(\"STRIKE\") ➞ {index_of_caps(\"STRIKE\")}')\n",
    "print(f'index_of_caps(\"sUn\") ➞ {index_of_caps(\"sUn\")}')\n"
   ]
  },
  {
   "cell_type": "markdown",
   "id": "8288f79f",
   "metadata": {},
   "source": [
    "Question5\n",
    "\n",
    "Using list comprehensions, create a function that finds all even numbers from 1 to the given\n",
    "number.\n",
    "\n",
    "Examples\n",
    "\n",
    "find_even_nums(8) ➞ [2, 4, 6, 8]\n",
    "\n",
    "find_even_nums(4) ➞ [2, 4]\n",
    "\n",
    "find_even_nums(2) ➞ [2]"
   ]
  },
  {
   "cell_type": "code",
   "execution_count": 49,
   "id": "38125a35",
   "metadata": {},
   "outputs": [],
   "source": [
    "def find_even_nums(n):\n",
    "    l=[i for i in range(1,n+1) if i%2==0]\n",
    "    return l"
   ]
  },
  {
   "cell_type": "code",
   "execution_count": 50,
   "id": "e4d2c45d",
   "metadata": {},
   "outputs": [
    {
     "name": "stdout",
     "output_type": "stream",
     "text": [
      "find_even_nums(8) ➞ [2, 4, 6, 8]\n",
      "find_even_nums(4) ➞ [2, 4]\n",
      "find_even_nums(2) ➞ [2]\n"
     ]
    }
   ],
   "source": [
    "print(f'find_even_nums(8) ➞ {find_even_nums(8)}')\n",
    "print(f'find_even_nums(4) ➞ {find_even_nums(4)}')\n",
    "print(f'find_even_nums(2) ➞ {find_even_nums(2)}')\n"
   ]
  },
  {
   "cell_type": "code",
   "execution_count": null,
   "id": "64f19c7c",
   "metadata": {},
   "outputs": [],
   "source": []
  }
 ],
 "metadata": {
  "kernelspec": {
   "display_name": "Python 3 (ipykernel)",
   "language": "python",
   "name": "python3"
  },
  "language_info": {
   "codemirror_mode": {
    "name": "ipython",
    "version": 3
   },
   "file_extension": ".py",
   "mimetype": "text/x-python",
   "name": "python",
   "nbconvert_exporter": "python",
   "pygments_lexer": "ipython3",
   "version": "3.9.12"
  }
 },
 "nbformat": 4,
 "nbformat_minor": 5
}
