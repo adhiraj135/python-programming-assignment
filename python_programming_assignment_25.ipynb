{
  "nbformat": 4,
  "nbformat_minor": 0,
  "metadata": {
    "colab": {
      "name": "python programming assignment 25",
      "provenance": []
    },
    "kernelspec": {
      "name": "python3",
      "display_name": "Python 3"
    },
    "language_info": {
      "name": "python"
    }
  },
  "cells": [
    {
      "cell_type": "markdown",
      "source": [
        "Question1\n",
        "\n",
        "Create a function that takes three integer arguments (a, b, c) and returns the amount of\n",
        "integers which are of equal value."
      ],
      "metadata": {
        "id": "kjqm31Lgv_Ve"
      }
    },
    {
      "cell_type": "code",
      "source": [
        "def equal(a,b,c):\n",
        "    if a==b==c:\n",
        "        print(f'{a,b,c} ➞ {3}')\n",
        "    elif a==b or b==c:\n",
        "        print(f'{a,b,c} ➞ {2}')\n",
        "    else:\n",
        "        print(f'{a,b,c} ➞ {0}')\n",
        "\n",
        "equal(1,2,2)\n",
        "equal(1,1,1)\n",
        "equal(1,2,3)\n"
      ],
      "metadata": {
        "colab": {
          "base_uri": "https://localhost:8080/"
        },
        "id": "znwCzcf2wBN1",
        "outputId": "69d77767-f3ce-4781-c284-cded61afb352"
      },
      "execution_count": 70,
      "outputs": [
        {
          "output_type": "stream",
          "name": "stdout",
          "text": [
            "(1, 2, 2) ➞ 2\n",
            "(1, 1, 1) ➞ 3\n",
            "(1, 2, 3) ➞ 0\n"
          ]
        }
      ]
    },
    {
      "cell_type": "markdown",
      "source": [
        "Question2\n",
        "\n",
        "Write a function that converts a dictionary into a list of keys-values tuples."
      ],
      "metadata": {
        "id": "CEJjlaJ_xkrp"
      }
    },
    {
      "cell_type": "code",
      "source": [
        "def dict_to_list(d):\n",
        "  print(sorted((list(d.items()))))\n",
        "    "
      ],
      "metadata": {
        "id": "PphYf-mOwP-F"
      },
      "execution_count": 48,
      "outputs": []
    },
    {
      "cell_type": "code",
      "source": [
        "dict_to_list({\n",
        "\"likes\": 2,\n",
        "\"dislikes\": 3,\n",
        "\"followers\": 10\n",
        "})"
      ],
      "metadata": {
        "colab": {
          "base_uri": "https://localhost:8080/"
        },
        "id": "RhSIt1epyLPL",
        "outputId": "008886f9-b589-46be-b7e2-a19918971d24"
      },
      "execution_count": 50,
      "outputs": [
        {
          "output_type": "stream",
          "name": "stdout",
          "text": [
            "[('dislikes', 3), ('followers', 10), ('likes', 2)]\n"
          ]
        }
      ]
    },
    {
      "cell_type": "markdown",
      "source": [
        "Question3\n",
        "\n",
        "Write a function that creates a dictionary with each (key, value) pair being the (lower case,\n",
        "upper case) versions of a letter, respectively."
      ],
      "metadata": {
        "id": "5p9vXuTa0dGT"
      }
    },
    {
      "cell_type": "code",
      "source": [
        "def mapping(l):\n",
        "  dict={}\n",
        "  for i in l:\n",
        "    dict[i]=i.upper()\n",
        "  return dict\n",
        "\n",
        "    "
      ],
      "metadata": {
        "id": "uWN0We2m0gWY"
      },
      "execution_count": 72,
      "outputs": []
    },
    {
      "cell_type": "code",
      "source": [
        "print(f'mapping([\"p\",\"l\"]) ={mapping([\"p\",\"l\"])}')\n",
        "print(f'mapping([\"a\",\"b\",\"c\"]) ={mapping([\"a\",\"b\",\"c\"])}')\n",
        "\n"
      ],
      "metadata": {
        "colab": {
          "base_uri": "https://localhost:8080/"
        },
        "id": "kILXQEbU0mrj",
        "outputId": "5f2cd758-d616-4a79-e1f5-2ff77b8a7fa3"
      },
      "execution_count": 77,
      "outputs": [
        {
          "output_type": "stream",
          "name": "stdout",
          "text": [
            "mapping([\"p\",\"l\"]) ={'p': 'P', 'l': 'L'}\n",
            "mapping([\"a\",\"b\",\"c\"]) ={'a': 'A', 'b': 'B', 'c': 'C'}\n"
          ]
        }
      ]
    },
    {
      "cell_type": "markdown",
      "source": [
        "Question4\n",
        "\n",
        "Write a function, that replaces all vowels in a string with a specified vowel."
      ],
      "metadata": {
        "id": "DH5lVpWA1eWl"
      }
    },
    {
      "cell_type": "code",
      "source": [
        "def vow_replace(p,u):\n",
        "  v=['a','e','i','o','u']\n",
        "  for i in p:\n",
        "    if i in v:\n",
        "      return p.replace(i,u)\n",
        "\n"
      ],
      "metadata": {
        "id": "hN_RHYet1GnL"
      },
      "execution_count": 68,
      "outputs": []
    },
    {
      "cell_type": "code",
      "source": [
        "print(f'vow_replace(\"apples and bananas\", \"u\") = {vow_replace(\"apples and bananas\", \"u\")}')\n",
        "print(f'vow_replace(\"cheese casserole\", \"o\") = {vow_replace(\"cheese casserole\", \"o\")}')\n",
        "print(f'vow_replace(\"stuffed jalapeno poppers\",\"e\") = {vow_replace(\"stuffed jalapeno poppers\",\"e\")}')\n"
      ],
      "metadata": {
        "colab": {
          "base_uri": "https://localhost:8080/"
        },
        "id": "EPr4FxQS1vaB",
        "outputId": "301e0e19-2311-4741-8ca7-7a72887ff8c6"
      },
      "execution_count": 69,
      "outputs": [
        {
          "output_type": "stream",
          "name": "stdout",
          "text": [
            "vow_replace(\"apples and bananas\", \"u\") = upples und bununus\n",
            "vow_replace(\"cheese casserole\", \"o\") = chooso cassorolo\n",
            "vow_replace(\"stuffed jalapeno poppers\",\"e\") = steffed jalapeno poppers\n"
          ]
        }
      ]
    },
    {
      "cell_type": "code",
      "source": [
        ""
      ],
      "metadata": {
        "id": "83BymhVh115Y"
      },
      "execution_count": null,
      "outputs": []
    }
  ]
}