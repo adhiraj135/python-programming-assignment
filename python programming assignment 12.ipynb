{
 "cells": [
  {
   "cell_type": "markdown",
   "id": "b8e104a8",
   "metadata": {},
   "source": [
    "1. Write a Python program to Extract Unique values dictionary values?"
   ]
  },
  {
   "cell_type": "code",
   "execution_count": 10,
   "id": "ff482575",
   "metadata": {},
   "outputs": [],
   "source": [
    "import pandas as pd\n",
    "def unique(d):\n",
    "    df=pd.DataFrame(d.values(),columns=[\"value\"])\n",
    "    print(df[\"value\"].unique())\n",
    "    \n",
    "    \n",
    "    "
   ]
  },
  {
   "cell_type": "code",
   "execution_count": 11,
   "id": "b117cc2f",
   "metadata": {},
   "outputs": [
    {
     "name": "stdout",
     "output_type": "stream",
     "text": [
      "['adhi' 'datascience' 2]\n"
     ]
    }
   ],
   "source": [
    "unique(d)"
   ]
  },
  {
   "cell_type": "code",
   "execution_count": 4,
   "id": "84ac81ac",
   "metadata": {},
   "outputs": [
    {
     "data": {
      "text/plain": [
       "dict_values(['adhi', 'datascience', 'datascience', 2, 2])"
      ]
     },
     "execution_count": 4,
     "metadata": {},
     "output_type": "execute_result"
    }
   ],
   "source": [
    "d={\"name\":\"adhi\",\"class\":\"datascience\",\"cousre\":\"datascience\",\"no.\":2,\"rollno.\":2}\n",
    "d.values()"
   ]
  },
  {
   "cell_type": "markdown",
   "id": "6c53362c",
   "metadata": {},
   "source": [
    "2. Write a Python program to find the sum of all items in a dictionary?"
   ]
  },
  {
   "cell_type": "code",
   "execution_count": 17,
   "id": "3c419ca6",
   "metadata": {},
   "outputs": [],
   "source": [
    "def sum(d):\n",
    "    sum=''\n",
    "    for i in d.items():\n",
    "        sum=sum+str(i[0])+str(i[1])\n",
    "    return sum"
   ]
  },
  {
   "cell_type": "code",
   "execution_count": 18,
   "id": "702c5c99",
   "metadata": {},
   "outputs": [
    {
     "data": {
      "text/plain": [
       "'nameadhiclassdatasciencecousredatascienceno.2rollno.2'"
      ]
     },
     "execution_count": 18,
     "metadata": {},
     "output_type": "execute_result"
    }
   ],
   "source": [
    "sum(d)"
   ]
  },
  {
   "cell_type": "markdown",
   "id": "6a114bec",
   "metadata": {},
   "source": [
    "3. Write a Python program to Merging two Dictionaries?"
   ]
  },
  {
   "cell_type": "code",
   "execution_count": 33,
   "id": "a6bba505",
   "metadata": {},
   "outputs": [],
   "source": [
    "def merge(d1,d2):\n",
    "    d1.update(d2)\n",
    "    return d1\n",
    "    "
   ]
  },
  {
   "cell_type": "code",
   "execution_count": 34,
   "id": "cac59d6f",
   "metadata": {},
   "outputs": [],
   "source": [
    "d1={\"name\":\"adhi\",\"class\":\"datascience\"}\n",
    "d2={\"course\":\"datascience\",\"no.\":2,\"rollno.\":2}"
   ]
  },
  {
   "cell_type": "code",
   "execution_count": 35,
   "id": "65b3e9e4",
   "metadata": {},
   "outputs": [
    {
     "data": {
      "text/plain": [
       "{'name': 'adhi',\n",
       " 'class': 'datascience',\n",
       " 'course': 'datascience',\n",
       " 'no.': 2,\n",
       " 'rollno.': 2}"
      ]
     },
     "execution_count": 35,
     "metadata": {},
     "output_type": "execute_result"
    }
   ],
   "source": [
    "merge(d1,d2)"
   ]
  },
  {
   "cell_type": "markdown",
   "id": "3c2227f9",
   "metadata": {},
   "source": [
    "4. Write a Python program to convert key-values list to flat dictionary?"
   ]
  },
  {
   "cell_type": "code",
   "execution_count": 54,
   "id": "a737260f",
   "metadata": {},
   "outputs": [],
   "source": [
    "def list_dict(l):\n",
    "    dict={}\n",
    "    for i in l:\n",
    "        dict[i]=\" \"\n",
    "    return dict\n",
    "        \n",
    "        \n"
   ]
  },
  {
   "cell_type": "code",
   "execution_count": 55,
   "id": "3bee296c",
   "metadata": {},
   "outputs": [
    {
     "data": {
      "text/plain": [
       "{'name': ' ', 'class': ' ', 'cousre': ' ', 'no.': ' ', 'rollno.': ' '}"
      ]
     },
     "execution_count": 55,
     "metadata": {},
     "output_type": "execute_result"
    }
   ],
   "source": [
    "list_dict(['name', 'class', 'cousre', 'no.', 'rollno.'])"
   ]
  },
  {
   "cell_type": "markdown",
   "id": "ecd63738",
   "metadata": {},
   "source": [
    "5. Write a Python program to insertion at the beginning in OrderedDict?"
   ]
  },
  {
   "cell_type": "code",
   "execution_count": 65,
   "id": "cca1460c",
   "metadata": {},
   "outputs": [],
   "source": [
    "from collections import OrderedDict\n",
    " \n",
    "def order(l):\n",
    "       ordered_dict = OrderedDict([('akshat', '1'), ('nikhil', '2')])\n",
    "       ordered_dict.update({'manjeet':'3'})\n",
    "       ordered_dict.move_to_end('manjeet', last = False)\n",
    "       return ordered_dict\n",
    " \n"
   ]
  },
  {
   "cell_type": "code",
   "execution_count": 66,
   "id": "230d682b",
   "metadata": {},
   "outputs": [
    {
     "data": {
      "text/plain": [
       "OrderedDict([('manjeet', '3'), ('akshat', '1'), ('nikhil', '2')])"
      ]
     },
     "execution_count": 66,
     "metadata": {},
     "output_type": "execute_result"
    }
   ],
   "source": [
    "order([('akshat', '1'), ('nikhil', '2')])"
   ]
  },
  {
   "cell_type": "markdown",
   "id": "bff12c09",
   "metadata": {},
   "source": [
    "6. Write a Python program to check order of character in string using OrderedDict()?"
   ]
  },
  {
   "cell_type": "code",
   "execution_count": 26,
   "id": "2d2a0b56",
   "metadata": {},
   "outputs": [],
   "source": [
    "from collections import OrderedDict\n",
    " \n",
    "def char_ord(l):\n",
    "    ordered_dict = OrderedDict(l)\n",
    "    for i in ordered_dict:\n",
    "        for j in i:\n",
    "            print(str(j) + \" order is \" + str(ord(j)))\n",
    "    "
   ]
  },
  {
   "cell_type": "code",
   "execution_count": 27,
   "id": "c081257d",
   "metadata": {},
   "outputs": [
    {
     "name": "stdout",
     "output_type": "stream",
     "text": [
      "a order is 97\n",
      "k order is 107\n",
      "s order is 115\n",
      "h order is 104\n",
      "a order is 97\n",
      "t order is 116\n",
      "n order is 110\n",
      "i order is 105\n",
      "k order is 107\n",
      "h order is 104\n",
      "i order is 105\n",
      "l order is 108\n"
     ]
    }
   ],
   "source": [
    "char_ord([('akshat', '1'), ('nikhil', '2')])"
   ]
  },
  {
   "cell_type": "markdown",
   "id": "995192cb",
   "metadata": {},
   "source": [
    "7. Write a Python program to sort Python Dictionaries by Key or Value?"
   ]
  },
  {
   "cell_type": "code",
   "execution_count": 32,
   "id": "af2db7b1",
   "metadata": {},
   "outputs": [],
   "source": [
    "def sorting(d):\n",
    "    print(\"the keys are {} and the values are {} \".format(tuple(d.keys()),tuple(d.values())))"
   ]
  },
  {
   "cell_type": "code",
   "execution_count": 33,
   "id": "a48050f8",
   "metadata": {},
   "outputs": [
    {
     "name": "stdout",
     "output_type": "stream",
     "text": [
      "the keys are ('name', 'class', 'cousre', 'no.', 'rollno.') and the values are ('adhi', 'datascience', 'datascience', 2, 2) \n"
     ]
    }
   ],
   "source": [
    "sorting({\"name\":\"adhi\",\"class\":\"datascience\",\"cousre\":\"datascience\",\"no.\":2,\"rollno.\":2})\n"
   ]
  },
  {
   "cell_type": "code",
   "execution_count": null,
   "id": "56f49e59",
   "metadata": {},
   "outputs": [],
   "source": []
  }
 ],
 "metadata": {
  "kernelspec": {
   "display_name": "Python 3 (ipykernel)",
   "language": "python",
   "name": "python3"
  },
  "language_info": {
   "codemirror_mode": {
    "name": "ipython",
    "version": 3
   },
   "file_extension": ".py",
   "mimetype": "text/x-python",
   "name": "python",
   "nbconvert_exporter": "python",
   "pygments_lexer": "ipython3",
   "version": "3.9.12"
  }
 },
 "nbformat": 4,
 "nbformat_minor": 5
}
