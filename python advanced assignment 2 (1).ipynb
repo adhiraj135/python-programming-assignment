{
 "cells": [
  {
   "cell_type": "markdown",
   "id": "ef1bd408",
   "metadata": {},
   "source": [
    "Q1. What is the relationship between classes and modules"
   ]
  },
  {
   "cell_type": "markdown",
   "id": "ac06ffb6",
   "metadata": {},
   "source": [
    "ans-- The difference between a class and a module in python is that a class is used to define a blueprint for a given object, whereas a module is used to reuse a given piece of code inside another program.\n",
    "\n",
    "A class can have its own instance, but a module cannot be instantiated. We use the ‘class’ keyword to define a class, whereas to use modules, we use the ‘import’ keyword. We can inherit a particular class and modify it using inheritance. But while using modules, it is simply a code containing variables, functions, and classes."
   ]
  },
  {
   "cell_type": "raw",
   "id": "6d28dbe2",
   "metadata": {},
   "source": [
    "Q2. How do you make instances and classes?"
   ]
  },
  {
   "cell_type": "markdown",
   "id": "eb21f15c",
   "metadata": {},
   "source": [
    "ans-- \n",
    "\n",
    "class is created with keyword class<classname>:\n",
    "    \n",
    "instance is created using a function init passed inside a class."
   ]
  },
  {
   "cell_type": "markdown",
   "id": "9fe6d248",
   "metadata": {},
   "source": [
    "Q3. Where and how should be class attributes created?"
   ]
  },
  {
   "cell_type": "markdown",
   "id": "6489770b",
   "metadata": {},
   "source": [
    "Class attributes belong to the class itself they will be shared by all the instances. Such attributes are defined in the class body parts usually at the top, for legibility"
   ]
  },
  {
   "cell_type": "code",
   "execution_count": 1,
   "id": "bf3ffbad",
   "metadata": {},
   "outputs": [],
   "source": [
    "class test:\n",
    "    count=0\n",
    "    \n",
    "    def increase(self):\n",
    "        test.count=test.count+1 \n",
    "    "
   ]
  },
  {
   "cell_type": "code",
   "execution_count": 2,
   "id": "fe001dbc",
   "metadata": {},
   "outputs": [
    {
     "data": {
      "text/plain": [
       "1"
      ]
     },
     "execution_count": 2,
     "metadata": {},
     "output_type": "execute_result"
    }
   ],
   "source": [
    "obj1=test()\n",
    "obj1.increase()\n",
    "obj1.count"
   ]
  },
  {
   "cell_type": "markdown",
   "id": "47da1fff",
   "metadata": {},
   "source": [
    "Q4. Where and how are instance attributes created?"
   ]
  },
  {
   "cell_type": "markdown",
   "id": "62be02d3",
   "metadata": {},
   "source": [
    "Ans: Instances attributes are passed to the class when an object of the class is created. Unlike class attributes, instance attributes are not shared by all objects of the classs. instead each object maintains its own copy of instance attributes at object level. whereas incase of class attributes all instances of class refer to a single copy. Usually instance attributes are defined within the __init__ method of class"
   ]
  },
  {
   "cell_type": "code",
   "execution_count": 3,
   "id": "e6b45467",
   "metadata": {},
   "outputs": [],
   "source": [
    "class car():\n",
    "    def __init__(self,mileage,model):\n",
    "        self.mileage=mileage\n",
    "        self.model=model\n",
    "    "
   ]
  },
  {
   "cell_type": "code",
   "execution_count": 5,
   "id": "ef494fcc",
   "metadata": {},
   "outputs": [],
   "source": [
    "bmw=car(8,\"s_class\")\n"
   ]
  },
  {
   "cell_type": "code",
   "execution_count": 6,
   "id": "96cb9c1d",
   "metadata": {},
   "outputs": [
    {
     "data": {
      "text/plain": [
       "8"
      ]
     },
     "execution_count": 6,
     "metadata": {},
     "output_type": "execute_result"
    }
   ],
   "source": [
    "bmw.mileage"
   ]
  },
  {
   "cell_type": "code",
   "execution_count": 7,
   "id": "e6b84736",
   "metadata": {},
   "outputs": [
    {
     "data": {
      "text/plain": [
       "'s_class'"
      ]
     },
     "execution_count": 7,
     "metadata": {},
     "output_type": "execute_result"
    }
   ],
   "source": [
    "bmw.model"
   ]
  },
  {
   "cell_type": "markdown",
   "id": "e2b9e4b0",
   "metadata": {},
   "source": [
    "Q5. What does the term 'self' in a Python class mean?"
   ]
  },
  {
   "cell_type": "markdown",
   "id": "f63af054",
   "metadata": {},
   "source": [
    "ans : The self in Python is used to represent the instance of the class. With this Self keyword in Python, you can access the attributes and methods of the class"
   ]
  },
  {
   "cell_type": "markdown",
   "id": "7ade1417",
   "metadata": {},
   "source": [
    "Q6. How does a Python class handle operator overloading?"
   ]
  },
  {
   "cell_type": "raw",
   "id": "32d3ad14",
   "metadata": {},
   "source": [
    "Ans: Python Classes handle operator overloading by using special methods called Magic methods. these special methods usually begin and end with __ (double underscore)\n",
    "\n",
    "Example: Magic methods for basic arithmetic operators are:\n",
    "   + = __add__()\n",
    "   \n",
    "   - = __sub__()\n",
    "   \n",
    "   * = __mul__()\n",
    "   \n",
    "   / = __div__()"
   ]
  },
  {
   "cell_type": "markdown",
   "id": "42c8ad1f",
   "metadata": {},
   "source": [
    "Q7. When do you consider allowing operator overloading of your classes?"
   ]
  },
  {
   "cell_type": "markdown",
   "id": "dc138c2d",
   "metadata": {},
   "source": [
    "ans: Operator Overloading means giving extended meaning beyond their predefined operational meaning. For example operator + is used to add two integers as well as join two strings and merge two lists. It is achievable because '+' operator is overloaded by int class and str class."
   ]
  },
  {
   "cell_type": "code",
   "execution_count": 9,
   "id": "b2a15803",
   "metadata": {},
   "outputs": [
    {
     "data": {
      "text/plain": [
       "6"
      ]
     },
     "execution_count": 9,
     "metadata": {},
     "output_type": "execute_result"
    }
   ],
   "source": [
    "class animal:\n",
    "    def __init__(self,legs):\n",
    "        self.legs = legs\n",
    "    def __add__(self,other):\n",
    "        return self.legs + other.legs\n",
    "ostrich=animal(2)\n",
    "lion=animal(4)\n",
    "ostrich+lion"
   ]
  },
  {
   "cell_type": "markdown",
   "id": "ec2c36c9",
   "metadata": {},
   "source": [
    "Q8. What is the most popular form of operator overloading?"
   ]
  },
  {
   "cell_type": "raw",
   "id": "3b5e0ec3",
   "metadata": {},
   "source": [
    "ans: \n",
    "    + = __add__()\n",
    "   \n",
    "    - = __sub__()\n",
    "   \n",
    "    * = __mul__()\n",
    "   \n",
    "    / = __div__()"
   ]
  },
  {
   "cell_type": "markdown",
   "id": "23dafbe5",
   "metadata": {},
   "source": [
    "Q9. What are the two most important concepts to grasp in order to comprehend Python OOP code?"
   ]
  },
  {
   "cell_type": "markdown",
   "id": "c0ca2f8e",
   "metadata": {},
   "source": [
    "ans: inheritance and polymorphism are two important topics to grasp in python oops"
   ]
  },
  {
   "cell_type": "code",
   "execution_count": null,
   "id": "523699e4",
   "metadata": {},
   "outputs": [],
   "source": []
  }
 ],
 "metadata": {
  "kernelspec": {
   "display_name": "Python 3 (ipykernel)",
   "language": "python",
   "name": "python3"
  },
  "language_info": {
   "codemirror_mode": {
    "name": "ipython",
    "version": 3
   },
   "file_extension": ".py",
   "mimetype": "text/x-python",
   "name": "python",
   "nbconvert_exporter": "python",
   "pygments_lexer": "ipython3",
   "version": "3.9.12"
  }
 },
 "nbformat": 4,
 "nbformat_minor": 5
}
