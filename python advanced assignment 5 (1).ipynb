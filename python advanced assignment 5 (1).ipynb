{
 "cells": [
  {
   "cell_type": "markdown",
   "id": "9ae8b0fa",
   "metadata": {},
   "source": [
    "Q1. What is the meaning of multiple inheritance?"
   ]
  },
  {
   "cell_type": "markdown",
   "id": "a78b92fe",
   "metadata": {},
   "source": [
    "ans: When a class is derived from more than one base class it is called multiple Inheritance. The derived class inherits all the features of the base case."
   ]
  },
  {
   "cell_type": "code",
   "execution_count": 44,
   "id": "6a34ad09",
   "metadata": {},
   "outputs": [],
   "source": [
    "class employee:\n",
    "    def __init__(self,salary):\n",
    "        self.salary=salary\n",
    "\n",
    "class calculation(employee):\n",
    "    def __init__(self,salary,bonus):\n",
    "        super().__init__(salary)\n",
    "        self.bonus=bonus\n",
    "    def total(self):\n",
    "        return self.salary+self.bonus\n",
    "\n",
    "    "
   ]
  },
  {
   "cell_type": "code",
   "execution_count": 45,
   "id": "1c23e388",
   "metadata": {},
   "outputs": [
    {
     "data": {
      "text/plain": [
       "110000"
      ]
     },
     "execution_count": 45,
     "metadata": {},
     "output_type": "execute_result"
    }
   ],
   "source": [
    "adi=calculation(100000,10000)\n",
    "adi.total()\n",
    "\n"
   ]
  },
  {
   "cell_type": "markdown",
   "id": "5b308758",
   "metadata": {},
   "source": [
    "Q2. What is the concept of delegation?"
   ]
  },
  {
   "cell_type": "markdown",
   "id": "8731b76b",
   "metadata": {},
   "source": [
    "ans= delegation of method of passing a object in another object inorder to get the functionalities of the object in the specific class"
   ]
  },
  {
   "cell_type": "code",
   "execution_count": 65,
   "id": "3ae44da6",
   "metadata": {},
   "outputs": [],
   "source": [
    "class polygon:\n",
    "    def __init__(self,name,sides):\n",
    "        self.sides=sides\n",
    "        self.name=name\n",
    "    def description(self):\n",
    "        print(\"this is a {} having sides {}\".format(self.name,self.sides))\n",
    "class sqaure():\n",
    "    def __init__(self,object):\n",
    "        self.object=object\n",
    "    def describe(self):\n",
    "        self.object.description()\n",
    "\n"
   ]
  },
  {
   "cell_type": "code",
   "execution_count": 66,
   "id": "d9135f2d",
   "metadata": {},
   "outputs": [],
   "source": [
    "fig=polygon(\"square\",4)\n",
    "fig1=sqaure(fig)"
   ]
  },
  {
   "cell_type": "code",
   "execution_count": 67,
   "id": "baddaaa7",
   "metadata": {},
   "outputs": [
    {
     "name": "stdout",
     "output_type": "stream",
     "text": [
      "this is a square having sides 4\n"
     ]
    }
   ],
   "source": [
    "fig1.describe()"
   ]
  },
  {
   "cell_type": "markdown",
   "id": "7d08c4f1",
   "metadata": {},
   "source": [
    "Q3. What is the concept of composition?"
   ]
  },
  {
   "cell_type": "markdown",
   "id": "389d0e57",
   "metadata": {},
   "source": [
    "Ans: In the concept of Composition, a class refers to one or more other classes by using instances of those classes as a instance variable. irrespective of inheritence in this approach all the parent class members are not inherited into child class, but only required methods from a class are used by using class instance"
   ]
  },
  {
   "cell_type": "code",
   "execution_count": 74,
   "id": "47a16afb",
   "metadata": {},
   "outputs": [],
   "source": [
    "class Salary:\n",
    "    def __init__(self,pay,bonus):\n",
    "        self.pay=pay\n",
    "        self.bonus=bonus\n",
    "    def annual_salary(self):\n",
    "        return self.pay*12 + self.bonus\n",
    "\n",
    "class employee:\n",
    "    def __init__(self,age,name,pay,bonus):\n",
    "        self.age=age\n",
    "        self.name=name\n",
    "        self.obj_salary=Salary(pay,bonus)\n",
    "    def Total_salary(self):\n",
    "        return self.obj_salary.annual_salary()\n",
    "    "
   ]
  },
  {
   "cell_type": "code",
   "execution_count": 75,
   "id": "c7da98df",
   "metadata": {},
   "outputs": [],
   "source": [
    "emp=employee(25,\"adhi\",30000,10000)"
   ]
  },
  {
   "cell_type": "code",
   "execution_count": 76,
   "id": "5f5c5b2c",
   "metadata": {},
   "outputs": [
    {
     "data": {
      "text/plain": [
       "370000"
      ]
     },
     "execution_count": 76,
     "metadata": {},
     "output_type": "execute_result"
    }
   ],
   "source": [
    "emp.Total_salary()"
   ]
  },
  {
   "cell_type": "markdown",
   "id": "027ef072",
   "metadata": {},
   "source": [
    "Q4. What are bound methods and how do we use them?"
   ]
  },
  {
   "cell_type": "markdown",
   "id": "b4130b4a",
   "metadata": {},
   "source": [
    "ans: bound method is used to access the function in the class. if in the function self is passed as the first argument then it is called bound method."
   ]
  },
  {
   "cell_type": "code",
   "execution_count": 77,
   "id": "0247a98f",
   "metadata": {},
   "outputs": [],
   "source": [
    "class polygon:\n",
    "    def describe(self): #bound method\n",
    "        return \"this is the class of polygone\""
   ]
  },
  {
   "cell_type": "markdown",
   "id": "07e63fbd",
   "metadata": {},
   "source": [
    "Q5. What is the purpose of pseudoprivate attributes?"
   ]
  },
  {
   "cell_type": "markdown",
   "id": "b3ad156c",
   "metadata": {},
   "source": [
    "ans: pseudoprivate attributes are used to localize a name to the class that created it, and does not prevent access by code outside the class. That is, this feature is mostly intended to avoid namespace collisions in instances, not to restrict access to names in general."
   ]
  },
  {
   "cell_type": "code",
   "execution_count": 78,
   "id": "067cea1d",
   "metadata": {},
   "outputs": [],
   "source": [
    "class car:\n",
    "    def __init__(self,mileage,model):\n",
    "        self.mileage=mileage\n",
    "        self.__model=model"
   ]
  },
  {
   "cell_type": "code",
   "execution_count": 79,
   "id": "4b7ffe81",
   "metadata": {},
   "outputs": [],
   "source": [
    "audi=car(6,\"A8\")"
   ]
  },
  {
   "cell_type": "code",
   "execution_count": 80,
   "id": "eb83549b",
   "metadata": {},
   "outputs": [
    {
     "data": {
      "text/plain": [
       "6"
      ]
     },
     "execution_count": 80,
     "metadata": {},
     "output_type": "execute_result"
    }
   ],
   "source": [
    "audi.mileage"
   ]
  },
  {
   "cell_type": "code",
   "execution_count": 82,
   "id": "615edaaf",
   "metadata": {},
   "outputs": [
    {
     "data": {
      "text/plain": [
       "'A8'"
      ]
     },
     "execution_count": 82,
     "metadata": {},
     "output_type": "execute_result"
    }
   ],
   "source": [
    "audi._car__model"
   ]
  },
  {
   "cell_type": "code",
   "execution_count": null,
   "id": "bd4145f4",
   "metadata": {},
   "outputs": [],
   "source": []
  }
 ],
 "metadata": {
  "kernelspec": {
   "display_name": "Python 3 (ipykernel)",
   "language": "python",
   "name": "python3"
  },
  "language_info": {
   "codemirror_mode": {
    "name": "ipython",
    "version": 3
   },
   "file_extension": ".py",
   "mimetype": "text/x-python",
   "name": "python",
   "nbconvert_exporter": "python",
   "pygments_lexer": "ipython3",
   "version": "3.9.12"
  }
 },
 "nbformat": 4,
 "nbformat_minor": 5
}
