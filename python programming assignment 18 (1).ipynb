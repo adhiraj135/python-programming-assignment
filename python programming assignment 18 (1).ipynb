{
 "cells": [
  {
   "cell_type": "markdown",
   "id": "2acaf4c4",
   "metadata": {},
   "source": [
    "Question 1\n",
    "\n",
    "Create a function that takes a list of non-negative integers and strings and return a new list\n",
    "without the strings.\n",
    "\n",
    "Examples\n",
    "\n",
    "filter_list([1, 2,\"a\",\"b\"]) ➞ [1, 2]\n",
    "\n",
    "filter_list([1,\"a\",\"b\", 0, 15]) ➞ [1, 0, 15]\n",
    "\n",
    "filter_list([1, 2,\"aasf\",\"1\",\"123\", 123]) ➞ [1, 2, 123]"
   ]
  },
  {
   "cell_type": "code",
   "execution_count": 1,
   "id": "2531ec16",
   "metadata": {},
   "outputs": [],
   "source": [
    "def filter_list(l):\n",
    "    l1=[]\n",
    "    for i in l:\n",
    "        if type(i)==int and i>=0:\n",
    "            l1.append(i)\n",
    "    return l1\n",
    "            "
   ]
  },
  {
   "cell_type": "code",
   "execution_count": 4,
   "id": "ef4eef73",
   "metadata": {},
   "outputs": [
    {
     "name": "stdout",
     "output_type": "stream",
     "text": [
      "filter_list([1, 2,\"a\",\"b\"]) ➞[1, 2]\n",
      "filter_list([1,\"a\",\"b\", 0, 15]) ➞[1, 0, 15]\n",
      "filter_list([1, 2,\"aasf\",\"1\",\"123\", 123]) ➞[1, 2, 123]\n"
     ]
    }
   ],
   "source": [
    "print(f'filter_list([1, 2,\"a\",\"b\"]) ➞{filter_list([1, 2,\"a\",\"b\"])}')\n",
    "print(f'filter_list([1,\"a\",\"b\", 0, 15]) ➞{filter_list([1,\"a\",\"b\", 0, 15])}')\n",
    "print(f'filter_list([1, 2,\"aasf\",\"1\",\"123\", 123]) ➞{filter_list([1, 2,\"aasf\",\"1\",\"123\", 123])}')\n"
   ]
  },
  {
   "cell_type": "markdown",
   "id": "1648a05c",
   "metadata": {},
   "source": [
    "Question 2\n",
    "\n",
    "The \"Reverser\" takes a string as input and returns that string in reverse order, with the\n",
    "opposite case.\n",
    "\n",
    "Examples\n",
    "\n",
    "reverse(\"Hello World\") ➞ \"DLROw OLLEh\"\n",
    "\n",
    "reverse(\"ReVeRsE\") ➞ \"eSrEvEr\"\n",
    "\n",
    "reverse(\"Radar\") ➞ \"RADAr\""
   ]
  },
  {
   "cell_type": "code",
   "execution_count": 5,
   "id": "717f958b",
   "metadata": {},
   "outputs": [],
   "source": [
    "def reverse(s):\n",
    "    s.swapcase()\n",
    "    return s.swapcase()[::-1]"
   ]
  },
  {
   "cell_type": "code",
   "execution_count": 12,
   "id": "9b255555",
   "metadata": {},
   "outputs": [
    {
     "name": "stdout",
     "output_type": "stream",
     "text": [
      "reverse(\"Hello World\")➞ DLROw OLLEh\n",
      "reverse(\"ReVeRsE\")➞ eSrEvEr\n",
      "reverse(\"Radar\")➞ RADAr\n"
     ]
    }
   ],
   "source": [
    "print(f'reverse(\"Hello World\")➞ {reverse(\"Hello World\")}')\n",
    "print(f'reverse(\"ReVeRsE\")➞ {reverse(\"ReVeRsE\")}')\n",
    "print(f'reverse(\"Radar\")➞ {reverse(\"Radar\")}')"
   ]
  },
  {
   "cell_type": "markdown",
   "id": "bf0d5de1",
   "metadata": {},
   "source": [
    "Question 3\n",
    "\n",
    "You can assign variables from lists like this:\n",
    "\n",
    "lst = [1, 2, 3, 4, 5, 6]\n",
    "\n",
    "first = lst[0]\n",
    "\n",
    "middle = lst[1:-1]\n",
    "\n",
    "last = lst[-1]\n",
    "\n",
    "print(first) ➞ outputs 1\n",
    "\n",
    "print(middle) ➞ outputs [2, 3, 4, 5]\n",
    "\n",
    "print(last) ➞ outputs 6\n",
    "\n",
    "With Python 3, you can assign variables from lists in a much more succinct way. Create\n",
    "variables first, middle and last from the given list using destructuring assignment\n",
    "(check the Resources tab for some examples), where:\n",
    "\n",
    "first ➞ 1\n",
    "\n",
    "middle ➞ [2, 3, 4, 5]\n",
    "\n",
    "last ➞ 6"
   ]
  },
  {
   "cell_type": "code",
   "execution_count": 19,
   "id": "5050e456",
   "metadata": {},
   "outputs": [],
   "source": [
    "def check(l):\n",
    "    first,*middle,last=l\n",
    "    print(f'first➞{first}')\n",
    "    print(f'middle➞{middle}')\n",
    "    print(f'last➞{last}')\n",
    "        "
   ]
  },
  {
   "cell_type": "code",
   "execution_count": 20,
   "id": "f7f17257",
   "metadata": {},
   "outputs": [
    {
     "name": "stdout",
     "output_type": "stream",
     "text": [
      "first➞1\n",
      "middle➞[2, 3, 4, 5]\n",
      "last➞6\n"
     ]
    }
   ],
   "source": [
    "check([1,2,3,4,5,6])"
   ]
  },
  {
   "cell_type": "markdown",
   "id": "18db00ba",
   "metadata": {},
   "source": [
    "Question 4\n",
    "\n",
    "Write a function that calculates the factorial of a number recursively.\n",
    "Examples\n",
    "\n",
    "factorial(5) ➞ 120\n",
    "\n",
    "factorial(3) ➞ 6\n",
    "\n",
    "factorial(1) ➞ 1\n",
    "\n",
    "factorial(0) ➞ 1"
   ]
  },
  {
   "cell_type": "code",
   "execution_count": 1,
   "id": "c85e23e5",
   "metadata": {},
   "outputs": [],
   "source": [
    "def factorial(n):\n",
    "    if n==0:\n",
    "        return 1\n",
    "    return n*factorial(n-1)"
   ]
  },
  {
   "cell_type": "code",
   "execution_count": 3,
   "id": "110e9f3e",
   "metadata": {},
   "outputs": [
    {
     "name": "stdout",
     "output_type": "stream",
     "text": [
      "factorial(5)➞120\n",
      "factorial(3)➞6\n",
      "factorial(1)➞1\n",
      "factorial(0)➞1\n"
     ]
    }
   ],
   "source": [
    "print(f'factorial(5)➞{factorial(5)}')\n",
    "print(f'factorial(3)➞{factorial(3)}')\n",
    "print(f'factorial(1)➞{factorial(1)}')\n",
    "print(f'factorial(0)➞{factorial(0)}')"
   ]
  },
  {
   "cell_type": "raw",
   "id": "454589b1",
   "metadata": {},
   "source": [
    "Question 5\n",
    "\n",
    "Write a function that moves all elements of one type to the end of the list.\n",
    "\n",
    "Examples\n",
    "\n",
    "move_to_end([1, 3, 2, 4, 4, 1], 1) ➞ [3, 2, 4, 4, 1, 1]\n",
    "\n",
    "# Move all the 1s to the end of the array.\n",
    "\n",
    "move_to_end([7, 8, 9, 1, 2, 3, 4], 9) ➞ [7, 8, 1, 2, 3, 4, 9]\n",
    "\n",
    "\n",
    "move_to_end([\"a\", \"a\", \"a\", \"b\"], \"a\") ➞ [\"b\", \"a\", \"a\", \"a\"]"
   ]
  },
  {
   "cell_type": "code",
   "execution_count": 20,
   "id": "c32f37dc",
   "metadata": {},
   "outputs": [],
   "source": [
    "def move_to_end(l,i):\n",
    "    for j in l:\n",
    "        if j==i:\n",
    "            l.remove(i)\n",
    "            l.append(i)\n",
    "    return l\n",
    "        \n",
    "    "
   ]
  },
  {
   "cell_type": "code",
   "execution_count": 21,
   "id": "55d7267a",
   "metadata": {},
   "outputs": [
    {
     "name": "stdout",
     "output_type": "stream",
     "text": [
      "move_to_end([1, 3, 2, 4, 4, 1], 1) ➞ [3, 2, 4, 4, 1, 1]\n",
      "move_to_end([7, 8, 9, 1, 2, 3, 4], 9) ➞ [7, 8, 1, 2, 3, 4, 9]\n",
      "move_to_end([\"a\", \"a\", \"a\", \"b\"], \"a\") ➞ ['b', 'a', 'a', 'a']\n"
     ]
    }
   ],
   "source": [
    "print(f'move_to_end([1, 3, 2, 4, 4, 1], 1) ➞ {move_to_end([1, 3, 2, 4, 4, 1], 1)}')\n",
    "print(f'move_to_end([7, 8, 9, 1, 2, 3, 4], 9) ➞ {move_to_end([7, 8, 9, 1, 2, 3, 4], 9)}')\n",
    "print(f'move_to_end([\"a\", \"a\", \"a\", \"b\"], \"a\") ➞ {move_to_end([\"a\", \"a\", \"a\", \"b\"], \"a\")}')"
   ]
  },
  {
   "cell_type": "code",
   "execution_count": null,
   "id": "549803be",
   "metadata": {},
   "outputs": [],
   "source": []
  }
 ],
 "metadata": {
  "kernelspec": {
   "display_name": "Python 3 (ipykernel)",
   "language": "python",
   "name": "python3"
  },
  "language_info": {
   "codemirror_mode": {
    "name": "ipython",
    "version": 3
   },
   "file_extension": ".py",
   "mimetype": "text/x-python",
   "name": "python",
   "nbconvert_exporter": "python",
   "pygments_lexer": "ipython3",
   "version": "3.9.12"
  }
 },
 "nbformat": 4,
 "nbformat_minor": 5
}
