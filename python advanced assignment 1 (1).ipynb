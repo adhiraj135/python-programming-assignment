{
 "cells": [
  {
   "cell_type": "markdown",
   "id": "83698c50",
   "metadata": {},
   "source": [
    "Q1. What is the purpose of Python's OOP?"
   ]
  },
  {
   "cell_type": "markdown",
   "id": "90eb7cca",
   "metadata": {},
   "source": [
    "ans= In Python, object-oriented Programming (OOPs) is a programming paradigm that uses objects and classes in programming. It aims to implement real-world entities like inheritance, polymorphisms, encapsulation, etc. in the programming."
   ]
  },
  {
   "cell_type": "markdown",
   "id": "f99fc7e5",
   "metadata": {},
   "source": [
    "Q2. Where does an inheritance search look for an attribute?"
   ]
  },
  {
   "cell_type": "markdown",
   "id": "388db407",
   "metadata": {},
   "source": [
    "ans= Python searches for an attribute in an upward tree of attributes. it first searches for the attribute in its instance and then looks in the class it is generated from, to all super classes listed in its class header"
   ]
  },
  {
   "cell_type": "markdown",
   "id": "2c087d41",
   "metadata": {},
   "source": [
    "Q3. How do you distinguish between a class object and an instance object?"
   ]
  },
  {
   "cell_type": "markdown",
   "id": "35176094",
   "metadata": {},
   "source": [
    "ans= \n",
    "\n",
    "class object - when we create a class in python then a class object is created so whenever python finds a class statement in the whole program then it creates a class object and assigns a name to that object i.e. class name. As we know in python, everything is an object so the class itself is an object and is the instance of metaclasses.\n",
    "\n",
    "insance object - when we call a class, it creates an instance object of that class from which the object has been created. For example when we call the above-created class then it will create an instance object"
   ]
  },
  {
   "cell_type": "markdown",
   "id": "1f06357c",
   "metadata": {},
   "source": [
    "Q4. What makes the first argument in a class’s method function special?"
   ]
  },
  {
   "cell_type": "markdown",
   "id": "06878eda",
   "metadata": {},
   "source": [
    "ans= The first argument of every class method, including init, is always a reference to the current instance of the class. By convention, this argument is always named self. In the init method, self refers to the newly created object; in other class methods, it refers to the instance whose method was called."
   ]
  },
  {
   "cell_type": "markdown",
   "id": "bba2d4bc",
   "metadata": {},
   "source": [
    "Q5. What is the purpose of the __init__ method?"
   ]
  },
  {
   "cell_type": "markdown",
   "id": "d9b0df26",
   "metadata": {},
   "source": [
    "ans- nit is short for initialization. It is a constructor which gets called when you make an instance of the class and it is not necessary. But usually it our practice to write init method for setting default state of the object."
   ]
  },
  {
   "cell_type": "markdown",
   "id": "8341b42b",
   "metadata": {},
   "source": [
    "Q6. What is the process for creating a class instance?"
   ]
  },
  {
   "cell_type": "markdown",
   "id": "9f176cd0",
   "metadata": {},
   "source": [
    "ans= To create instances of a class, you call the class using class name and pass in whatever arguments its __init__ method accepts."
   ]
  },
  {
   "cell_type": "code",
   "execution_count": 12,
   "id": "67010da7",
   "metadata": {},
   "outputs": [],
   "source": [
    "class student:\n",
    "    def __init__(self,roll_no,subject):\n",
    "        self.roll_no=roll_no\n",
    "        self.subject=subject\n",
    "    "
   ]
  },
  {
   "cell_type": "code",
   "execution_count": 16,
   "id": "1fd55e1f",
   "metadata": {},
   "outputs": [
    {
     "name": "stdout",
     "output_type": "stream",
     "text": [
      "2\n",
      "datascience\n"
     ]
    }
   ],
   "source": [
    "adhi=student(2,\"datascience\")\n",
    "print(adhi.roll_no)\n",
    "print(adhi.subject)"
   ]
  },
  {
   "cell_type": "markdown",
   "id": "10697456",
   "metadata": {},
   "source": [
    "Q7. What is the process for creating a class?"
   ]
  },
  {
   "cell_type": "raw",
   "id": "f8dc01c5",
   "metadata": {},
   "source": [
    "ans- \n",
    "\n",
    "class is created with class<classname>:\n",
    "\n",
    "ex= class bike \n",
    "\n",
    "it is class of bike"
   ]
  },
  {
   "cell_type": "markdown",
   "id": "8ddd6b12",
   "metadata": {},
   "source": [
    "Q8. How would you define the superclasses of a class?"
   ]
  },
  {
   "cell_type": "markdown",
   "id": "502bdfb8",
   "metadata": {},
   "source": [
    "ans- The class from which a class inherits is called the parent or superclass. A class which inherits from a superclass is called a subclass, also called heir class or child class.\n",
    "\n",
    "class bmw(car)\n",
    "\n",
    "in the above bmv is child class and car is the parent class of bmw class"
   ]
  },
  {
   "cell_type": "code",
   "execution_count": null,
   "id": "085f0130",
   "metadata": {},
   "outputs": [],
   "source": []
  }
 ],
 "metadata": {
  "kernelspec": {
   "display_name": "Python 3 (ipykernel)",
   "language": "python",
   "name": "python3"
  },
  "language_info": {
   "codemirror_mode": {
    "name": "ipython",
    "version": 3
   },
   "file_extension": ".py",
   "mimetype": "text/x-python",
   "name": "python",
   "nbconvert_exporter": "python",
   "pygments_lexer": "ipython3",
   "version": "3.9.12"
  }
 },
 "nbformat": 4,
 "nbformat_minor": 5
}
