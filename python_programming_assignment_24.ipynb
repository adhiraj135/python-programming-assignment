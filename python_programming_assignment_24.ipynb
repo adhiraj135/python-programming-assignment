{
  "nbformat": 4,
  "nbformat_minor": 0,
  "metadata": {
    "colab": {
      "name": "python programming assignment 24",
      "provenance": []
    },
    "kernelspec": {
      "name": "python3",
      "display_name": "Python 3"
    },
    "language_info": {
      "name": "python"
    }
  },
  "cells": [
    {
      "cell_type": "code",
      "execution_count": null,
      "metadata": {
        "id": "f-vsnNg8N5qf"
      },
      "outputs": [],
      "source": [
        ""
      ]
    },
    {
      "cell_type": "markdown",
      "source": [
        "Question1\n",
        "\n",
        "Create a function that takes an integer and returns a list from 1 to the given number, where:\n",
        "1. If the number can be divided evenly by 4, amplify it by 10 (i.e. return 10 times the\n",
        "number).\n",
        "2. If the number cannot be divided evenly by 4, simply return the number."
      ],
      "metadata": {
        "id": "s4_7sMNON9qQ"
      }
    },
    {
      "cell_type": "code",
      "source": [
        "def amplify(n):\n",
        "  l=[]\n",
        "  for i in range(1,n+1):  \n",
        "    if i%4!=0:\n",
        "      l.append(i)\n",
        "    elif i%4==0:\n",
        "      l.append(i*10)\n",
        "  return l"
      ],
      "metadata": {
        "id": "uSueK4jkOPGg"
      },
      "execution_count": null,
      "outputs": []
    },
    {
      "cell_type": "code",
      "source": [
        "print(f'amplify(4) ➞ {amplify(4)}')\n",
        "print(f'amplify(3) ➞ {amplify(3)}')\n",
        "print(f'amplify(25) ➞ {amplify(25)}')"
      ],
      "metadata": {
        "colab": {
          "base_uri": "https://localhost:8080/"
        },
        "id": "ttpWr8kROwxv",
        "outputId": "588b52ee-511e-4071-e7f9-14f88586c98e"
      },
      "execution_count": null,
      "outputs": [
        {
          "output_type": "stream",
          "name": "stdout",
          "text": [
            "amplify(4) ➞ [1, 2, 3, 40]\n",
            "amplify(3) ➞ [1, 2, 3]\n",
            "amplify(25) ➞ [1, 2, 3, 40, 5, 6, 7, 80, 9, 10, 11, 120, 13, 14, 15, 160, 17, 18, 19, 200, 21, 22, 23, 240, 25]\n"
          ]
        }
      ]
    },
    {
      "cell_type": "markdown",
      "source": [
        "Question2\n",
        "\n",
        "Create a function that takes a list of numbers and return the number that's unique."
      ],
      "metadata": {
        "id": "af7KXPZgQU2U"
      }
    },
    {
      "cell_type": "code",
      "source": [
        "def unique(l):\n",
        "  for i in l:\n",
        "    if l.count(i)==1:\n",
        "      return i"
      ],
      "metadata": {
        "id": "xRz3SBRNQXoq"
      },
      "execution_count": null,
      "outputs": []
    },
    {
      "cell_type": "code",
      "source": [
        "print(f'unique([3, 3, 3, 7, 3, 3]) ➞ {unique([3, 3, 3, 7, 3, 3])}')\n",
        "print(f'unique([0, 0, 0, .77, 0, 0]) ➞ {unique([0, 0, 0, .77, 0, 0])}')\n",
        "print(f'unique([0, 1, 1,1, 1, 1]) ➞ {unique([0, 1, 1,1, 1, 1])}')\n"
      ],
      "metadata": {
        "colab": {
          "base_uri": "https://localhost:8080/"
        },
        "id": "ZQux1xW5Qkw5",
        "outputId": "4bc42728-ed54-457d-f4ca-fadf9d92363a"
      },
      "execution_count": null,
      "outputs": [
        {
          "output_type": "stream",
          "name": "stdout",
          "text": [
            "unique([3, 3, 3, 7, 3, 3]) ➞ 7\n",
            "unique([0, 0, 0, .77, 0, 0]) ➞ 0.77\n",
            "unique([0, 1, 1,1, 1, 1]) ➞ 0\n"
          ]
        }
      ]
    },
    {
      "cell_type": "markdown",
      "source": [
        "Question3\n",
        "\n",
        "Your task is to create a Circle constructor that creates a circle with a radius provided by an\n",
        "argument. The circles constructed must have two getters getArea() (PIr^2) and\n",
        "getPerimeter() (2PI*r) which give both respective areas and perimeter (circumference).\n",
        "\n",
        "For help with this class, I have provided you with a Rectangle constructor which you can use\n",
        "as a base example."
      ],
      "metadata": {
        "id": "N1PVYAcsRZC6"
      }
    },
    {
      "cell_type": "code",
      "source": [
        "import math\n",
        "class Rectangle():\n",
        "  def __init__(self,radius):\n",
        "    self.radius=radius\n",
        "  def getarea(self):\n",
        "    return math.pi*(self.radius)**2\n",
        "  def getcircumference(self):\n",
        "    return 2*math.pi*self.radius\n"
      ],
      "metadata": {
        "id": "alJmImi3RbSU"
      },
      "execution_count": null,
      "outputs": []
    },
    {
      "cell_type": "code",
      "source": [
        "obj1=Rectangle(10)"
      ],
      "metadata": {
        "id": "kbQ4C3g8R8WU"
      },
      "execution_count": null,
      "outputs": []
    },
    {
      "cell_type": "code",
      "source": [
        "obj1.getarea()"
      ],
      "metadata": {
        "colab": {
          "base_uri": "https://localhost:8080/"
        },
        "id": "U9RKxW8vSCm7",
        "outputId": "fe460122-aa0e-4aba-af7d-cebe898e0278"
      },
      "execution_count": null,
      "outputs": [
        {
          "output_type": "execute_result",
          "data": {
            "text/plain": [
              "314.1592653589793"
            ]
          },
          "metadata": {},
          "execution_count": 28
        }
      ]
    },
    {
      "cell_type": "code",
      "source": [
        "obj1.getcircumference()"
      ],
      "metadata": {
        "colab": {
          "base_uri": "https://localhost:8080/"
        },
        "id": "ntYeuY2ESE19",
        "outputId": "89c7c4e4-7078-4d32-b001-2cd18fa702e1"
      },
      "execution_count": null,
      "outputs": [
        {
          "output_type": "execute_result",
          "data": {
            "text/plain": [
              "62.83185307179586"
            ]
          },
          "metadata": {},
          "execution_count": 30
        }
      ]
    },
    {
      "cell_type": "markdown",
      "source": [
        "Question 4\n",
        "\n",
        "Create a function that takes a list of strings and return a list, sorted from shortest to longest."
      ],
      "metadata": {
        "id": "X60D96YwSjZg"
      }
    },
    {
      "cell_type": "code",
      "source": [
        "def sort_by_length(l):\n",
        "    print(sorted(l,key=len))\n",
        "sort_by_length([\"Google\", \"Apple\", \"Microsoft\"])\n",
        "sort_by_length([\"Leonardo\", \"Michelangelo\", \"Raphael\", \"Donatello\"])\n",
        "sort_by_length([\"Turing\", \"Einstein\", \"Jung\"])\n",
        "\n",
        "    \n",
        "\n",
        "\n",
        "  \n",
        "    \n",
        "  \n",
        "    \n",
        "  \n",
        "\n",
        "      \n",
        "    "
      ],
      "metadata": {
        "id": "tnBUzgOaSl92",
        "colab": {
          "base_uri": "https://localhost:8080/"
        },
        "outputId": "80ec565f-a847-492b-b1d8-e765a9ead724"
      },
      "execution_count": 84,
      "outputs": [
        {
          "output_type": "stream",
          "name": "stdout",
          "text": [
            "['Apple', 'Google', 'Microsoft']\n",
            "['Raphael', 'Leonardo', 'Donatello', 'Michelangelo']\n",
            "['Jung', 'Turing', 'Einstein']\n"
          ]
        }
      ]
    },
    {
      "cell_type": "markdown",
      "source": [
        "Question5\n",
        "\n",
        "Create a function that validates whether three given integers form a Pythagorean triplet. The\n",
        "sum of the squares of the two smallest integers must equal the square of the largest number to\n",
        "be validated."
      ],
      "metadata": {
        "id": "vfXdmmfXfm_2"
      }
    },
    {
      "cell_type": "code",
      "source": [
        "def is_triplet(a,b,c):\n",
        "  for i in a,b,c:\n",
        "    if min(a,b,c)<i<max(a,b,c):\n",
        "      if max(a,b,c)**2== min(a,b,c)**2 +i**2:\n",
        "        return True\n",
        "      else:\n",
        "        return False\n",
        "\n",
        "\n",
        "\n",
        "      \n",
        "     \n",
        "\n",
        "  "
      ],
      "metadata": {
        "id": "hhx2MNt8ftJm"
      },
      "execution_count": 91,
      "outputs": []
    },
    {
      "cell_type": "code",
      "source": [
        "print(f'is_triplet(2,3,4) = {is_triplet(2,3,4)}')\n",
        "print(f'is_triplet(12,13,5) = {is_triplet(12,13,5)}')\n"
      ],
      "metadata": {
        "colab": {
          "base_uri": "https://localhost:8080/"
        },
        "id": "2G-nGvOQgDsf",
        "outputId": "c2d66d44-eef4-4d5e-f991-6dfeca7964b4"
      },
      "execution_count": 94,
      "outputs": [
        {
          "output_type": "stream",
          "name": "stdout",
          "text": [
            "is_triplet(2,3,4) = False\n",
            "is_triplet(12,13,5) = True\n"
          ]
        }
      ]
    },
    {
      "cell_type": "code",
      "source": [
        ""
      ],
      "metadata": {
        "id": "Axf8bUUlirCo"
      },
      "execution_count": null,
      "outputs": []
    }
  ]
}