{
 "cells": [
  {
   "cell_type": "markdown",
   "id": "745b7bb4",
   "metadata": {},
   "source": [
    "1. Write a Python Program to find sum of array?"
   ]
  },
  {
   "cell_type": "code",
   "execution_count": 1,
   "id": "00801754",
   "metadata": {},
   "outputs": [],
   "source": [
    "import numpy as np"
   ]
  },
  {
   "cell_type": "code",
   "execution_count": 7,
   "id": "318f474f",
   "metadata": {},
   "outputs": [
    {
     "data": {
      "text/plain": [
       "matrix([[ 6,  8],\n",
       "        [10, 12]])"
      ]
     },
     "execution_count": 7,
     "metadata": {},
     "output_type": "execute_result"
    }
   ],
   "source": [
    "mat1=np.matrix([[1,2],[3,4]])\n",
    "mat2=np.matrix([[5,6],[7,8]])\n",
    "mat1+mat2"
   ]
  },
  {
   "cell_type": "markdown",
   "id": "f78e2f47",
   "metadata": {},
   "source": [
    "2. Write a Python Program to Multiply Two Matrices?"
   ]
  },
  {
   "cell_type": "code",
   "execution_count": 8,
   "id": "f47f0c14",
   "metadata": {},
   "outputs": [
    {
     "data": {
      "text/plain": [
       "matrix([[19, 22],\n",
       "        [43, 50]])"
      ]
     },
     "execution_count": 8,
     "metadata": {},
     "output_type": "execute_result"
    }
   ],
   "source": [
    "mat1=np.matrix([[1,2],[3,4]])\n",
    "mat2=np.matrix([[5,6],[7,8]])\n",
    "mat1*mat2\n"
   ]
  },
  {
   "cell_type": "markdown",
   "id": "2099937c",
   "metadata": {},
   "source": [
    "3. Write a Python Program to Transpose a Matrix?"
   ]
  },
  {
   "cell_type": "code",
   "execution_count": 10,
   "id": "85a21ae6",
   "metadata": {},
   "outputs": [
    {
     "data": {
      "text/plain": [
       "matrix([[1, 2],\n",
       "        [3, 4]])"
      ]
     },
     "execution_count": 10,
     "metadata": {},
     "output_type": "execute_result"
    }
   ],
   "source": [
    "mat1=np.matrix([[1,2],[3,4]])\n",
    "mat1\n",
    "\n"
   ]
  },
  {
   "cell_type": "code",
   "execution_count": 11,
   "id": "b652d0a7",
   "metadata": {},
   "outputs": [
    {
     "data": {
      "text/plain": [
       "matrix([[1, 3],\n",
       "        [2, 4]])"
      ]
     },
     "execution_count": 11,
     "metadata": {},
     "output_type": "execute_result"
    }
   ],
   "source": [
    "mat1.T"
   ]
  },
  {
   "cell_type": "markdown",
   "id": "7328395f",
   "metadata": {},
   "source": [
    "4. Write a Python Program to Sort Words in Alphabetic Order?"
   ]
  },
  {
   "cell_type": "code",
   "execution_count": 26,
   "id": "0a438669",
   "metadata": {},
   "outputs": [],
   "source": [
    "def sort(para):\n",
    "    return sorted(para.split(\" \"))"
   ]
  },
  {
   "cell_type": "code",
   "execution_count": 27,
   "id": "2ff92171",
   "metadata": {},
   "outputs": [
    {
     "data": {
      "text/plain": [
       "['a', 'am', 'course', 'data', 'i', 'ineuron', 'of', 'science', 'student']"
      ]
     },
     "execution_count": 27,
     "metadata": {},
     "output_type": "execute_result"
    }
   ],
   "source": [
    "sort(\"i am a student of ineuron data science course\")"
   ]
  },
  {
   "cell_type": "markdown",
   "id": "d39ad427",
   "metadata": {},
   "source": [
    "5. Write a Python Program to Remove Punctuation From a String?"
   ]
  },
  {
   "cell_type": "code",
   "execution_count": 47,
   "id": "0f8761e5",
   "metadata": {},
   "outputs": [],
   "source": [
    "def removepunctuation(s):\n",
    "    punctuations = '''!()-[]{};:'\"\\,<>./?@#$%^&*_~'''\n",
    "    p=''\n",
    "    for i in s:\n",
    "        if i not in punctuations:\n",
    "            p=p+i\n",
    "    return p\n",
    "    \n",
    "  "
   ]
  },
  {
   "cell_type": "code",
   "execution_count": 48,
   "id": "cc0c6875",
   "metadata": {},
   "outputs": [
    {
     "data": {
      "text/plain": [
       "'amancja'"
      ]
     },
     "execution_count": 48,
     "metadata": {},
     "output_type": "execute_result"
    }
   ],
   "source": [
    "removepunctuation(\"amanc-&ja\")\n"
   ]
  },
  {
   "cell_type": "code",
   "execution_count": null,
   "id": "d615a872",
   "metadata": {},
   "outputs": [],
   "source": []
  }
 ],
 "metadata": {
  "kernelspec": {
   "display_name": "Python 3 (ipykernel)",
   "language": "python",
   "name": "python3"
  },
  "language_info": {
   "codemirror_mode": {
    "name": "ipython",
    "version": 3
   },
   "file_extension": ".py",
   "mimetype": "text/x-python",
   "name": "python",
   "nbconvert_exporter": "python",
   "pygments_lexer": "ipython3",
   "version": "3.9.12"
  }
 },
 "nbformat": 4,
 "nbformat_minor": 5
}
