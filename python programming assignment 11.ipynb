{
 "cells": [
  {
   "cell_type": "markdown",
   "id": "f102acd5",
   "metadata": {},
   "source": [
    "1. Write a Python program to find words which are greater than given length k?"
   ]
  },
  {
   "cell_type": "code",
   "execution_count": 10,
   "id": "87625a8c",
   "metadata": {},
   "outputs": [],
   "source": [
    "def words_len(para):\n",
    "    for i in para:\n",
    "        if ord(i)>ord('k'):\n",
    "            print(i,end=\" \")"
   ]
  },
  {
   "cell_type": "code",
   "execution_count": 11,
   "id": "d845aa5b",
   "metadata": {},
   "outputs": [
    {
     "name": "stdout",
     "output_type": "stream",
     "text": [
      "l m n o p q r "
     ]
    }
   ],
   "source": [
    "words_len(\"abcdefghijklmnopqr\")"
   ]
  },
  {
   "cell_type": "markdown",
   "id": "d309e296",
   "metadata": {},
   "source": [
    "2. Write a Python program for removing i-th character from a string?"
   ]
  },
  {
   "cell_type": "code",
   "execution_count": 19,
   "id": "02017b0b",
   "metadata": {},
   "outputs": [],
   "source": [
    "def removal(para):\n",
    "    return para.replace(para[5],\"\")"
   ]
  },
  {
   "cell_type": "code",
   "execution_count": 20,
   "id": "d89692db",
   "metadata": {},
   "outputs": [
    {
     "data": {
      "text/plain": [
       "'i m  student of dtscience'"
      ]
     },
     "execution_count": 20,
     "metadata": {},
     "output_type": "execute_result"
    }
   ],
   "source": [
    "removal(\"i am a student of datascience\")"
   ]
  },
  {
   "cell_type": "markdown",
   "id": "71420582",
   "metadata": {},
   "source": [
    "3. Write a Python program to split and join a string?"
   ]
  },
  {
   "cell_type": "code",
   "execution_count": 30,
   "id": "7e02873f",
   "metadata": {},
   "outputs": [],
   "source": [
    "def split_join(para):\n",
    "    para.split(\" \")\n",
    "    return ' '.join(para.split(\" \"))\n"
   ]
  },
  {
   "cell_type": "code",
   "execution_count": 31,
   "id": "80a2ef76",
   "metadata": {},
   "outputs": [
    {
     "data": {
      "text/plain": [
       "'i am a student of datascience'"
      ]
     },
     "execution_count": 31,
     "metadata": {},
     "output_type": "execute_result"
    }
   ],
   "source": [
    "split_join(para)"
   ]
  },
  {
   "cell_type": "markdown",
   "id": "ec4b6066",
   "metadata": {},
   "source": [
    "4. Write a Python to check if a given string is binary string or not?"
   ]
  },
  {
   "cell_type": "code",
   "execution_count": 47,
   "id": "bba89b93",
   "metadata": {},
   "outputs": [],
   "source": [
    "l=\"11101110\""
   ]
  },
  {
   "cell_type": "code",
   "execution_count": 50,
   "id": "18cfa006",
   "metadata": {},
   "outputs": [],
   "source": [
    "def bin_check(l):\n",
    "    b=('10')\n",
    "    count=0\n",
    "    for i in l:\n",
    "        if i not in b:\n",
    "            count=1\n",
    "            break\n",
    "        else:\n",
    "            pass\n",
    "    if count:\n",
    "        print(\"this is not a binary string\")\n",
    "    else:\n",
    "        print(\"this is a binary string\")\n",
    "        "
   ]
  },
  {
   "cell_type": "code",
   "execution_count": 51,
   "id": "7029afc4",
   "metadata": {},
   "outputs": [
    {
     "name": "stdout",
     "output_type": "stream",
     "text": [
      "this is a binary string\n"
     ]
    }
   ],
   "source": [
    "bin_check(l)"
   ]
  },
  {
   "cell_type": "markdown",
   "id": "e5f7ea97",
   "metadata": {},
   "source": [
    "5. Write a Python program to find uncommon words from two Strings?"
   ]
  },
  {
   "cell_type": "code",
   "execution_count": 87,
   "id": "0f191a23",
   "metadata": {},
   "outputs": [],
   "source": [
    "def uncommon(p1,p2):\n",
    "    for i,j in zip(p1,p2):\n",
    "        if i not in p2:\n",
    "            print(i,end=\" \")\n",
    "        if j not in p1:\n",
    "            print(j,end=\" \")\n",
    "            "
   ]
  },
  {
   "cell_type": "code",
   "execution_count": 88,
   "id": "7c25c9bc",
   "metadata": {},
   "outputs": [
    {
     "name": "stdout",
     "output_type": "stream",
     "text": [
      "d b r e e "
     ]
    }
   ],
   "source": [
    "uncommon(\"adhiraj\",\"abhijeet\")"
   ]
  },
  {
   "cell_type": "raw",
   "id": "cec2188a",
   "metadata": {},
   "source": [
    "6. Write a Python to find all duplicate characters in string?"
   ]
  },
  {
   "cell_type": "code",
   "execution_count": 91,
   "id": "927753bb",
   "metadata": {},
   "outputs": [],
   "source": [
    "def common(p1,p2):\n",
    "    for i,j in zip(p1,p2):\n",
    "        if i in p2:\n",
    "            print(i,end=\" \")\n",
    "        "
   ]
  },
  {
   "cell_type": "code",
   "execution_count": 92,
   "id": "187b4582",
   "metadata": {},
   "outputs": [
    {
     "name": "stdout",
     "output_type": "stream",
     "text": [
      "a h i a j "
     ]
    }
   ],
   "source": [
    "common(\"adhiraj\",\"abhijeet\")"
   ]
  },
  {
   "cell_type": "markdown",
   "id": "4ee96e40",
   "metadata": {},
   "source": [
    "7. Write a Python Program to check if a string contains any special character?"
   ]
  },
  {
   "cell_type": "code",
   "execution_count": 97,
   "id": "3488049f",
   "metadata": {},
   "outputs": [],
   "source": [
    "def special(p):\n",
    "    l=\"!@#$%^&*():?><\"\n",
    "    count=0\n",
    "    for i in l:\n",
    "        if i in p:\n",
    "            count=1\n",
    "            break\n",
    "        else:\n",
    "            pass\n",
    "    if count:\n",
    "        print(\"string contains special character\")\n",
    "    else:\n",
    "        print(\"string doesnot contain special character\")\n",
    "        "
   ]
  },
  {
   "cell_type": "code",
   "execution_count": 98,
   "id": "1334e6b0",
   "metadata": {},
   "outputs": [
    {
     "name": "stdout",
     "output_type": "stream",
     "text": [
      "string doesnot contain special character\n"
     ]
    }
   ],
   "source": [
    "special(\"abncjanjv\")"
   ]
  },
  {
   "cell_type": "code",
   "execution_count": 99,
   "id": "961241d2",
   "metadata": {},
   "outputs": [
    {
     "name": "stdout",
     "output_type": "stream",
     "text": [
      "string contains special character\n"
     ]
    }
   ],
   "source": [
    "special(\"abncj%$anjv\")"
   ]
  },
  {
   "cell_type": "code",
   "execution_count": null,
   "id": "48fc6b25",
   "metadata": {},
   "outputs": [],
   "source": []
  }
 ],
 "metadata": {
  "kernelspec": {
   "display_name": "Python 3 (ipykernel)",
   "language": "python",
   "name": "python3"
  },
  "language_info": {
   "codemirror_mode": {
    "name": "ipython",
    "version": 3
   },
   "file_extension": ".py",
   "mimetype": "text/x-python",
   "name": "python",
   "nbconvert_exporter": "python",
   "pygments_lexer": "ipython3",
   "version": "3.9.12"
  }
 },
 "nbformat": 4,
 "nbformat_minor": 5
}
