{
 "cells": [
  {
   "cell_type": "markdown",
   "id": "2332efb1",
   "metadata": {},
   "source": [
    "1. Write a Python Program to Display Fibonacci Sequence Using Recursion?"
   ]
  },
  {
   "cell_type": "code",
   "execution_count": 4,
   "id": "cbf38943",
   "metadata": {},
   "outputs": [],
   "source": [
    "def fibonacci(n):\n",
    "    a=0\n",
    "    b=1\n",
    "    count=0\n",
    "    while count<n:\n",
    "        print(a, end=\" \")\n",
    "        a,b=b,a+b\n",
    "        count+=1"
   ]
  },
  {
   "cell_type": "code",
   "execution_count": 5,
   "id": "11977675",
   "metadata": {},
   "outputs": [
    {
     "name": "stdout",
     "output_type": "stream",
     "text": [
      "0 1 1 2 3 5 8 "
     ]
    }
   ],
   "source": [
    "fibonacci(7)"
   ]
  },
  {
   "cell_type": "markdown",
   "id": "67e44232",
   "metadata": {},
   "source": [
    "2. Write a Python Program to Find Factorial of Number Using Recursion?"
   ]
  },
  {
   "cell_type": "code",
   "execution_count": 10,
   "id": "9fe7f546",
   "metadata": {},
   "outputs": [],
   "source": [
    "def fact(n):\n",
    "    mul=1\n",
    "    for i in range(1,n+1):\n",
    "        mul=mul*i\n",
    "    return mul"
   ]
  },
  {
   "cell_type": "code",
   "execution_count": 11,
   "id": "29ada31d",
   "metadata": {},
   "outputs": [
    {
     "data": {
      "text/plain": [
       "720"
      ]
     },
     "execution_count": 11,
     "metadata": {},
     "output_type": "execute_result"
    }
   ],
   "source": [
    "fact(6)"
   ]
  },
  {
   "cell_type": "markdown",
   "id": "d7840f12",
   "metadata": {},
   "source": [
    "3. Write a Python Program to calculate your Body Mass Index?"
   ]
  },
  {
   "cell_type": "code",
   "execution_count": 16,
   "id": "17f23b92",
   "metadata": {},
   "outputs": [],
   "source": [
    "def bmi(kg,m):\n",
    "    BMI=kg/m**2\n",
    "    if BMI>25:\n",
    "        return \"overweight\"\n",
    "    elif 18.5<BMI<24.9:\n",
    "        return \"healthy\"\n",
    "    else:\n",
    "        return \"underweight\"\n",
    "    \n"
   ]
  },
  {
   "cell_type": "code",
   "execution_count": 20,
   "id": "7368f034",
   "metadata": {},
   "outputs": [
    {
     "data": {
      "text/plain": [
       "'underweight'"
      ]
     },
     "execution_count": 20,
     "metadata": {},
     "output_type": "execute_result"
    }
   ],
   "source": [
    "bmi(57,1.8)"
   ]
  },
  {
   "cell_type": "code",
   "execution_count": 21,
   "id": "5adb7fb9",
   "metadata": {},
   "outputs": [
    {
     "data": {
      "text/plain": [
       "'healthy'"
      ]
     },
     "execution_count": 21,
     "metadata": {},
     "output_type": "execute_result"
    }
   ],
   "source": [
    "bmi(75,1.8)"
   ]
  },
  {
   "cell_type": "code",
   "execution_count": 22,
   "id": "2be87d1e",
   "metadata": {},
   "outputs": [
    {
     "data": {
      "text/plain": [
       "'overweight'"
      ]
     },
     "execution_count": 22,
     "metadata": {},
     "output_type": "execute_result"
    }
   ],
   "source": [
    "bmi(90,1.8)"
   ]
  },
  {
   "cell_type": "markdown",
   "id": "69587086",
   "metadata": {},
   "source": [
    "4. Write a Python Program to calculate the natural logarithm of any number?"
   ]
  },
  {
   "cell_type": "code",
   "execution_count": 24,
   "id": "aab859be",
   "metadata": {},
   "outputs": [],
   "source": [
    "import math\n",
    "def log(x):\n",
    "    return math.log10(x)"
   ]
  },
  {
   "cell_type": "code",
   "execution_count": 25,
   "id": "422c2b7c",
   "metadata": {},
   "outputs": [
    {
     "data": {
      "text/plain": [
       "1.0"
      ]
     },
     "execution_count": 25,
     "metadata": {},
     "output_type": "execute_result"
    }
   ],
   "source": [
    "log(10)"
   ]
  },
  {
   "cell_type": "markdown",
   "id": "ae0f21b1",
   "metadata": {},
   "source": [
    "5. Write a Python Program for cube sum of first n natural numbers?"
   ]
  },
  {
   "cell_type": "code",
   "execution_count": 26,
   "id": "353444e1",
   "metadata": {},
   "outputs": [],
   "source": [
    "def cube_sum(n):\n",
    "    sum=0\n",
    "    for i in range(n+1):\n",
    "        sum=sum+i**3\n",
    "    return sum"
   ]
  },
  {
   "cell_type": "code",
   "execution_count": 27,
   "id": "55d3d78a",
   "metadata": {},
   "outputs": [
    {
     "data": {
      "text/plain": [
       "225"
      ]
     },
     "execution_count": 27,
     "metadata": {},
     "output_type": "execute_result"
    }
   ],
   "source": [
    "cube_sum(5)"
   ]
  },
  {
   "cell_type": "code",
   "execution_count": null,
   "id": "7ec506f0",
   "metadata": {},
   "outputs": [],
   "source": []
  }
 ],
 "metadata": {
  "kernelspec": {
   "display_name": "Python 3 (ipykernel)",
   "language": "python",
   "name": "python3"
  },
  "language_info": {
   "codemirror_mode": {
    "name": "ipython",
    "version": 3
   },
   "file_extension": ".py",
   "mimetype": "text/x-python",
   "name": "python",
   "nbconvert_exporter": "python",
   "pygments_lexer": "ipython3",
   "version": "3.9.12"
  }
 },
 "nbformat": 4,
 "nbformat_minor": 5
}
