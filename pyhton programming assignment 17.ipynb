{
 "cells": [
  {
   "cell_type": "raw",
   "id": "050c1290",
   "metadata": {},
   "source": [
    "Question1.\n",
    "\n",
    "Create a function that takes three arguments a, b, c and returns the sum of the\n",
    "numbers that are evenly divided by c from the range a, b inclusive.\n",
    "\n",
    "Examples\n",
    "\n",
    "evenly_divisible(1, 10, 20) ➞ 0\n",
    "# No number between 1 and 10 can be evenly divided by 20.\n",
    "\n",
    "evenly_divisible(1, 10, 2) ➞ 30\n",
    "# 2 + 4 + 6 + 8 + 10 = 30\n",
    "\n",
    "evenly_divisible(1, 10, 3) ➞ 18\n",
    "# 3 + 6 + 9 = 18"
   ]
  },
  {
   "cell_type": "code",
   "execution_count": 1,
   "id": "3b7e561e",
   "metadata": {},
   "outputs": [],
   "source": [
    "def evenly_divisible(a,b,c):\n",
    "    sum=0\n",
    "    for i in range(a,b+1):\n",
    "        if i%c==0:\n",
    "            sum=sum+i\n",
    "    return sum"
   ]
  },
  {
   "cell_type": "code",
   "execution_count": 3,
   "id": "cbeec0d9",
   "metadata": {},
   "outputs": [
    {
     "name": "stdout",
     "output_type": "stream",
     "text": [
      "evenly_divisible(1, 10, 20) ➞ 0\n",
      "evenly_divisible(1, 10, 2) ➞ 30\n",
      "evenly_divisible(1, 10, 3) ➞ 18\n"
     ]
    }
   ],
   "source": [
    "print(f'evenly_divisible(1, 10, 20) ➞ {evenly_divisible(1, 10, 20)}')\n",
    "print(f'evenly_divisible(1, 10, 2) ➞ {evenly_divisible(1, 10,2)}')\n",
    "print(f'evenly_divisible(1, 10, 3) ➞ {evenly_divisible(1, 10,3)}')"
   ]
  },
  {
   "cell_type": "markdown",
   "id": "62d45be1",
   "metadata": {},
   "source": [
    "Question2. Create a function that returns True if a given inequality expression is correct and\n",
    "False otherwise.\n",
    "\n",
    "Examples\n",
    "\n",
    "correct_signs(\"3<7<11\") ➞ True\n",
    "\n",
    "correct_signs(\"13<44<33<1\") ➞ False\n",
    "\n",
    "correct_signs(\"1<2<6<9> 3\") ➞ True"
   ]
  },
  {
   "cell_type": "code",
   "execution_count": 30,
   "id": "eae8382b",
   "metadata": {},
   "outputs": [],
   "source": [
    "def correct_signs(stat):\n",
    "    return eval(stat)\n",
    "    \n",
    "    "
   ]
  },
  {
   "cell_type": "code",
   "execution_count": 33,
   "id": "cf22db37",
   "metadata": {},
   "outputs": [
    {
     "name": "stdout",
     "output_type": "stream",
     "text": [
      "correct_signs(\"3<7<11\") ➞ True\n",
      "correct_signs(\"13<44<33<1\") ➞ False\n",
      "correct_signs(\"1<2<6<9> 3\") ➞ True\n"
     ]
    }
   ],
   "source": [
    "print(f'correct_signs(\"3<7<11\") ➞ {correct_signs(\"3<7<11\")}')\n",
    "print(f'correct_signs(\"13<44<33<1\") ➞ {correct_signs(\"13<44<33<1\")}')\n",
    "print(f'correct_signs(\"1<2<6<9> 3\") ➞ {correct_signs(\"1<2<6<9> 3\")}')\n"
   ]
  },
  {
   "cell_type": "markdown",
   "id": "fc77c79e",
   "metadata": {},
   "source": [
    "Question3. Create a function that replaces all the vowels in a string with a specified character.\n",
    "\n",
    "Examples\n",
    "\n",
    "replace_vowels(\"the aardvark\", \"#\") ➞ \"th# ##rdv#rk\"\n",
    "\n",
    "replace_vowels(\"minnie mouse\", \"?\") ➞ \"m?nn?? m??s?\"\n",
    "\n",
    "replace_vowels(\"shakespeare\", \"*\") ➞ \"sh*k*sp**r*\""
   ]
  },
  {
   "cell_type": "code",
   "execution_count": 111,
   "id": "c79c015d",
   "metadata": {},
   "outputs": [],
   "source": [
    "def replace_vowels(string,char):\n",
    "    vowels=\"aeiou\"\n",
    "    for i in string:\n",
    "        if i in vowels:\n",
    "            string=string.replace(i,char)\n",
    "    return string\n",
    "    \n",
    "   \n",
    "            \n",
    " \n",
    "          \n",
    "\n"
   ]
  },
  {
   "cell_type": "code",
   "execution_count": 114,
   "id": "ebfb8b36",
   "metadata": {},
   "outputs": [
    {
     "name": "stdout",
     "output_type": "stream",
     "text": [
      "replace_vowels(\"the aardvark\", \"#\")➞th# ##rdv#rk\n",
      "replace_vowels(\"minnie mouse\", \"?\")➞m?nn?? m??s?\n",
      "replace_vowels(\"shakespeare\", \"*\")➞sh*k*sp**r*\n"
     ]
    }
   ],
   "source": [
    "print(f'replace_vowels(\"the aardvark\", \"#\")➞{replace_vowels(\"the aardvark\", \"#\")}')\n",
    "print(f'replace_vowels(\"minnie mouse\", \"?\")➞{replace_vowels(\"minnie mouse\", \"?\")}')\n",
    "print(f'replace_vowels(\"shakespeare\", \"*\")➞{replace_vowels(\"shakespeare\", \"*\")}')"
   ]
  },
  {
   "cell_type": "markdown",
   "id": "baa10d43",
   "metadata": {},
   "source": [
    "Question4. Write a function that calculates the factorial of a number recursively.\n",
    "\n",
    "Examples\n",
    "\n",
    "factorial(5) ➞ 120\n",
    "\n",
    "factorial(3) ➞ 6\n",
    "\n",
    "factorial(1) ➞ 1\n",
    "\n",
    "factorial(0) ➞ 1\n"
   ]
  },
  {
   "cell_type": "code",
   "execution_count": 115,
   "id": "2f976627",
   "metadata": {},
   "outputs": [
    {
     "name": "stdout",
     "output_type": "stream",
     "text": [
      "factorial(5) ➞ 120\n",
      "factorial(3) ➞ 6\n",
      "factorial(1) ➞ 1\n",
      "factorial(0) ➞ 1\n"
     ]
    }
   ],
   "source": [
    "def factorial(n):\n",
    "    if n==0:\n",
    "        return 1\n",
    "    return n * factorial(n-1)\n",
    "\n",
    "print(f'factorial(5) ➞ {factorial(5)}')\n",
    "print(f'factorial(3) ➞ {factorial(3)}')\n",
    "print(f'factorial(1) ➞ {factorial(1)}')\n",
    "print(f'factorial(0) ➞ {factorial(0)}')\n",
    "    "
   ]
  },
  {
   "cell_type": "markdown",
   "id": "e2da686f",
   "metadata": {},
   "source": [
    "Question 5\n",
    "Hamming distance is the number of characters that differ between two strings.\n",
    "\n",
    "To illustrate:\n",
    "\n",
    "String1: \"abcbba\"\n",
    "\n",
    "String2: \"abcbda\"\n",
    "\n",
    "    Hamming Distance: 1 - \"b\" vs. \"d\" is the only difference.\n",
    "\n",
    "        Create a function that computes the hamming distance between two strings.\n",
    "\n",
    "        Examples\n",
    "\n",
    "        hamming_distance(\"abcde\", \"bcdef\") ➞ 5\n",
    "\n",
    "        hamming_distance(\"abcde\", \"abcde\") ➞ 0\n",
    "\n",
    "        hamming_distance(\"strong\", \"strung\") ➞ 1"
   ]
  },
  {
   "cell_type": "code",
   "execution_count": 117,
   "id": "208a1663",
   "metadata": {},
   "outputs": [],
   "source": [
    "def hamming_distance(str1,str2):\n",
    "    s=''\n",
    "    for i,j in zip(str1,str2):\n",
    "        if i!=j:\n",
    "            s=s+i\n",
    "    return len(s)\n",
    "            \n",
    "            "
   ]
  },
  {
   "cell_type": "code",
   "execution_count": 123,
   "id": "8257ea65",
   "metadata": {},
   "outputs": [
    {
     "name": "stdout",
     "output_type": "stream",
     "text": [
      "hamming_distance(\"abcde\", \"bcdef\") ➞ 5\n",
      "hamming_distance(\"abcde\", \"abcde\") ➞ 0\n",
      "hamming_distance(\"strong\", \"strung\") ➞ 1\n"
     ]
    }
   ],
   "source": [
    "print(f'hamming_distance(\"abcde\", \"bcdef\") ➞ {hamming_distance(\"abcde\", \"bcdef\")}')\n",
    "print(f'hamming_distance(\"abcde\", \"abcde\") ➞ {hamming_distance(\"abcde\", \"abcde\")}')\n",
    "print(f'hamming_distance(\"strong\", \"strung\") ➞ {hamming_distance(\"strong\", \"strung\")}')"
   ]
  },
  {
   "cell_type": "code",
   "execution_count": null,
   "id": "af494409",
   "metadata": {},
   "outputs": [],
   "source": []
  }
 ],
 "metadata": {
  "kernelspec": {
   "display_name": "Python 3 (ipykernel)",
   "language": "python",
   "name": "python3"
  },
  "language_info": {
   "codemirror_mode": {
    "name": "ipython",
    "version": 3
   },
   "file_extension": ".py",
   "mimetype": "text/x-python",
   "name": "python",
   "nbconvert_exporter": "python",
   "pygments_lexer": "ipython3",
   "version": "3.9.12"
  }
 },
 "nbformat": 4,
 "nbformat_minor": 5
}
