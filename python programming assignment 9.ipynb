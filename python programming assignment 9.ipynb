{
 "cells": [
  {
   "cell_type": "markdown",
   "id": "5e4b5144",
   "metadata": {},
   "source": [
    "1. Write a Python program to check if the given number is a Disarium Number?"
   ]
  },
  {
   "cell_type": "code",
   "execution_count": 13,
   "id": "443284e6",
   "metadata": {},
   "outputs": [],
   "source": [
    "def Disarium(n):\n",
    "    sum=0\n",
    "    for i in range(0,len(str(n))):\n",
    "        sum=sum+int(str(n)[i])**(i+1)\n",
    "    if sum==n:\n",
    "        return True\n",
    "    else:\n",
    "        return False\n",
    "        \n",
    "        "
   ]
  },
  {
   "cell_type": "code",
   "execution_count": 20,
   "id": "3871ff98",
   "metadata": {},
   "outputs": [
    {
     "data": {
      "text/plain": [
       "True"
      ]
     },
     "execution_count": 20,
     "metadata": {},
     "output_type": "execute_result"
    }
   ],
   "source": [
    "Disarium(518)"
   ]
  },
  {
   "cell_type": "code",
   "execution_count": 21,
   "id": "56531a7a",
   "metadata": {},
   "outputs": [
    {
     "data": {
      "text/plain": [
       "True"
      ]
     },
     "execution_count": 21,
     "metadata": {},
     "output_type": "execute_result"
    }
   ],
   "source": [
    "Disarium(89)"
   ]
  },
  {
   "cell_type": "code",
   "execution_count": 22,
   "id": "007f4e15",
   "metadata": {},
   "outputs": [
    {
     "data": {
      "text/plain": [
       "True"
      ]
     },
     "execution_count": 22,
     "metadata": {},
     "output_type": "execute_result"
    }
   ],
   "source": [
    "Disarium(135)"
   ]
  },
  {
   "cell_type": "markdown",
   "id": "08a8686a",
   "metadata": {},
   "source": [
    "2. Write a Python program to print all disarium numbers between 1 to 100?"
   ]
  },
  {
   "cell_type": "code",
   "execution_count": 42,
   "id": "2fd05173",
   "metadata": {},
   "outputs": [],
   "source": [
    "def disarium_numbers(l,h):\n",
    "    l1=[]\n",
    "    for i in range(l,h+1):\n",
    "        sum=0\n",
    "        for j in range(len(str(i))):\n",
    "            sum= sum+int(str(i)[j])**(i+1)\n",
    "        if sum==i:\n",
    "            l1.append(i)\n",
    "    return l1\n",
    "    \n",
    "            \n",
    "    \n",
    "        "
   ]
  },
  {
   "cell_type": "code",
   "execution_count": 43,
   "id": "62995370",
   "metadata": {},
   "outputs": [
    {
     "data": {
      "text/plain": [
       "[1]"
      ]
     },
     "execution_count": 43,
     "metadata": {},
     "output_type": "execute_result"
    }
   ],
   "source": [
    "disarium_numbers(1,400)"
   ]
  },
  {
   "cell_type": "markdown",
   "id": "81b24d23",
   "metadata": {},
   "source": [
    "5. Write a Python program to determine whether the given number is a Harshad Number?"
   ]
  },
  {
   "cell_type": "code",
   "execution_count": 55,
   "id": "5c651df3",
   "metadata": {},
   "outputs": [],
   "source": [
    "def harshad(n):\n",
    "    sum=0\n",
    "    for i in range(len(str(n))):\n",
    "        sum=sum+int(str(n)[i])\n",
    "    if n%sum==0:\n",
    "        return True\n",
    "    else:\n",
    "        return False"
   ]
  },
  {
   "cell_type": "code",
   "execution_count": 56,
   "id": "349bdb45",
   "metadata": {},
   "outputs": [
    {
     "data": {
      "text/plain": [
       "True"
      ]
     },
     "execution_count": 56,
     "metadata": {},
     "output_type": "execute_result"
    }
   ],
   "source": [
    "harshad(1729)"
   ]
  }
 ],
 "metadata": {
  "kernelspec": {
   "display_name": "Python 3 (ipykernel)",
   "language": "python",
   "name": "python3"
  },
  "language_info": {
   "codemirror_mode": {
    "name": "ipython",
    "version": 3
   },
   "file_extension": ".py",
   "mimetype": "text/x-python",
   "name": "python",
   "nbconvert_exporter": "python",
   "pygments_lexer": "ipython3",
   "version": "3.9.12"
  }
 },
 "nbformat": 4,
 "nbformat_minor": 5
}
