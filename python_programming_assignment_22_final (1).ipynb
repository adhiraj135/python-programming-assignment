{
  "nbformat": 4,
  "nbformat_minor": 0,
  "metadata": {
    "colab": {
      "name": "python programming assignment 22 final",
      "provenance": []
    },
    "kernelspec": {
      "name": "python3",
      "display_name": "Python 3"
    },
    "language_info": {
      "name": "python"
    }
  },
  "cells": [
    {
      "cell_type": "markdown",
      "source": [
        "Question1\n",
        "\n",
        "Write a function that takes a list and a number as arguments. Add the number to the end of\n",
        "the list, then remove the first element of the list. The function should then return the updated\n",
        "list."
      ],
      "metadata": {
        "id": "eHJx6Q79I4rI"
      }
    },
    {
      "cell_type": "code",
      "source": [
        "def next_in_line(n):\n",
        "  n[0].remove(n[0][0])\n",
        "  n[0].append(n[1])\n",
        "  return n[0]\n",
        "\n",
        "print(f'next_in_line(([5,6,7,8,9],1)) = {next_in_line(([5,6,7,8,9],1))}')\n",
        "print(f'next_in_line(([7,6, 3, 23, 17], 10)) = {next_in_line(([7,6, 3, 23, 17], 10))}')"
      ],
      "metadata": {
        "colab": {
          "base_uri": "https://localhost:8080/"
        },
        "id": "c78ANKyjI9Cu",
        "outputId": "4d307d92-1628-46bb-a871-88e8d9116ae1"
      },
      "execution_count": null,
      "outputs": [
        {
          "output_type": "stream",
          "name": "stdout",
          "text": [
            "next_in_line(([5,6,7,8,9],1)) = [6, 7, 8, 9, 1]\n",
            "next_in_line(([7,6, 3, 23, 17], 10)) = [6, 3, 23, 17, 10]\n"
          ]
        }
      ]
    },
    {
      "cell_type": "markdown",
      "source": [
        "Question2\n",
        "\n",
        "Create the function that takes a list of dictionaries and returns the sum of people's budgets."
      ],
      "metadata": {
        "id": "KgxIqNCqK5uz"
      }
    },
    {
      "cell_type": "code",
      "source": [
        "l=[{'name':\"adhi\"},{'salary':100}]"
      ],
      "metadata": {
        "id": "G8H_czKxLPeP"
      },
      "execution_count": null,
      "outputs": []
    },
    {
      "cell_type": "code",
      "source": [
        "def get_budgets(l):\n",
        "   d={}\n",
        "   sum=0\n",
        "   for i in l:\n",
        "       d.update(i)\n",
        "       sum=sum+d['budget']\n",
        "   return sum\n",
        "  \n",
        "  \n",
        "\n",
        "    "
      ],
      "metadata": {
        "id": "EkQ4IlgpLdzJ"
      },
      "execution_count": null,
      "outputs": []
    },
    {
      "cell_type": "code",
      "source": [
        "get_budgets([\n",
        "{ 'name': 'John', 'age': 21, 'budget': 23000 },\n",
        "{ 'name': 'Steve', 'age': 32, 'budget': 40000 },\n",
        "{ 'name': 'Martin', 'age': 16, 'budget': 2700 }\n",
        "])"
      ],
      "metadata": {
        "colab": {
          "base_uri": "https://localhost:8080/"
        },
        "id": "yL6L0x-3Lgc1",
        "outputId": "bf75204f-282b-416a-f4d5-98812f437cd2"
      },
      "execution_count": null,
      "outputs": [
        {
          "output_type": "execute_result",
          "data": {
            "text/plain": [
              "65700"
            ]
          },
          "metadata": {},
          "execution_count": 38
        }
      ]
    },
    {
      "cell_type": "code",
      "source": [
        "get_budgets([\n",
        "{ 'name': 'John', 'age': 21, 'budget': 29000 },\n",
        "{ 'name': 'Steve', 'age': 32, 'budget': 32000 },\n",
        "{ 'name': 'Martin', 'age': 16, 'budget': 1600 }\n",
        "])"
      ],
      "metadata": {
        "colab": {
          "base_uri": "https://localhost:8080/"
        },
        "id": "fEGS9uk4MKD-",
        "outputId": "e3c563c9-5574-460e-cf2f-54a3940c06b5"
      },
      "execution_count": null,
      "outputs": [
        {
          "output_type": "execute_result",
          "data": {
            "text/plain": [
              "62600"
            ]
          },
          "metadata": {},
          "execution_count": 39
        }
      ]
    },
    {
      "cell_type": "markdown",
      "source": [
        "Question3\n",
        "\n",
        "Create a function that takes a string and returns a string with its letters in alphabetical order."
      ],
      "metadata": {
        "id": "00jR81E2P_9X"
      }
    },
    {
      "cell_type": "code",
      "source": [
        "def alphabet_soup(s):\n",
        "  l=sorted(s)\n",
        "  return ''.join(l)\n",
        "\n"
      ],
      "metadata": {
        "id": "ZTFcoYQHQA32"
      },
      "execution_count": null,
      "outputs": []
    },
    {
      "cell_type": "code",
      "source": [
        "print(f'alphabet_soup(\"hello\") = {alphabet_soup(\"hello\")}')"
      ],
      "metadata": {
        "colab": {
          "base_uri": "https://localhost:8080/"
        },
        "id": "86r4Rb18QNRs",
        "outputId": "687551ef-c594-4021-c3e4-2f16c2dd25ab"
      },
      "execution_count": null,
      "outputs": [
        {
          "output_type": "stream",
          "name": "stdout",
          "text": [
            "alphabet_soup(\"hello\") = ehllo\n"
          ]
        }
      ]
    },
    {
      "cell_type": "markdown",
      "source": [
        "Question4\n",
        "\n",
        "Suppose that you invest $10,000 for 10 years at an interest rate of 6% compounded monthly.What will be the value of your investment at the end of the 10 year period?\n",
        "\n",
        "Create a function that accepts the principal p, the term in years t, the interest rate r, and the number of compounding periods per year n. The function returns the value at the end of term rounded to the nearest cent.\n",
        "\n",
        "For the example above:\n",
        "\n",
        "compound_interest(10000, 10, 0.06, 12) ➞ 18193.97\n",
        "\n",
        "Note that the interest rate is given as a decimal and n=12 because with monthly compounding there are 12 periods per year. Compounding can also be done annually, quarterly, weekly, or daily."
      ],
      "metadata": {
        "id": "_vaORy5_T-4f"
      }
    },
    {
      "cell_type": "code",
      "source": [
        "def compound_interest(p,t,r,n):\n",
        "  a=p*(1+r/n)**(n*t)\n",
        "  return \"{:.2f}\".format(a)\n"
      ],
      "metadata": {
        "id": "aLidBqKJUIT9"
      },
      "execution_count": null,
      "outputs": []
    },
    {
      "cell_type": "code",
      "source": [
        "print(f'compound_interest(10000, 10, 0.06, 12) = {compound_interest(10000, 10, 0.06, 12)}')\n",
        "print(f'compound_interest(3500, 15, 0.1, 4) = {compound_interest(3500, 15, 0.1, 4)}')\n",
        "print(f'compound_interest(100000, 20, 0.15, 365) = {compound_interest(100000, 20, 0.15, 365)}')\n",
        "\n"
      ],
      "metadata": {
        "colab": {
          "base_uri": "https://localhost:8080/"
        },
        "id": "KXJMRaVEUkEO",
        "outputId": "607b7bec-e238-4f76-b97e-fd802596f4c3"
      },
      "execution_count": null,
      "outputs": [
        {
          "output_type": "stream",
          "name": "stdout",
          "text": [
            "compound_interest(10000, 10, 0.06, 12) = 18193.97\n",
            "compound_interest(3500, 15, 0.1, 4) = 15399.26\n",
            "compound_interest(100000, 20, 0.15, 365) = 2007316.26\n"
          ]
        }
      ]
    },
    {
      "cell_type": "markdown",
      "source": [
        "Question5\n",
        "\n",
        "Write a function that takes a list of elements and returns only the integers."
      ],
      "metadata": {
        "id": "mwDcp_oLVqCM"
      }
    },
    {
      "cell_type": "code",
      "source": [
        "def return_only_integer(n):\n",
        "  l=[]\n",
        "  for i in n:\n",
        "    if type(i)== int:\n",
        "      l.append(i)\n",
        "  return l"
      ],
      "metadata": {
        "id": "11Y6A_ZZVtFF"
      },
      "execution_count": null,
      "outputs": []
    },
    {
      "cell_type": "code",
      "source": [
        "print(f'return_only_integer([9, 2, \"space\", \"car\", \"lion\", 16]) = {return_only_integer([9, 2, \"space\", \"car\", \"lion\", 16])}')\n",
        "print(f'return_only_integer([\"hello\", 81,\"basketball\",23, \"fox\"]) = {return_only_integer([\"hello\", 81,\"basketball\",23, \"fox\"])}')"
      ],
      "metadata": {
        "colab": {
          "base_uri": "https://localhost:8080/"
        },
        "id": "mz_e0ErrV6zf",
        "outputId": "d7d7a896-0495-4b49-bf3f-6d7d32a7e683"
      },
      "execution_count": null,
      "outputs": [
        {
          "output_type": "stream",
          "name": "stdout",
          "text": [
            "return_only_integer([9, 2, \"space\", \"car\", \"lion\", 16]) = [9, 2, 16]\n",
            "return_only_integer([\"hello\", 81,\"basketball\",23, \"fox\"]) = [81, 23]\n"
          ]
        }
      ]
    },
    {
      "cell_type": "code",
      "source": [
        ""
      ],
      "metadata": {
        "id": "mDct2mpYV-Dv"
      },
      "execution_count": null,
      "outputs": []
    }
  ]
}