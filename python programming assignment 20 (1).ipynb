{
 "cells": [
  {
   "cell_type": "markdown",
   "id": "7f1631b8",
   "metadata": {},
   "source": [
    "Question1\n",
    "Create a function that takes a list of strings and integers, and filters out the list so that it\n",
    "returns a list of integers only.\n",
    "\n",
    "Examples\n",
    "\n",
    "filter_list([1, 2, 3, \"a\", \"b\", 4]) ➞ [1, 2, 3, 4]\n",
    "\n",
    "filter_list([\"A\", 0, \"Edabit\", 1729, \"Python\", \"1729\"]) ➞ [0, 1729]\n",
    "\n",
    "filter_list([\"Nothing\", \"here\"]) ➞ []"
   ]
  },
  {
   "cell_type": "code",
   "execution_count": 4,
   "id": "77659d3b",
   "metadata": {},
   "outputs": [],
   "source": [
    "def filter_list(l):\n",
    "    l1=[]\n",
    "    \n",
    "    for i in l:\n",
    "        if type(i)==int:\n",
    "            l1.append(i)\n",
    "    return l1\n",
    "  "
   ]
  },
  {
   "cell_type": "code",
   "execution_count": 7,
   "id": "c17c664e",
   "metadata": {},
   "outputs": [
    {
     "name": "stdout",
     "output_type": "stream",
     "text": [
      "filter_list([1, 2, 3, \"a\", \"b\", 4])➞ [1, 2, 3, 4]\n",
      "filter_list([\"A\", 0, \"Edabit\", 1729, \"Python\", \"1729\"])➞ [0, 1729]\n",
      "filter_list([\"Nothing\", \"here\"])➞ []\n"
     ]
    }
   ],
   "source": [
    "print(f'filter_list([1, 2, 3, \"a\", \"b\", 4])➞ {filter_list([1, 2, 3, \"a\", \"b\", 4])}')\n",
    "print(f'filter_list([\"A\", 0, \"Edabit\", 1729, \"Python\", \"1729\"])➞ {filter_list([\"A\", 0, \"Edabit\", 1729, \"Python\", \"1729\"])}')\n",
    "print(f'filter_list([\"Nothing\", \"here\"])➞ {filter_list([\"Nothing\", \"here\"])}')"
   ]
  },
  {
   "cell_type": "markdown",
   "id": "cfd93ce3",
   "metadata": {},
   "source": [
    "Question2\n",
    "\n",
    "Given a list of numbers, create a function which returns the list but with each element&#39;s\n",
    "index in the list added to itself. This means you add 0 to the number at index 0, add 1 to the\n",
    "number at index 1, etc...\n",
    "\n",
    "Examples\n",
    "\n",
    "add_indexes([0, 0, 0, 0, 0]) ➞ [0, 1, 2, 3, 4]\n",
    "\n",
    "add_indexes([1, 2, 3, 4, 5]) ➞ [1, 3, 5, 7, 9]\n",
    "\n",
    "add_indexes([5, 4, 3, 2, 1]) ➞ [5, 5, 5, 5, 5]"
   ]
  },
  {
   "cell_type": "code",
   "execution_count": 12,
   "id": "56bc2a71",
   "metadata": {},
   "outputs": [],
   "source": [
    "def add_indexes(l):\n",
    "    l1=[]\n",
    "    for i in range(len(l)):\n",
    "        add=l[i]+l.index(l[i])\n",
    "        l1.append(add)\n",
    "    return l1\n",
    "        \n",
    "    "
   ]
  },
  {
   "cell_type": "code",
   "execution_count": 14,
   "id": "5638a05d",
   "metadata": {},
   "outputs": [
    {
     "name": "stdout",
     "output_type": "stream",
     "text": [
      "add_indexes([1, 2, 3, 4, 5]) ➞ [1, 3, 5, 7, 9]\n",
      "add_indexes([5, 4, 3, 2, 1]) ➞ [5, 5, 5, 5, 5]\n"
     ]
    }
   ],
   "source": [
    "print(f'add_indexes([1, 2, 3, 4, 5]) ➞ {add_indexes([1, 2, 3, 4, 5])}')\n",
    "\n",
    "print(f'add_indexes([5, 4, 3, 2, 1]) ➞ {add_indexes([5, 4, 3, 2, 1])}')\n",
    "\n"
   ]
  },
  {
   "cell_type": "markdown",
   "id": "b3b721d4",
   "metadata": {},
   "source": [
    "Question3\n",
    "\n",
    "Create a function that takes the height and radius of a cone as arguments and returns the\n",
    "volume of the cone rounded to the nearest hundredth. See the resources tab for the formula.\n",
    "\n",
    "Examples\n",
    "cone_volume(3, 2) ➞ 12.57\n",
    "\n",
    "cone_volume(15, 6) ➞ 565.49\n",
    "\n",
    "cone_volume(18, 0) ➞ 0"
   ]
  },
  {
   "cell_type": "code",
   "execution_count": 15,
   "id": "51be06b4",
   "metadata": {},
   "outputs": [],
   "source": [
    "import math"
   ]
  },
  {
   "cell_type": "code",
   "execution_count": 18,
   "id": "371907f3",
   "metadata": {},
   "outputs": [],
   "source": [
    "def cone_volume(h,r):\n",
    "    volume=math.pi*r**2*(h/3)\n",
    "    return volume\n"
   ]
  },
  {
   "cell_type": "code",
   "execution_count": 20,
   "id": "8040dc9b",
   "metadata": {},
   "outputs": [
    {
     "name": "stdout",
     "output_type": "stream",
     "text": [
      "cone_volume(3, 2)➞12.566370614359172\n",
      "cone_volume(15, 6)➞565.4866776461628\n",
      "cone_volume(18, 0)➞0.0\n"
     ]
    }
   ],
   "source": [
    "print(f'cone_volume(3, 2)➞{cone_volume(3, 2)}')\n",
    "print(f'cone_volume(15, 6)➞{cone_volume(15, 6)}')\n",
    "print(f'cone_volume(18, 0)➞{cone_volume(18, 0)}')"
   ]
  },
  {
   "cell_type": "markdown",
   "id": "2a60fdba",
   "metadata": {},
   "source": [
    "Question4\n",
    "\n",
    "This Triangular Number Sequence is generated from a pattern of dots that form a triangle.\n",
    "\n",
    "The first 5 numbers of the sequence, or dots, are:\n",
    "1, 3, 6, 10, 15\n",
    "\n",
    "This means that the first triangle has just one dot, the second one has three dots, the third one\n",
    "has 6 dots and so on.\n",
    "\n",
    "Write a function that gives the number of dots with its corresponding triangle number of the\n",
    "sequence.\n",
    "\n",
    "Examples\n",
    "\n",
    "triangle(1) ➞ 1\n",
    "\n",
    "triangle(6) ➞ 21\n",
    "\n",
    "triangle(215) ➞ 23220"
   ]
  },
  {
   "cell_type": "code",
   "execution_count": 22,
   "id": "38c96c9e",
   "metadata": {},
   "outputs": [],
   "source": [
    "def triangle(n):\n",
    "    s=(n*(n+1))/2\n",
    "    return s"
   ]
  },
  {
   "cell_type": "code",
   "execution_count": 24,
   "id": "7582168b",
   "metadata": {},
   "outputs": [
    {
     "name": "stdout",
     "output_type": "stream",
     "text": [
      "triangle(1) ➞ 1.0\n",
      "triangle(6) ➞ 21.0\n",
      "triangle(215) ➞ 23220.0\n"
     ]
    }
   ],
   "source": [
    "print(f'triangle(1) ➞ {triangle(1)}')\n",
    "print(f'triangle(6) ➞ {triangle(6)}')\n",
    "print(f'triangle(215) ➞ {triangle(215)}')\n",
    "\n"
   ]
  },
  {
   "cell_type": "markdown",
   "id": "f8e4964e",
   "metadata": {},
   "source": [
    "Question5\n",
    "\n",
    "Create a function that takes a list of numbers between 1 and 10 (excluding one number) and\n",
    "returns the missing number.\n",
    "\n",
    "Examples\n",
    "\n",
    "missing_num([1, 2, 3, 4, 6, 7, 8, 9, 10]) ➞ 5\n",
    "\n",
    "missing_num([7, 2, 3, 6, 5, 9, 1, 4, 8]) ➞ 10\n",
    "\n",
    "missing_num([10, 5, 1, 2, 4, 6, 8, 3, 9]) ➞ 7"
   ]
  },
  {
   "cell_type": "code",
   "execution_count": 28,
   "id": "0e86f457",
   "metadata": {},
   "outputs": [],
   "source": [
    "def missing_num(l):\n",
    "    num=[1,2,3,4,5,6,7,8,9,10]\n",
    "    for i in num:\n",
    "        if i not in l:\n",
    "            return i"
   ]
  },
  {
   "cell_type": "code",
   "execution_count": 30,
   "id": "da6af8ce",
   "metadata": {},
   "outputs": [
    {
     "name": "stdout",
     "output_type": "stream",
     "text": [
      "missing_num([1, 2, 3, 4, 6, 7, 8, 9, 10])➞ 5\n",
      "missing_num([7, 2, 3, 6, 5, 9, 1, 4, 8]])➞ 10\n",
      "missing_num([10, 5, 1, 2, 4, 6, 8, 3, 9])➞ 7\n"
     ]
    }
   ],
   "source": [
    "print(f'missing_num([1, 2, 3, 4, 6, 7, 8, 9, 10])➞ {missing_num([1, 2, 3, 4, 6, 7, 8, 9, 10])}')\n",
    "print(f'missing_num([7, 2, 3, 6, 5, 9, 1, 4, 8]])➞ {missing_num([7, 2, 3, 6, 5, 9, 1, 4, 8])}')\n",
    "print(f'missing_num([10, 5, 1, 2, 4, 6, 8, 3, 9])➞ {missing_num([10, 5, 1, 2, 4, 6, 8, 3, 9])}')"
   ]
  },
  {
   "cell_type": "code",
   "execution_count": null,
   "id": "a951216d",
   "metadata": {},
   "outputs": [],
   "source": []
  }
 ],
 "metadata": {
  "kernelspec": {
   "display_name": "Python 3 (ipykernel)",
   "language": "python",
   "name": "python3"
  },
  "language_info": {
   "codemirror_mode": {
    "name": "ipython",
    "version": 3
   },
   "file_extension": ".py",
   "mimetype": "text/x-python",
   "name": "python",
   "nbconvert_exporter": "python",
   "pygments_lexer": "ipython3",
   "version": "3.9.12"
  }
 },
 "nbformat": 4,
 "nbformat_minor": 5
}
