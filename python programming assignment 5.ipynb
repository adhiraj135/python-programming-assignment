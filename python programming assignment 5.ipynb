{
 "cells": [
  {
   "cell_type": "markdown",
   "id": "5a7bd440",
   "metadata": {},
   "source": [
    "1. Write a Python Program to Find LCM?"
   ]
  },
  {
   "cell_type": "code",
   "execution_count": 45,
   "id": "73859ac2",
   "metadata": {},
   "outputs": [],
   "source": [
    "def lcm(x,y):\n",
    "    l=[]\n",
    "    for i in range(y,x*y):\n",
    "        if i%x==0 and i%y==0:\n",
    "            l.append(i)\n",
    "    return min(l)\n",
    "            \n",
    "    \n",
    "     \n",
    "    \n",
    "            "
   ]
  },
  {
   "cell_type": "code",
   "execution_count": 49,
   "id": "9109e546",
   "metadata": {},
   "outputs": [
    {
     "data": {
      "text/plain": [
       "36"
      ]
     },
     "execution_count": 49,
     "metadata": {},
     "output_type": "execute_result"
    }
   ],
   "source": [
    "lcm(12,18)"
   ]
  },
  {
   "cell_type": "code",
   "execution_count": 53,
   "id": "408d3c9c",
   "metadata": {},
   "outputs": [],
   "source": [
    "def hcf(x,y):\n",
    "    l=[]\n",
    "    for i in range(1,x+1):\n",
    "        if x%i==0 and y%i==0:\n",
    "            l.append(i)\n",
    "    return max(l)\n",
    "            "
   ]
  },
  {
   "cell_type": "code",
   "execution_count": 54,
   "id": "963e1a41",
   "metadata": {},
   "outputs": [
    {
     "data": {
      "text/plain": [
       "6"
      ]
     },
     "execution_count": 54,
     "metadata": {},
     "output_type": "execute_result"
    }
   ],
   "source": [
    "hcf(18,24)"
   ]
  },
  {
   "cell_type": "markdown",
   "id": "edfb3cb3",
   "metadata": {},
   "source": [
    "3. Write a Python Program to Convert Decimal to Binary, Octal and Hexadecimal?"
   ]
  },
  {
   "cell_type": "code",
   "execution_count": 56,
   "id": "4d362d92",
   "metadata": {},
   "outputs": [
    {
     "name": "stdout",
     "output_type": "stream",
     "text": [
      "The decimal value of 344 is:\n",
      "0b101011000 in binary.\n",
      "0o530 in octal.\n",
      "0x158 in hexadecimal.\n"
     ]
    }
   ],
   "source": [
    "num = 344\n",
    "\n",
    "print(\"The decimal value of\", num, \"is:\")\n",
    "print(bin(num), \"in binary.\")\n",
    "print(oct(num), \"in octal.\")\n",
    "print(hex(num), \"in hexadecimal.\")\n"
   ]
  },
  {
   "cell_type": "markdown",
   "id": "fea44fc3",
   "metadata": {},
   "source": [
    "4. Write a Python Program To Find ASCII value of a character?"
   ]
  },
  {
   "cell_type": "code",
   "execution_count": 59,
   "id": "da665f32",
   "metadata": {},
   "outputs": [],
   "source": [
    "def ascii():\n",
    "    c=input(\"enter the chacater: \")\n",
    "    print(\"The ASCII value of '\" + c + \"' is\", ord(c))"
   ]
  },
  {
   "cell_type": "code",
   "execution_count": 62,
   "id": "ec93ef34",
   "metadata": {},
   "outputs": [
    {
     "name": "stdout",
     "output_type": "stream",
     "text": [
      "enter the chacater: p\n",
      "The ASCII value of 'p' is 112\n"
     ]
    }
   ],
   "source": [
    "ascii()"
   ]
  },
  {
   "cell_type": "markdown",
   "id": "566d0274",
   "metadata": {},
   "source": [
    "5. Write a Python Program to Make a Simple Calculator with 4 basic mathematical operations?"
   ]
  },
  {
   "cell_type": "code",
   "execution_count": 70,
   "id": "646c003d",
   "metadata": {},
   "outputs": [],
   "source": [
    "def calculator(a,b,operation):\n",
    "    if (operation=='add'):\n",
    "        return a+b\n",
    "    elif (operation=='sub'):\n",
    "        return a-b\n",
    "    elif (operation=='mul'):\n",
    "        return a*b\n",
    "    elif (operation=='div'):\n",
    "        try:\n",
    "            return a/b\n",
    "        except Exception as e:\n",
    "            print(\"the exception is : \", e)\n",
    "    "
   ]
  },
  {
   "cell_type": "code",
   "execution_count": 73,
   "id": "47cd1eb3",
   "metadata": {},
   "outputs": [
    {
     "name": "stdout",
     "output_type": "stream",
     "text": [
      "the exception is :  division by zero\n"
     ]
    }
   ],
   "source": [
    "calculator(5,0,'div')"
   ]
  },
  {
   "cell_type": "code",
   "execution_count": 74,
   "id": "c2c4bd95",
   "metadata": {},
   "outputs": [
    {
     "data": {
      "text/plain": [
       "783"
      ]
     },
     "execution_count": 74,
     "metadata": {},
     "output_type": "execute_result"
    }
   ],
   "source": [
    "calculator(87,9,'mul')"
   ]
  },
  {
   "cell_type": "code",
   "execution_count": null,
   "id": "2a8c674a",
   "metadata": {},
   "outputs": [],
   "source": []
  }
 ],
 "metadata": {
  "kernelspec": {
   "display_name": "Python 3 (ipykernel)",
   "language": "python",
   "name": "python3"
  },
  "language_info": {
   "codemirror_mode": {
    "name": "ipython",
    "version": 3
   },
   "file_extension": ".py",
   "mimetype": "text/x-python",
   "name": "python",
   "nbconvert_exporter": "python",
   "pygments_lexer": "ipython3",
   "version": "3.9.12"
  }
 },
 "nbformat": 4,
 "nbformat_minor": 5
}
