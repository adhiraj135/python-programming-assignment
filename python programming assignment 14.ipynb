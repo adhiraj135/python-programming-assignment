{
 "cells": [
  {
   "cell_type": "markdown",
   "id": "b4a70ef0",
   "metadata": {},
   "source": [
    "Question 1:\n",
    "Define a class with a generator which can iterate the numbers, which are divisible by\n",
    "7, between a given range 0 and n."
   ]
  },
  {
   "cell_type": "code",
   "execution_count": 1,
   "id": "6a96eb1c",
   "metadata": {},
   "outputs": [],
   "source": [
    "class gen():\n",
    "    def generator(n):\n",
    "        for i in range(1,n+1):\n",
    "            if i%7==0:\n",
    "                yield i\n",
    "        "
   ]
  },
  {
   "cell_type": "code",
   "execution_count": 4,
   "id": "b81fa27e",
   "metadata": {},
   "outputs": [
    {
     "name": "stdout",
     "output_type": "stream",
     "text": [
      "7 14 21 28 35 42 49 56 63 70 77 84 91 98 "
     ]
    }
   ],
   "source": [
    "for i in gen.generator(100):\n",
    "    print(i,end=\" \")"
   ]
  },
  {
   "cell_type": "markdown",
   "id": "b431b8cd",
   "metadata": {},
   "source": [
    "Question 2:\n",
    "\n",
    "Write a program to compute the frequency of the words from the input. The output\n",
    "should output after sorting the key alphanumerically.\n",
    "\n",
    "Suppose the following input is supplied to the program:\n",
    "\n",
    "New to Python or choosing between Python 2 and Python 3? Read Python 2 or\n",
    "Python 3."
   ]
  },
  {
   "cell_type": "code",
   "execution_count": 19,
   "id": "479e4c08",
   "metadata": {},
   "outputs": [],
   "source": [
    "import pandas as pd\n",
    "def counting():\n",
    "    para=input(\"enter the para : \")\n",
    "    sorted(para.split(' '))\n",
    "    df=pd.DataFrame(sorted(para.split(' ')),columns=[\"data\"])\n",
    "    for i in df[\"data\"].unique():\n",
    "        print(i,\":\",para.split(' ').count(i))\n",
    "    "
   ]
  },
  {
   "cell_type": "code",
   "execution_count": 20,
   "id": "6cfb2eb1",
   "metadata": {},
   "outputs": [
    {
     "name": "stdout",
     "output_type": "stream",
     "text": [
      "enter the para : New to Python or choosing between Python 2 and Python 3? Read Python 2 or Python 3\n",
      "2 : 2\n",
      "3 : 1\n",
      "3? : 1\n",
      "New : 1\n",
      "Python : 5\n",
      "Read : 1\n",
      "and : 1\n",
      "between : 1\n",
      "choosing : 1\n",
      "or : 2\n",
      "to : 1\n"
     ]
    }
   ],
   "source": [
    "counting()"
   ]
  },
  {
   "cell_type": "markdown",
   "id": "ab4c620d",
   "metadata": {},
   "source": [
    "Question 3:\n",
    "\n",
    "Define a class Person and its two child classes: Male and Female. \n",
    "\n",
    "All classes have a\n",
    "method 'getGender' which can print Male' for Male class and 'Female' for Female\n",
    "class."
   ]
  },
  {
   "cell_type": "code",
   "execution_count": 26,
   "id": "e0692957",
   "metadata": {},
   "outputs": [],
   "source": [
    "class Person:\n",
    "    def getgender(self):\n",
    "        pass\n",
    "        \n",
    "    \n",
    "class Male(Person):\n",
    "    def getgender(self):\n",
    "         print(\"Male\")\n",
    "class Female(Person):\n",
    "    def getgender(self):\n",
    "         print(\"Female\")"
   ]
  },
  {
   "cell_type": "code",
   "execution_count": 32,
   "id": "21e147f4",
   "metadata": {},
   "outputs": [
    {
     "name": "stdout",
     "output_type": "stream",
     "text": [
      "Male\n"
     ]
    }
   ],
   "source": [
    "m1=Male()\n",
    "m1.getgender()"
   ]
  },
  {
   "cell_type": "code",
   "execution_count": 34,
   "id": "e0b71b12",
   "metadata": {},
   "outputs": [
    {
     "name": "stdout",
     "output_type": "stream",
     "text": [
      "Female\n"
     ]
    }
   ],
   "source": [
    "f1=Female()\n",
    "f1.getgender()"
   ]
  },
  {
   "cell_type": "markdown",
   "id": "09236e64",
   "metadata": {},
   "source": [
    "Question 4:\n",
    "\n",
    "Please write a program to generate all sentences where subject is in ['I', 'You'] and\n",
    "verb is in ['Play', 'Love'] and the object is in ['Hockey','Football']."
   ]
  },
  {
   "cell_type": "code",
   "execution_count": 36,
   "id": "2dc14e00",
   "metadata": {},
   "outputs": [],
   "source": [
    "def sentence():\n",
    "    subject = ['I', 'You'] \n",
    "    verb = ['Play', 'Love'] \n",
    "    object=['Hockey','Football']\n",
    "    for i in subject:\n",
    "        for j in verb:\n",
    "            for k in object:\n",
    "                print(\"{} {} {}\".format(i,j,k))"
   ]
  },
  {
   "cell_type": "code",
   "execution_count": 37,
   "id": "898c1b33",
   "metadata": {},
   "outputs": [
    {
     "name": "stdout",
     "output_type": "stream",
     "text": [
      "I Play Hockey\n",
      "I Play Football\n",
      "I Love Hockey\n",
      "I Love Football\n",
      "You Play Hockey\n",
      "You Play Football\n",
      "You Love Hockey\n",
      "You Love Football\n"
     ]
    }
   ],
   "source": [
    "sentence()"
   ]
  },
  {
   "cell_type": "markdown",
   "id": "dd60314b",
   "metadata": {},
   "source": [
    "Question 5:\n",
    "\n",
    "Please write a program to compress and decompress the string 'hello world!hello\n",
    "world!hello world!hello world!'."
   ]
  },
  {
   "cell_type": "code",
   "execution_count": 45,
   "id": "9aaa2855",
   "metadata": {},
   "outputs": [],
   "source": [
    "import gzip\n",
    "def comp(s):\n",
    "    return gzip.compress(b's')\n",
    "    "
   ]
  },
  {
   "cell_type": "code",
   "execution_count": 46,
   "id": "658bdaa6",
   "metadata": {},
   "outputs": [
    {
     "data": {
      "text/plain": [
       "b'\\x1f\\x8b\\x08\\x00E\\xd3\\xcfb\\x02\\xff+\\x06\\x00\\x0b\\xcf\\x0e\\x1b\\x01\\x00\\x00\\x00'"
      ]
     },
     "execution_count": 46,
     "metadata": {},
     "output_type": "execute_result"
    }
   ],
   "source": [
    "comp('hello world!hello world!hello world!hello world!')"
   ]
  },
  {
   "cell_type": "code",
   "execution_count": 53,
   "id": "4171fef0",
   "metadata": {},
   "outputs": [
    {
     "ename": "SyntaxError",
     "evalue": "EOL while scanning string literal (1866888891.py, line 2)",
     "output_type": "error",
     "traceback": [
      "\u001b[1;36m  Input \u001b[1;32mIn [53]\u001b[1;36m\u001b[0m\n\u001b[1;33m    return gzip.decompress(b's)\u001b[0m\n\u001b[1;37m                               ^\u001b[0m\n\u001b[1;31mSyntaxError\u001b[0m\u001b[1;31m:\u001b[0m EOL while scanning string literal\n"
     ]
    }
   ],
   "source": [
    "def decomp(s):\n",
    "    return gzip.decompress(b's)\n"
   ]
  },
  {
   "cell_type": "code",
   "execution_count": 54,
   "id": "f0e2ba9d",
   "metadata": {},
   "outputs": [
    {
     "ename": "TypeError",
     "evalue": "a bytes-like object is required, not 'str'",
     "output_type": "error",
     "traceback": [
      "\u001b[1;31m---------------------------------------------------------------------------\u001b[0m",
      "\u001b[1;31mTypeError\u001b[0m                                 Traceback (most recent call last)",
      "Input \u001b[1;32mIn [54]\u001b[0m, in \u001b[0;36m<cell line: 1>\u001b[1;34m()\u001b[0m\n\u001b[1;32m----> 1\u001b[0m \u001b[43mdecomp\u001b[49m\u001b[43m(\u001b[49m\u001b[38;5;124;43m'\u001b[39;49m\u001b[38;5;124;43mhello world!hello world!hello world!hello world!\u001b[39;49m\u001b[38;5;124;43m'\u001b[39;49m\u001b[43m)\u001b[49m\n",
      "Input \u001b[1;32mIn [51]\u001b[0m, in \u001b[0;36mdecomp\u001b[1;34m(s)\u001b[0m\n\u001b[0;32m      1\u001b[0m \u001b[38;5;28;01mdef\u001b[39;00m \u001b[38;5;21mdecomp\u001b[39m(s):\n\u001b[1;32m----> 2\u001b[0m     \u001b[38;5;28;01mreturn\u001b[39;00m \u001b[43mgzip\u001b[49m\u001b[38;5;241;43m.\u001b[39;49m\u001b[43mdecompress\u001b[49m\u001b[43m(\u001b[49m\u001b[43ms\u001b[49m\u001b[43m)\u001b[49m\n",
      "File \u001b[1;32m~\\Anaconda3\\lib\\gzip.py:555\u001b[0m, in \u001b[0;36mdecompress\u001b[1;34m(data)\u001b[0m\n\u001b[0;32m    551\u001b[0m \u001b[38;5;28;01mdef\u001b[39;00m \u001b[38;5;21mdecompress\u001b[39m(data):\n\u001b[0;32m    552\u001b[0m     \u001b[38;5;124;03m\"\"\"Decompress a gzip compressed string in one shot.\u001b[39;00m\n\u001b[0;32m    553\u001b[0m \u001b[38;5;124;03m    Return the decompressed string.\u001b[39;00m\n\u001b[0;32m    554\u001b[0m \u001b[38;5;124;03m    \"\"\"\u001b[39;00m\n\u001b[1;32m--> 555\u001b[0m     \u001b[38;5;28;01mwith\u001b[39;00m GzipFile(fileobj\u001b[38;5;241m=\u001b[39m\u001b[43mio\u001b[49m\u001b[38;5;241;43m.\u001b[39;49m\u001b[43mBytesIO\u001b[49m\u001b[43m(\u001b[49m\u001b[43mdata\u001b[49m\u001b[43m)\u001b[49m) \u001b[38;5;28;01mas\u001b[39;00m f:\n\u001b[0;32m    556\u001b[0m         \u001b[38;5;28;01mreturn\u001b[39;00m f\u001b[38;5;241m.\u001b[39mread()\n",
      "\u001b[1;31mTypeError\u001b[0m: a bytes-like object is required, not 'str'"
     ]
    }
   ],
   "source": [
    "decomp('hello world!hello world!hello world!hello world!')"
   ]
  },
  {
   "cell_type": "markdown",
   "id": "87ddcb3e",
   "metadata": {},
   "source": [
    "Question 6:\n",
    "\n",
    "Please write a binary search function which searches an item in a sorted list. The\n",
    "function should return the index of element to be searched in the list."
   ]
  },
  {
   "cell_type": "code",
   "execution_count": 58,
   "id": "30522f4f",
   "metadata": {},
   "outputs": [],
   "source": [
    "def search(l,n):\n",
    "    if n in l:\n",
    "        print(\"the index {} is {}\".format(n,l.index(n)))\n",
    "    if n not in l:\n",
    "        print(\"enter the no. present in list\")"
   ]
  },
  {
   "cell_type": "code",
   "execution_count": 59,
   "id": "746d7d96",
   "metadata": {},
   "outputs": [
    {
     "name": "stdout",
     "output_type": "stream",
     "text": [
      "the index 7 is 6\n"
     ]
    }
   ],
   "source": [
    "search([1,2,3,4,5,6,7,8,9,10],7)"
   ]
  },
  {
   "cell_type": "code",
   "execution_count": 60,
   "id": "eb026a4c",
   "metadata": {},
   "outputs": [
    {
     "name": "stdout",
     "output_type": "stream",
     "text": [
      "enter the no. present in list\n"
     ]
    }
   ],
   "source": [
    "search([1,2,3,4,5,6,7,8,9,10],12)"
   ]
  },
  {
   "cell_type": "code",
   "execution_count": null,
   "id": "c9fff18e",
   "metadata": {},
   "outputs": [],
   "source": []
  }
 ],
 "metadata": {
  "kernelspec": {
   "display_name": "Python 3 (ipykernel)",
   "language": "python",
   "name": "python3"
  },
  "language_info": {
   "codemirror_mode": {
    "name": "ipython",
    "version": 3
   },
   "file_extension": ".py",
   "mimetype": "text/x-python",
   "name": "python",
   "nbconvert_exporter": "python",
   "pygments_lexer": "ipython3",
   "version": "3.9.12"
  }
 },
 "nbformat": 4,
 "nbformat_minor": 5
}
